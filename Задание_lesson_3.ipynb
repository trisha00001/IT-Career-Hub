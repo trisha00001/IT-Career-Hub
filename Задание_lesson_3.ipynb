{
  "nbformat": 4,
  "nbformat_minor": 0,
  "metadata": {
    "colab": {
      "provenance": []
    },
    "kernelspec": {
      "name": "python3",
      "display_name": "Python 3"
    },
    "language_info": {
      "name": "python"
    }
  },
  "cells": [
    {
      "cell_type": "markdown",
      "source": [
        "1. Напишите программу, которая печатает на экране Hello World. Убедитесь, что она работает, в консоле виден результат, нет ошибок."
      ],
      "metadata": {
        "id": "ndyndAbzOdJe"
      }
    },
    {
      "cell_type": "code",
      "source": [],
      "metadata": {
        "id": "PWeRLQe1WHmN"
      },
      "execution_count": null,
      "outputs": []
    },
    {
      "cell_type": "markdown",
      "source": [
        "2. Вспоминаем базовые команды ввода-вывода. Прочитайте строку с клавиатур, например, ваше имя. Распечатайте приветствие “Hello, name”.\n"
      ],
      "metadata": {
        "id": "YDOqB5qIWI-8"
      }
    },
    {
      "cell_type": "code",
      "source": [],
      "metadata": {
        "id": "XxTrCcKjYWIA"
      },
      "execution_count": null,
      "outputs": []
    },
    {
      "cell_type": "markdown",
      "source": [
        "3. Какие типы данных вы знаете? Зачем они нужны? Можете привести пример ошибки при неправильном выборе типа данных? Можно сложить 2 (число) и “2” (строка)."
      ],
      "metadata": {
        "id": "v3S55M9NYWTR"
      }
    },
    {
      "cell_type": "code",
      "source": [],
      "metadata": {
        "id": "0Dx0zUewYb2h"
      },
      "execution_count": null,
      "outputs": []
    },
    {
      "cell_type": "markdown",
      "source": [
        "4. Напишите программу, которая считает и выводит на экран последовательно (по одному значению в каждой строчке) значения следующих математических выражений: «3 в степени 5» и «-8 разделить на -4»."
      ],
      "metadata": {
        "id": "4r5qUNQ7YcCA"
      }
    },
    {
      "cell_type": "code",
      "source": [],
      "metadata": {
        "id": "QvbV0b-qYhsS"
      },
      "execution_count": null,
      "outputs": []
    },
    {
      "cell_type": "markdown",
      "source": [
        "5. Представьте, что у вас есть три переменные: x=0.1, y=0.2, z=0.3. Напишите программу, которая складывает эти три числа и печатает результат."
      ],
      "metadata": {
        "id": "-nTJ9UUOYh3p"
      }
    },
    {
      "cell_type": "markdown",
      "source": [
        "Допустим, что эти три слагаемых представляют количество центов в евро, т.е. 0.1 - это 10 евроцентов, 0.2 - это 20 евро центов. Посмотрите на сумму слагаемых. Не смущает ли вас результат? В чем именно непорядок? Каким типом данных можно представить деньги в Пайтоне, чтобы избежать наблюдаемую проблему?"
      ],
      "metadata": {
        "id": "z-pHBTcAYkbm"
      }
    },
    {
      "cell_type": "code",
      "source": [],
      "metadata": {
        "id": "n8u2OvEDYoNd"
      },
      "execution_count": null,
      "outputs": []
    },
    {
      "cell_type": "markdown",
      "source": [
        "\n",
        "6. Сейчас на часах 9 часов 45 минут утра. Напишите программу, которая считает количество секунд, прошедшее с полуночи.\n"
      ],
      "metadata": {
        "id": "ix03M5JzYoXj"
      }
    },
    {
      "cell_type": "code",
      "source": [],
      "metadata": {
        "id": "1su2zzc_dx5n"
      },
      "execution_count": null,
      "outputs": []
    },
    {
      "cell_type": "markdown",
      "source": [
        "7. А если сейчас 10 часов 3 минуты утра, как изменится программа?\n"
      ],
      "metadata": {
        "id": "nMhsN-lHdyR4"
      }
    },
    {
      "cell_type": "code",
      "source": [],
      "metadata": {
        "id": "ubH-XZDWd3SY"
      },
      "execution_count": null,
      "outputs": []
    },
    {
      "cell_type": "markdown",
      "source": [
        "8. А если любое другое время в течение дня, как изменится программа?\n"
      ],
      "metadata": {
        "id": "rHZEytEod3hY"
      }
    },
    {
      "cell_type": "code",
      "source": [],
      "metadata": {
        "id": "PKBVxTg7nmFK"
      },
      "execution_count": null,
      "outputs": []
    },
    {
      "cell_type": "markdown",
      "source": [
        "9.\n",
        "Выделите строки, которые одинаковы в решениях задачи 6, 7 и 8 и строки, которые отличаются. В дальнейшем вы узнаете, что писать одинаковый код - плохая практика. Повторяющийся код обычно выносят в функции, а когда надо этот код запустить - вызывают функцию по имени. Чтобы функция произвела вычисления, ей указывают параметры, то есть значения с которыми она работает (входные параметры). А чтобы узнать результат работы функции, она возвращает значение. С функциями вы уже сталкивались, например, функция pow(2, 3), где 2 и 3 - входные параметры, а возвращает она 8 (2*2*2).\n"
      ],
      "metadata": {
        "id": "7HSZIH_unmRE"
      }
    },
    {
      "cell_type": "code",
      "source": [],
      "metadata": {
        "id": "nWfNPoExnqi4"
      },
      "execution_count": null,
      "outputs": []
    },
    {
      "cell_type": "markdown",
      "source": [
        "10. Дан прямоугольный треугольник с катетами 3 и 4 метра. Напишите программу, которая считает длину гипотенузы.\n"
      ],
      "metadata": {
        "id": "jb91sa2OnquD"
      }
    },
    {
      "cell_type": "code",
      "source": [],
      "metadata": {
        "id": "Sje_0Orpnuiv"
      },
      "execution_count": null,
      "outputs": []
    },
    {
      "cell_type": "markdown",
      "source": [
        "11. Дан прямоугольный треугольник с катетами 3 и 4 метра. Напишите программу, которая считает длину гипотенузы.\n"
      ],
      "metadata": {
        "id": "pkm-uFGinuqG"
      }
    },
    {
      "cell_type": "code",
      "source": [],
      "metadata": {
        "id": "kTlQ6dArnxz5"
      },
      "execution_count": null,
      "outputs": []
    },
    {
      "cell_type": "markdown",
      "source": [
        "11. Поменяйте размеры катетов в задаче 10. Выведите результат с точностью до двух знаков после запятой.\n"
      ],
      "metadata": {
        "id": "oseUwlMrnx8G"
      }
    },
    {
      "cell_type": "code",
      "source": [],
      "metadata": {
        "id": "V1-7TYEcnzEI"
      },
      "execution_count": null,
      "outputs": []
    },
    {
      "cell_type": "markdown",
      "source": [
        "12. Посчитайте в уме результат выражения 10+3*(7-3)/2. Напишите программу, которая вычислит значение выражение. Проверьте себя."
      ],
      "metadata": {
        "id": "qzp29CyIoZFV"
      }
    },
    {
      "cell_type": "code",
      "source": [],
      "metadata": {
        "id": "-sVKtNXeoeP9"
      },
      "execution_count": null,
      "outputs": []
    },
    {
      "cell_type": "markdown",
      "source": [
        "13.  В программе вводится значение числа и сохраняется через переменную d. Необходимо продолжить эту программу. Вычислите модуль числа d и выведите результат (модуль) в консоль с помощью функции print."
      ],
      "metadata": {
        "id": "Jc1nozZdpSep"
      }
    },
    {
      "cell_type": "code",
      "source": [],
      "metadata": {
        "id": "w1lbXfjepSqq"
      },
      "execution_count": null,
      "outputs": []
    },
    {
      "cell_type": "markdown",
      "source": [
        "14. Напишите текст программы для нахождения минимального значения из пяти введенных целых чисел с выводом результата в консоль (минимального значения) с помощью функции print."
      ],
      "metadata": {
        "id": "gQ-K9JGepS75"
      }
    },
    {
      "cell_type": "code",
      "source": [],
      "metadata": {
        "id": "qgGV-5xRpTLB"
      },
      "execution_count": null,
      "outputs": []
    },
    {
      "cell_type": "markdown",
      "source": [
        "15. Напишите текст программы для нахождения максимальных значений из пяти введенных целых чисел с выводом результата (максимального значения) в консоль с помощью функции print."
      ],
      "metadata": {
        "id": "aGKYFmTXpTVO"
      }
    },
    {
      "cell_type": "code",
      "source": [],
      "metadata": {
        "id": "1p2LU2k1pThW"
      },
      "execution_count": null,
      "outputs": []
    },
    {
      "cell_type": "markdown",
      "source": [
        "# Дополнительно"
      ],
      "metadata": {
        "id": "WvWtpbu7nIHF"
      }
    },
    {
      "cell_type": "markdown",
      "source": [
        "**1.** Вычислите 10!. Выведите на экран вычисленное значение.\n",
        "\n",
        "Пояснение\n",
        "\n",
        " n!= 1\\*2*3.....n\n",
        "\n",
        "В данной задаче нужно просто перемножить значения от 1 до 10 (без использования специальных операторов)"
      ],
      "metadata": {
        "id": "E-FyesCLEiAF"
      }
    },
    {
      "cell_type": "code",
      "execution_count": null,
      "metadata": {
        "id": "GDKyjGn0Eerd"
      },
      "outputs": [],
      "source": []
    },
    {
      "cell_type": "markdown",
      "source": [
        "**2.** Для подготовки к экзамену Рон каждый день учит x заклинаний, а Гермиона на y заклинаний больше. Сколько заклинаний они выучат вместе через n дней.\n",
        "\n",
        "В первой строке вводится x – количество заклинаний, которые учит Рон.\n",
        "\n",
        "Во второй строке y – на сколько заклинаний больше учит Гермиона.\n",
        "\n",
        "Тест\n",
        "\n",
        "5\n",
        "\n",
        "12\n",
        "\n",
        "10\n",
        "\n",
        "Ответ\n",
        "\n",
        "220"
      ],
      "metadata": {
        "id": "Ry6-Ff69EjWl"
      }
    },
    {
      "cell_type": "code",
      "source": [],
      "metadata": {
        "id": "38LeUGOjEjo0"
      },
      "execution_count": null,
      "outputs": []
    },
    {
      "cell_type": "markdown",
      "source": [
        "**3.** На вход программе подаются два целых числа a и b. Напишите программу, которая выводит:\n",
        "\n",
        "- сумму чисел a и b;\n",
        "- разность чисел a и b;\n",
        "- произведение чисел a и b;\n",
        "- частное чисел a и b;\n",
        "- целую часть от деления числа a на b;\n",
        "- остаток от деления числа a на b;\n",
        "- корень квадратный из b.\n",
        "\n",
        "Формат входных данных\n",
        "\n",
        "На вход программе подаются два целых числа a и b, каждое на отдельной строке.\n",
        "\n",
        "Формат выходных данных\n",
        "Программа должна вывести результаты математических операций в соответствии с условием задачи."
      ],
      "metadata": {
        "id": "Q3HTQ8LNEj3D"
      }
    },
    {
      "cell_type": "code",
      "source": [],
      "metadata": {
        "id": "XCCY81ESEkBx"
      },
      "execution_count": null,
      "outputs": []
    },
    {
      "cell_type": "markdown",
      "source": [
        "**4.** Посчитать среднее арифметическое 4 элементов типа float"
      ],
      "metadata": {
        "id": "2XmQYcMNEkPK"
      }
    },
    {
      "cell_type": "code",
      "source": [],
      "metadata": {
        "id": "ApkePPSvEkfs"
      },
      "execution_count": null,
      "outputs": []
    },
    {
      "cell_type": "markdown",
      "source": [
        "**5.** Запишите букву 'A' (латинскую, заглавную) 100 раз подряд. Сдайте на проверку программу, которая выводит эту строчку(только буквы, без кавычек).\n",
        "\n",
        "Пояснение. Посмотрите как работают операторы + и * в строках\n",
        "\n",
        "str1 = 'Hello'\n",
        "\n",
        "str2 ='World!'\n",
        "\n",
        "#+\n",
        "print('str1 + str2 = ', str1 + str2)\n",
        "\n",
        "# *\n",
        "print('str1 * 3 =', str1 * 3)"
      ],
      "metadata": {
        "id": "9p1DcT3jI8a0"
      }
    },
    {
      "cell_type": "code",
      "source": [],
      "metadata": {
        "id": "KExkfVU9JEdb"
      },
      "execution_count": null,
      "outputs": []
    },
    {
      "cell_type": "markdown",
      "source": [
        "**6.** На вход поступает целое число.\n",
        "\n",
        "Программа должна вывести True, если введенное значение является положительным числом, в противном случае - False.\n",
        "\n",
        "Сделать задачу необходимо без использования условного оператора."
      ],
      "metadata": {
        "id": "DGrFhMnYJEmK"
      }
    },
    {
      "cell_type": "code",
      "source": [],
      "metadata": {
        "id": "1PirZb09JIIj"
      },
      "execution_count": null,
      "outputs": []
    },
    {
      "cell_type": "markdown",
      "source": [
        "![image.png](data:image/png;base64,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)"
      ],
      "metadata": {
        "id": "lQpVKh789kmS"
      }
    },
    {
      "cell_type": "markdown",
      "source": [
        "**7.** Дано натуральное число. Выведите его последнюю цифру."
      ],
      "metadata": {
        "id": "f4UxKrxtJIQz"
      }
    },
    {
      "cell_type": "code",
      "source": [],
      "metadata": {
        "id": "exIQ3V2AJNZ6"
      },
      "execution_count": null,
      "outputs": []
    },
    {
      "cell_type": "markdown",
      "source": [
        "**8.** Вводится вещественное число и нам нужно его округлить до 2 и 3 разряда после запятой и вывести полученный результат через пробел в одной строчке. (Примечание используйте функцию round())\n",
        "\n"
      ],
      "metadata": {
        "id": "Cd325y-nJNi6"
      }
    },
    {
      "cell_type": "code",
      "source": [],
      "metadata": {
        "id": "WL-eDjqOJuOc"
      },
      "execution_count": null,
      "outputs": []
    },
    {
      "cell_type": "markdown",
      "source": [
        "**9.** Дано трехзначное число. Найдите сумму его цифр."
      ],
      "metadata": {
        "id": "me6u6XjVJuXE"
      }
    },
    {
      "cell_type": "code",
      "source": [],
      "metadata": {
        "id": "r-CNlPAIJ4IL"
      },
      "execution_count": null,
      "outputs": []
    },
    {
      "cell_type": "code",
      "source": [
        "# напоминание\n",
        "\n",
        "print(1, 2, 3, 4)\n",
        "print(1, 2, 3, 4, sep='*')\n",
        "print(1, 2, 3, 4, sep='#', end='&')"
      ],
      "metadata": {
        "colab": {
          "base_uri": "https://localhost:8080/"
        },
        "id": "gbLaS20cpHu3",
        "outputId": "5bb9a8b2-95c4-48c2-b000-ee5da48f4e5c"
      },
      "execution_count": 1,
      "outputs": [
        {
          "output_type": "stream",
          "name": "stdout",
          "text": [
            "1 2 3 4\n",
            "1*2*3*4\n",
            "1#2#3#4&"
          ]
        }
      ]
    },
    {
      "cell_type": "markdown",
      "source": [
        "**10.** Напишите программу, которая выводит на экран текст «I\\*\\*\\*like***Python» (без кавычек).\n",
        "\n",
        "Примечание. Используйте необязательный параметр sep."
      ],
      "metadata": {
        "id": "Nc5mGRAEJ4R7"
      }
    },
    {
      "cell_type": "code",
      "source": [],
      "metadata": {
        "id": "Q11aYozoJ8HT"
      },
      "execution_count": null,
      "outputs": []
    },
    {
      "cell_type": "markdown",
      "source": [
        "**11.** Напишите программу, которая находит сумму, произведение и среднее арифметическое трёх целых чисел, введённых с клавиатуры.\n",
        "\n",
        "Входные данные\n",
        "\n",
        "Три целых числа вводятся c новой строчки.\n",
        "\n",
        "Выходные данные\n",
        "\n",
        "Программа должна вывести сумму, произведение и среднее арифметическое введенных чисел. Среднее арифметическое нужно вывести с точностью 3 знака после десятичной точки.\n",
        "\n",
        "<img src=\"https://github.com/trisha00001/file/blob/main/346.png?raw=true\">"
      ],
      "metadata": {
        "id": "O88wxZ-jJ8SL"
      }
    },
    {
      "cell_type": "code",
      "source": [],
      "metadata": {
        "id": "dkOu8-TBLv1c"
      },
      "execution_count": null,
      "outputs": []
    },
    {
      "cell_type": "markdown",
      "source": [
        "**12.** Напишите программу, которая считывает строку-разделитель и три строки, а затем выводит указанные строки через разделитель. Формат входных данных На вход программе подаётся строка-разделитель и три строки, каждая на отдельной строке. Формат выходных данных Программа должна вывести введённые три строки через разделитель.\n",
        "\n",
        "Примечание 1. Для считывания текста используйте команду input(), для печати текста на экране используйте команду print().\n",
        "\n",
        "Примечание 2. Используйте необязательный параметр sep.\n",
        "\n",
        "\n",
        "<img src=\"https://github.com/trisha00001/file/blob/main/3468.png?raw=true\">"
      ],
      "metadata": {
        "id": "de1fLCGBLwKL"
      }
    },
    {
      "cell_type": "code",
      "source": [],
      "metadata": {
        "id": "8rC5wiTlLy70"
      },
      "execution_count": null,
      "outputs": []
    },
    {
      "cell_type": "markdown",
      "source": [
        "**13.** Напишите программу, которая считывает слово, затем выводит:\n",
        "\n",
        "«Что Вы сказали? [это слово] ? Какое интересное слово».\n",
        "\n",
        "\n",
        "<img src=\"https://github.com/trisha00001/file/blob/main/3455.png?raw=true\">"
      ],
      "metadata": {
        "id": "7BuntQmpLxUs"
      }
    },
    {
      "cell_type": "code",
      "source": [],
      "metadata": {
        "id": "Jhly77NNL1VE"
      },
      "execution_count": null,
      "outputs": []
    },
    {
      "cell_type": "markdown",
      "source": [
        "**14.** Напишите программу, которая возводит введенное число в степень 10.\n",
        "\n",
        "Входные данные: входная строка содержит единственное вещественное число в диапазоне от 0 до 8.\n",
        "\n",
        "Выходные данные: следует вывести 10-ю степень полученного числа с тремя знаками в дробной части.\n",
        "\n",
        "<img src=\"https://github.com/trisha00001/file/blob/main/456.png?raw=true\">"
      ],
      "metadata": {
        "id": "fI8Ymq8iLzkb"
      }
    },
    {
      "cell_type": "code",
      "source": [],
      "metadata": {
        "id": "y-NTpspoL1yc"
      },
      "execution_count": null,
      "outputs": []
    },
    {
      "cell_type": "markdown",
      "source": [
        "**15.** Напишите программу, которая вычислит решение следующей задачи.\n",
        "\n",
        "Товар стоит a руб. b коп. За него заплатили c руб. d коп. Сколько сдачи требуется получить?\n",
        "\n",
        "Входные данные: вводятся 4 числа: a, b, c и d.\n",
        "Выходные данные:  необходимо вывести 2 числа: e и f, число рублей и копеек, соответственно. Формат вывода: \"Ваша сдача составляет e руб. f коп.\"\n",
        "Примечание: ввод и вывод данных производятся через стандартные потоки ввода-вывода.\n",
        "\n",
        "\n",
        "<img src=\"https://github.com/trisha00001/file/blob/main/5%D0%BA677.png?raw=true\">"
      ],
      "metadata": {
        "id": "fGYg-iiWL2JF"
      }
    },
    {
      "cell_type": "code",
      "source": [],
      "metadata": {
        "id": "KPRsBQCCL5Gs"
      },
      "execution_count": null,
      "outputs": []
    }
  ]
}