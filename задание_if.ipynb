{
  "nbformat": 4,
  "nbformat_minor": 0,
  "metadata": {
    "colab": {
      "provenance": []
    },
    "kernelspec": {
      "name": "python3",
      "display_name": "Python 3"
    },
    "language_info": {
      "name": "python"
    }
  },
  "cells": [
    {
      "cell_type": "markdown",
      "source": [
        "![xkcd_python](https://github.com/trisha00001/IT-Career-Hub/blob/main/image/image%20(17).png?raw=true)"
      ],
      "metadata": {
        "id": "akBVXy_cCsdH"
      }
    },
    {
      "cell_type": "markdown",
      "source": [
        "Даны два целых числа a и b. Напишите программу, которая находит большее из двух чисел и печатает сообщение, какое число больше."
      ],
      "metadata": {
        "id": "VOLcEBCyTPfF"
      }
    },
    {
      "cell_type": "code",
      "execution_count": null,
      "metadata": {
        "id": "qbzgM__VTOAI"
      },
      "outputs": [],
      "source": []
    },
    {
      "cell_type": "markdown",
      "source": [
        "2.\n",
        "Напишите программу, которая находит наибольшее из трех чисел."
      ],
      "metadata": {
        "id": "KDd-IoJRTW3_"
      }
    },
    {
      "cell_type": "code",
      "source": [],
      "metadata": {
        "id": "sbDU16yqTd6E"
      },
      "execution_count": null,
      "outputs": []
    },
    {
      "cell_type": "markdown",
      "source": [
        "3. Есть логическая переменная  weekday. Напишите программу, которая выводит сообщение “рабочий день”, если переменная истинна и сообщение “выходной” - если ложна."
      ],
      "metadata": {
        "id": "k_J9L2q1TeW5"
      }
    },
    {
      "cell_type": "code",
      "source": [],
      "metadata": {
        "id": "WgGNQzpRTi7W"
      },
      "execution_count": null,
      "outputs": []
    },
    {
      "cell_type": "markdown",
      "source": [
        "4. У нас есть две логические переменные: isWeekday, isVacation (выходной день и каникулы). Они могут принимать разные значения, всего 4 комбинации: true - true, true - false, false - false, false - true. Есть правило: мы можем поспать, если день не рабочий или мы на каникулах. Напишите программу, которая в зависимости от значений двух переменных печатает, можем ли мы поспать или нет. То есть для значений isWeekday = False и isVacation = False программа должна печатать “можете поспать”."
      ],
      "metadata": {
        "id": "ClOEQpvWTjQk"
      }
    },
    {
      "cell_type": "code",
      "source": [],
      "metadata": {
        "id": "yQUwzzsbjdu6"
      },
      "execution_count": null,
      "outputs": []
    },
    {
      "cell_type": "markdown",
      "source": [
        "5. У вас есть целое число X. Нужно написать программу, которая напечатает разницу между числом 21 и X, если X<=21 и напечатает удвоенную разницу 21 и X в противном случае.\n",
        "\n"
      ],
      "metadata": {
        "id": "bR1RAcQqjeiq"
      }
    },
    {
      "cell_type": "code",
      "source": [],
      "metadata": {
        "id": "m0Pz48-Wjoz6"
      },
      "execution_count": null,
      "outputs": []
    },
    {
      "cell_type": "markdown",
      "source": [
        "6. У вас есть целое число X. Напишите программу, которая печатает разницу 100 и X, если X больше 10 и меньше 100, и печатает X - в противном случае."
      ],
      "metadata": {
        "id": "HL7C4cMHjkjY"
      }
    },
    {
      "cell_type": "code",
      "source": [],
      "metadata": {
        "id": "LwXDbY_0jdwa"
      },
      "execution_count": null,
      "outputs": []
    },
    {
      "cell_type": "markdown",
      "source": [
        "7. У нас есть две обезьяны a и b. Они могут улыбаться или не улыбаться. Если они одновременно улыбаются или не улыбаются, то у нас проблемы. Написать программы, которые печатают есть ли у нас проблемы в зависимости от улыбчивости обезьян."
      ],
      "metadata": {
        "id": "w5s0sc4JwKWZ"
      }
    },
    {
      "cell_type": "code",
      "source": [],
      "metadata": {
        "id": "bfQfL9McwKl3"
      },
      "execution_count": null,
      "outputs": []
    },
    {
      "cell_type": "markdown",
      "source": [
        "8. У нас есть два целых числа. Напишите программу, которая печатает их сумму. Если, однако, числа равны, то программа печатает их удвоенную сумму."
      ],
      "metadata": {
        "id": "6oZkzDnPwK19"
      }
    },
    {
      "cell_type": "code",
      "source": [],
      "metadata": {
        "id": "BIz58pQ7wLBv"
      },
      "execution_count": null,
      "outputs": []
    },
    {
      "cell_type": "markdown",
      "source": [
        "9. Есть два целых числа. Напишите программу, которая печатает True, если одно из чисел равно 10 или их сумма равна 10."
      ],
      "metadata": {
        "id": "11IkhJTpwUtF"
      }
    },
    {
      "cell_type": "code",
      "source": [],
      "metadata": {
        "id": "bCTmHJuZwXzN"
      },
      "execution_count": null,
      "outputs": []
    },
    {
      "cell_type": "markdown",
      "source": [
        "10. У нас есть громкий попугай. У нас проблемы, если попугай говорит громко до 7 утра и после 20.00. Напишите программу, которая печатает True если у нас проблемы и False - иначе. Подсказка: используйте две переменные: isTalking - логическая переменная и hour - целое число в диапазоне 0..23. Подумайте, как должна вести себя программа, если значение hour - за пределами 0..23. Запрограммируйте это поведение."
      ],
      "metadata": {
        "id": "Xolh20IGwX-O"
      }
    },
    {
      "cell_type": "code",
      "source": [],
      "metadata": {
        "id": "SFG9DUYowcNH"
      },
      "execution_count": null,
      "outputs": []
    },
    {
      "cell_type": "markdown",
      "source": [
        "#Дополнительно"
      ],
      "metadata": {
        "id": "5wT7sX8YwcbW"
      }
    },
    {
      "cell_type": "markdown",
      "source": [
        "1. Даны две строки. Выведите сообщение \"YES\", если каждый символ первой строки совпадает с каждым символом второй строки, то есть строки совпадают. Выведите \"NO\", если строки не совпадают.\n",
        "\n",
        "Указание: Равенство строк определяется с помощью знака ==.\n",
        "\n",
        "<table class=\"iksweb\">\n",
        "\t<tbody>\n",
        "\t\t<tr>\n",
        "\t\t\t<td>Ввод</td>\n",
        "\t\t\t<td>Вывод</td>\n",
        "\t\t</tr>\n",
        "\t\t<tr>\n",
        "\t\t\t<td>abc<br>abcd</td>\n",
        "\t\t\t<td>NO</td>\n",
        "\t\t</tr>\n",
        "\t</tbody>\n",
        "</table>\n"
      ],
      "metadata": {
        "id": "wAKsqzpV5AEF"
      }
    },
    {
      "cell_type": "code",
      "source": [],
      "metadata": {
        "id": "UENBsM16wgXm"
      },
      "execution_count": null,
      "outputs": []
    },
    {
      "cell_type": "markdown",
      "source": [
        "2. Найдите максимум из двух чисел.\n",
        "\n",
        "Входные данные\n",
        "\n",
        "Даны два целых числа, каждое число записано в отдельной строке.\n",
        "\n",
        "Выходные данные\n",
        "\n",
        "Выведите наибольшее из данных чисел.\n",
        "\n",
        "<table class=\"iksweb\">\n",
        "\t<tbody>\n",
        "\t\t<tr>\n",
        "\t\t\t<td>Ввод</td>\n",
        "\t\t\t<td>Вывод</td>\n",
        "\t\t</tr>\n",
        "\t\t<tr>\n",
        "\t\t\t<td>1<br>2</td>\n",
        "\t\t\t<td>2</td>\n",
        "\t\t</tr>\n",
        "\t</tbody>\n",
        "</table>"
      ],
      "metadata": {
        "id": "U21ZBYnc5BJo"
      }
    },
    {
      "cell_type": "code",
      "source": [],
      "metadata": {
        "id": "bfqU3MGM5BTf"
      },
      "execution_count": null,
      "outputs": []
    },
    {
      "cell_type": "markdown",
      "source": [
        "3. В математике функция sign(x) (знак числа) определена так:\n",
        "\n",
        "sign(x) = 1, если x > 0,\n",
        "\n",
        "sign(x) = -1, если x < 0,\n",
        "\n",
        "sign(x) = 0, если x = 0.\n",
        "\n",
        "Для данного числа x выведите значение sign(x). Эту задачу желательно решить с использованием каскадных инструкций if... elif... else\n",
        "\n",
        "\n",
        "<table class=\"iksweb\">\n",
        "\t<tbody>\n",
        "\t\t<tr>\n",
        "\t\t\t<td>Ввод</td>\n",
        "\t\t\t<td>Вывод</td>\n",
        "\t\t</tr>\n",
        "\t\t<tr>\n",
        "\t\t\t<td>1547</td>\n",
        "\t\t\t<td>1</td>\n",
        "\t\t</tr>\n",
        "    \t\t<tr>\n",
        "\t\t\t<td>-15</td>\n",
        "\t\t\t<td>-1</td>\n",
        "\t\t</tr>\n",
        "\n",
        "<tr>\n",
        "\t\t\t<td>0</td>\n",
        "\t\t\t<td>0</td>\n",
        "\t\t</tr>\n",
        "\t</tbody>\n",
        "</table>"
      ],
      "metadata": {
        "id": "VnLt4x535Bgw"
      }
    },
    {
      "cell_type": "code",
      "source": [],
      "metadata": {
        "id": "jXthSmGA5Buv"
      },
      "execution_count": null,
      "outputs": []
    },
    {
      "cell_type": "markdown",
      "source": [
        "4. Даны три целых числа. Определите, сколько среди них совпадающих. Программа должна вывести одно из чисел: 3 (если все совпадают), 2 (если два совпадает) или 0 (если все числа различны).\n",
        "\n",
        "Входные данные\n",
        "\n",
        "Вводятся три целых числа.\n",
        "\n",
        "Выходные данные\n",
        "\n",
        "Выведите ответ на задачу.\n",
        "\n",
        "<table class=\"iksweb\">\n",
        "\t<tbody>\n",
        "\t\t<tr>\n",
        "\t\t\t<td>Ввод</td>\n",
        "\t\t\t<td>Вывод</td>\n",
        "\t\t</tr>\n",
        "\t\t<tr>\n",
        "\t\t\t<td>1<br>2<br>3</td>\n",
        "\t\t\t<td>0</td>\n",
        "\t\t</tr>\n",
        "    \t\t<tr>\n",
        "\t\t\t<td>3<br>2<br>3</td>\n",
        "\t\t\t<td>2</td>\n",
        "\t\t</tr>\n",
        "\t</tbody>\n",
        "</table>"
      ],
      "metadata": {
        "id": "DCe77ksU5B44"
      }
    },
    {
      "cell_type": "code",
      "source": [],
      "metadata": {
        "id": "viFPN-bN5CCY"
      },
      "execution_count": null,
      "outputs": []
    },
    {
      "cell_type": "markdown",
      "source": [
        "5. Напишите программу, которая вводит с клавиатуры номер месяца и определяет, сколько дней в этом месяце. При вводе неверного номера месяца должно быть выведено сообщение об ошибке. Считается, что год невисокосный.\n",
        "\n",
        " Входные данные\n",
        "\n",
        " Входная строка содержит единственное целое число – номер месяца (возможно, неправильный).\n",
        "\n",
        " Выходные данные\n",
        "\n",
        " Выходная строка должна содержать одно целое число – количество дней в этом месяце или 0, если был введён неверный номер месяца.\n",
        "  \n",
        "\n",
        "<table class=\"iksweb\">\n",
        "\t<tbody>\n",
        "\t\t<tr>\n",
        "\t\t\t<td>Ввод</td>\n",
        "\t\t\t<td>Вывод</td>\n",
        "\t\t</tr>\n",
        "\t\t<tr>\n",
        "\t\t\t<td>4</td>\n",
        "\t\t\t<td>30</td>\n",
        "\t\t</tr>\n",
        "   <tr>\n",
        "\t\t\t<td>12</td>\n",
        "\t\t\t<td>31</td>\n",
        "\t\t</tr>\n",
        "\n",
        "\n",
        "\t</tbody>\n",
        "</table>"
      ],
      "metadata": {
        "id": "i1zlsSUz5CR3"
      }
    },
    {
      "cell_type": "code",
      "source": [],
      "metadata": {
        "id": "7muDpLT-5Cbw"
      },
      "execution_count": null,
      "outputs": []
    },
    {
      "cell_type": "markdown",
      "source": [
        "6. Напишите программу, которая вводит номер месяца и выводит название времени года на английском языке. При вводе неверного номера месяца должно быть выведено слово 'NO'.\n",
        "\n",
        "Входные данные\n",
        "\n",
        "Входная строка содержит единственное число – номер месяца (возможно, неверный).\n",
        "\n",
        "Выходные данные\n",
        "\n",
        "Нужно вывести название времени года (на английском языке), соответствующее введённому номеру месяца ('winter' – зима, 'spring' – весна, 'summer' – лето, 'autumn' – осень). Если введён неверный номер месяца, программы должна вывести слово 'NO'.\n",
        "\n",
        "<table class=\"iksweb\">\n",
        "\t<tbody>\n",
        "\t\t<tr>\n",
        "\t\t\t<td>Ввод</td>\n",
        "\t\t\t<td>Вывод</td>\n",
        "\t\t</tr>\n",
        "\t\t<tr>\n",
        "\t\t\t<td>4</td>\n",
        "\t\t\t<td>spring</td>\n",
        "\t\t</tr>\n",
        "\t</tbody>\n",
        "</table>\n",
        "\n"
      ],
      "metadata": {
        "id": "ORNxKOnJ5CnY"
      }
    },
    {
      "cell_type": "code",
      "source": [],
      "metadata": {
        "id": "uMfqa5_B5Cyw"
      },
      "execution_count": null,
      "outputs": []
    },
    {
      "cell_type": "markdown",
      "source": [
        "7. На вход программы подаётся количество конфет и количество детей. Надо раздать всем ребятам одинаковое количество конфет. Но количество конфет таково, что они могут быть все распределены между детьми, а может появиться остаток. Программа должна вывести \"yes\", если есть остаток и \"no\", если остатка не было.\n",
        "\n",
        "Указание: обратите внимание, что yes и no записаны малыми буквами!\n",
        "\n",
        "<table class=\"iksweb\">\n",
        "\t<tbody>\n",
        "\t\t<tr>\n",
        "\t\t\t<td>Ввод</td>\n",
        "\t\t\t<td>Вывод</td>\n",
        "\t\t</tr>\n",
        "\t\t<tr>\n",
        "\t\t\t<td>24<br>8</td>\n",
        "\t\t\t<td>no</td>\n",
        "\t\t</tr>\n",
        "\t</tbody>\n",
        "</table>"
      ],
      "metadata": {
        "id": "dOy0KTKsAsmx"
      }
    },
    {
      "cell_type": "code",
      "source": [],
      "metadata": {
        "id": "9boopiR2AttQ"
      },
      "execution_count": null,
      "outputs": []
    },
    {
      "cell_type": "markdown",
      "source": [
        "8. Напишите программу, в которую пользователь вводит число от 1 до 100. Используйте вложенный оператор if, чтобы сначала убедиться, что число находится в пределах этого диапазона. А затем при выполнении этого условия определите, является ли введенное число больше, меньше или равным 50. И выведите результат на консоль."
      ],
      "metadata": {
        "id": "BX002w7ZH4ou"
      }
    },
    {
      "cell_type": "code",
      "source": [],
      "metadata": {
        "id": "kxugqeAzIGR3"
      },
      "execution_count": null,
      "outputs": []
    },
    {
      "cell_type": "markdown",
      "source": [
        "# Тернарный опретор\n"
      ],
      "metadata": {
        "id": "qNo549q0BYr3"
      }
    },
    {
      "cell_type": "markdown",
      "source": [
        "![xkcd_python](https://github.com/trisha00001/IT-Career-Hub/blob/main/image/image%20(16).png?raw=true)"
      ],
      "metadata": {
        "id": "kJfTKwxqCbFz"
      }
    },
    {
      "cell_type": "markdown",
      "source": [
        "![xkcd_python](https://github.com/trisha00001/IT-Career-Hub/blob/main/image/7689.png?raw=true)"
      ],
      "metadata": {
        "id": "HaIbWijTCrUI"
      }
    },
    {
      "cell_type": "markdown",
      "source": [
        "1. Вводятся три целых числа. Необходимо определить, существует ли треугольник с такими сторонами. В ответ выведите \"Yes\"/\"No\".\n",
        "\n",
        "Подсказка:\n",
        "\n",
        "У треугольника сумма любых двух сторон должна быть больше третьей.\n",
        "<table class=\"iksweb\">\n",
        "\t<tbody>\n",
        "\t\t<tr>\n",
        "\t\t\t<td>Ввод</td>\n",
        "\t\t\t<td>Вывод</td>\n",
        "\t\t</tr>\n",
        "\t\t<tr>\n",
        "\t\t\t<td>3<br>4<br>5</td>\n",
        "\t\t\t<td>Yes</td>\n",
        "\t\t</tr>\n",
        "\t</tbody>\n",
        "</table>"
      ],
      "metadata": {
        "id": "6_2JYaItAt3A"
      }
    },
    {
      "cell_type": "code",
      "source": [],
      "metadata": {
        "id": "OxUIGJOIBjIJ"
      },
      "execution_count": null,
      "outputs": []
    },
    {
      "cell_type": "markdown",
      "source": [
        "2. На вход программе поступает целое число\n",
        "\n",
        "Ваша задача сохранить в переменную text  строку Even, если введенное число четное, иначе сохраните строку Odd\n",
        "\n",
        "В качестве ответа необходимо вывести переменную text"
      ],
      "metadata": {
        "id": "b8RQKN3yItAm"
      }
    },
    {
      "cell_type": "code",
      "source": [],
      "metadata": {
        "id": "eSHIot0jItIW"
      },
      "execution_count": null,
      "outputs": []
    },
    {
      "cell_type": "markdown",
      "source": [
        "3. Рассчитать значение у при заданном значении х\n",
        "\n",
        "\n",
        "\n",
        "![xkcd_python](https://github.com/trisha00001/IT-Career-Hub/blob/main/image/image%20(15).png?raw=true)\n",
        "\n",
        "\n",
        "<table class=\"iksweb\">\n",
        "\t<tbody>\n",
        "\t\t<tr>\n",
        "\t\t\t<td>Ввод</td>\n",
        "\t\t\t<td>Вывод</td>\n",
        "\t\t</tr>\n",
        "\t\t<tr>\n",
        "\t\t\t<td>30</td>\n",
        "\t\t\t<td>0.9762064902075782</td>\n",
        "\t\t</tr>\n",
        "\t</tbody>\n",
        "</table>"
      ],
      "metadata": {
        "id": "KG0TS6iyBjRA"
      }
    },
    {
      "cell_type": "code",
      "source": [],
      "metadata": {
        "id": "yQYkwJgDBkCY"
      },
      "execution_count": null,
      "outputs": []
    },
    {
      "cell_type": "markdown",
      "source": [
        "4. Напишите программу, которая в первой строве считывает пароль, во второй его подтверждение. Затем программа сравнивает пароль и его подтверждение. Если они совпадают, то программа выводит: «Пароль принят», иначе: «Пароль не принят».\n",
        "\n",
        "\n",
        "<table class=\"iksweb\">\n",
        "\t<tbody>\n",
        "\t\t<tr>\n",
        "\t\t\t<td>Ввод</td>\n",
        "\t\t\t<td>Вывод</td>\n",
        "\t\t</tr>\n",
        "\t\t<tr>\n",
        "\t\t\t<td>пароль<br>пароль</td>\n",
        "\t\t\t<td>Пароль принят</td>\n",
        "\t\t</tr>\n",
        "\t</tbody>\n",
        "</table>"
      ],
      "metadata": {
        "id": "661wq4-iBklQ"
      }
    },
    {
      "cell_type": "code",
      "source": [],
      "metadata": {
        "id": "Shhx611bBlSA"
      },
      "execution_count": null,
      "outputs": []
    },
    {
      "cell_type": "markdown",
      "source": [
        "5. Если расположить рядом два магнита, они начинают взаимодействовать друг с другом. При этом одинаковые магнитные полюса (север/север или юг/юг) отталкиваются друг от друга, в то время как разные магнитные полюса (север/юг) притягиваются друг к другу.\n",
        "\n",
        "Ваша программа получает два значения в разных строках — полярности магнитов, которые могут иметь значения либо N ( север) либо S (юг)\n",
        "\n",
        "Ваша задача сохранить в переменную experiment строку Притягиваются, если магниты имеют разную полярность, в противном случае сохраните строку Отталкиваются\n",
        "\n",
        "В качестве ответа необходимо вывести переменную experiment"
      ],
      "metadata": {
        "id": "DWBLwHqrI7RH"
      }
    },
    {
      "cell_type": "code",
      "source": [],
      "metadata": {
        "id": "9gKgGLpaBmH4"
      },
      "execution_count": null,
      "outputs": []
    },
    {
      "cell_type": "markdown",
      "source": [
        "6. Определить максимальное и минимальное значения из двух различных вещественных чисел.\n",
        "<table class=\"iksweb\">\n",
        "\t<tbody>\n",
        "\t\t<tr>\n",
        "\t\t\t<td>Ввод</td>\n",
        "\t\t\t<td>Вывод</td>\n",
        "\t\t</tr>\n",
        "\t\t<tr>\n",
        "\t\t\t<td>4<br>7</td>\n",
        "\t\t\t<td>7.0<br>4.0</td>\n",
        "\t\t</tr>\n",
        "\t</tbody>\n",
        "</table>"
      ],
      "metadata": {
        "id": "TJDQVYIoBlao"
      }
    },
    {
      "cell_type": "code",
      "source": [],
      "metadata": {
        "id": "8-qJST0rI7pw"
      },
      "execution_count": null,
      "outputs": []
    },
    {
      "cell_type": "markdown",
      "source": [
        "7. Пример: если значение переменной speed меньше 60, то выводить сообщение «Показания скорости в норме», иначе выводить сообщение «Скорость превышена!»"
      ],
      "metadata": {
        "id": "bsrtG3N5J4xe"
      }
    },
    {
      "cell_type": "code",
      "source": [],
      "metadata": {
        "id": "sBu4LJcLJ5Er"
      },
      "execution_count": null,
      "outputs": []
    },
    {
      "cell_type": "markdown",
      "source": [
        "8. Напишите программу, в которой вводятся два числа, и программа проверят, больше ли первое число второму или меньше или они равны. Для проверки используйте тренарный оператор.\n",
        "\n"
      ],
      "metadata": {
        "id": "5KvU8_6QGWoE"
      }
    },
    {
      "cell_type": "markdown",
      "source": [
        "Задачи со звездочкой"
      ],
      "metadata": {
        "id": "7zrycZC8KHNH"
      }
    },
    {
      "cell_type": "markdown",
      "source": [
        "1. Cделайте так, чтобы с помощью тернарного оператора можно было проверить длину строки. То есть, есть ли длина строки больше 79 символов, то вы печатаете в терминал текст: \"String is long\", иначе пишете текст: \"String is short\"."
      ],
      "metadata": {
        "id": "r1ywtt0UFNjo"
      }
    },
    {
      "cell_type": "code",
      "source": [],
      "metadata": {
        "id": "nilBV0WkGWeH"
      },
      "execution_count": null,
      "outputs": []
    },
    {
      "cell_type": "code",
      "source": [],
      "metadata": {
        "id": "o3S4DLL0GYIA"
      },
      "execution_count": null,
      "outputs": []
    },
    {
      "cell_type": "markdown",
      "source": [
        "2. На вход строку и, если первая буква не заглавная, возвращает перевернутый вариант исходной строки. Если первая буква заглавная, то строка возвращается без изменений. Если на вход передана пустая строка, функция должна вернуть пустую строку."
      ],
      "metadata": {
        "id": "y03Vy7tMIgav"
      }
    },
    {
      "cell_type": "code",
      "source": [],
      "metadata": {
        "id": "6KgHMYVWIhlf"
      },
      "execution_count": null,
      "outputs": []
    },
    {
      "cell_type": "markdown",
      "source": [
        "3. Ваша программа принимает на вход предложение и ваша задача определить является ли оно вопросом?\n",
        "\n",
        "Если последний символ предложения это знак ?, то в переменную sentence сохраните строку Вопросительное, иначе запишите строку Обычное\n",
        "\n",
        "В качестве ответа необходимо вывести переменную sentence"
      ],
      "metadata": {
        "id": "2AG3364RIiD-"
      }
    },
    {
      "cell_type": "code",
      "source": [],
      "metadata": {
        "id": "bwnUbGJBJVuP"
      },
      "execution_count": null,
      "outputs": []
    }
  ]
}