{
  "cells": [
    {
      "cell_type": "markdown",
      "metadata": {
        "id": "thGOVOocnaWf"
      },
      "source": [
        "<a id='t3'></a>\n",
        "# Условный оператор"
      ]
    },
    {
      "cell_type": "markdown",
      "metadata": {
        "id": "glgJ0itinaWg"
      },
      "source": [
        "<a id='p3'></a>\n",
        "# Логические выражения"
      ]
    },
    {
      "cell_type": "markdown",
      "metadata": {
        "id": "sOJCecPZnaWh"
      },
      "source": [
        "<pre>\n",
        "\n",
        "    !=                  ==                  >=                  <=  \n",
        "    <                   >                   or                  and\n",
        "    not()\n",
        "\n",
        "</pre>"
      ]
    },
    {
      "cell_type": "code",
      "execution_count": null,
      "metadata": {
        "id": "SQsqKz-XnaWh",
        "outputId": "290ff70a-0478-4a2a-c9da-76265792ffd8"
      },
      "outputs": [
        {
          "name": "stdout",
          "output_type": "stream",
          "text": [
            "True\n",
            "False\n"
          ]
        }
      ],
      "source": [
        "var = 0  # Assigning 0 to var\n",
        "print(var == 0)\n",
        "\n",
        "var = 1  # Assigning 1 to var\n",
        "print(var == 0)"
      ]
    },
    {
      "cell_type": "code",
      "execution_count": null,
      "metadata": {
        "id": "LbqJxpe5naWi",
        "outputId": "3c784b5f-80f9-4b86-d98c-0d5a26e65e9b"
      },
      "outputs": [
        {
          "name": "stdout",
          "output_type": "stream",
          "text": [
            "True\n",
            "False\n"
          ]
        }
      ],
      "source": [
        "var = 4  # Assigning 0 to var\n",
        "print(var % 2 == 0)\n",
        "\n",
        "var = 5  # Assigning 1 to var\n",
        "print(var % 2 == 0)"
      ]
    },
    {
      "cell_type": "code",
      "execution_count": null,
      "metadata": {
        "id": "cWxZg_76naWi",
        "outputId": "541fb708-1a2b-41f9-9e94-095852182ae6"
      },
      "outputs": [
        {
          "name": "stdout",
          "output_type": "stream",
          "text": [
            "False\n",
            "True\n"
          ]
        }
      ],
      "source": [
        "var = 0  # Assigning 0 to var\n",
        "print(var != 0)\n",
        "\n",
        "var = 1  # Assigning 1 to var\n",
        "print(var != 0)"
      ]
    },
    {
      "cell_type": "code",
      "execution_count": null,
      "metadata": {
        "id": "M8eNLUQYnaWj",
        "outputId": "5e0d2700-8c2a-4aba-b06c-06c09909fab3"
      },
      "outputs": [
        {
          "name": "stdout",
          "output_type": "stream",
          "text": [
            "True\n"
          ]
        }
      ],
      "source": [
        "var = 5  # Assigning 1 to var\n",
        "print(not(var % 2 == 0))"
      ]
    },
    {
      "cell_type": "code",
      "execution_count": null,
      "metadata": {
        "id": "1VzXhQJjnaWj",
        "outputId": "9763ec2c-0a06-4412-f346-43452c26b3d0"
      },
      "outputs": [
        {
          "name": "stdout",
          "output_type": "stream",
          "text": [
            "True\n"
          ]
        }
      ],
      "source": [
        "var = 5  # Assigning 1 to var\n",
        "print( (var>=5) and (var <= 100))"
      ]
    },
    {
      "cell_type": "code",
      "execution_count": null,
      "metadata": {
        "id": "RHHOGEEenaWj",
        "outputId": "fd4c3c9b-16ba-416f-e614-954c0381d12e"
      },
      "outputs": [
        {
          "name": "stdout",
          "output_type": "stream",
          "text": [
            "True\n"
          ]
        }
      ],
      "source": [
        "var = 5  # Assigning 1 to var\n",
        "print( (var<=5) or (var >= 100))"
      ]
    },
    {
      "cell_type": "markdown",
      "metadata": {
        "id": "BACrImqanaWk"
      },
      "source": [
        "<a id='p3'></a>\n",
        "# if-else"
      ]
    },
    {
      "cell_type": "markdown",
      "metadata": {
        "id": "17l9q_EGnaWk"
      },
      "source": [
        "![56.png](https://github.com/trisha00001/IT-Career-Hub/blob/main/image/636.png?raw=true)"
      ]
    },
    {
      "cell_type": "code",
      "execution_count": null,
      "metadata": {
        "id": "FtSRhOApnaWk"
      },
      "outputs": [],
      "source": [
        " if Условие:\n",
        "\n",
        "    Блок инструкций 1\n"
      ]
    },
    {
      "cell_type": "code",
      "execution_count": null,
      "metadata": {
        "id": "lI5YoMGznaWk"
      },
      "outputs": [],
      "source": [
        "x = int(input())\n",
        "if x % 2 == 0:\n",
        "    print('Четное')"
      ]
    },
    {
      "cell_type": "code",
      "execution_count": null,
      "metadata": {
        "id": "oyEVZS_VnaWl",
        "outputId": "ec5cde0d-23a5-47a1-e094-b18b12a7b93a"
      },
      "outputs": [
        {
          "name": "stdout",
          "output_type": "stream",
          "text": [
            "-7\n",
            "7\n"
          ]
        }
      ],
      "source": [
        "x = int(input())\n",
        "if x < 0:\n",
        "    x = (-1) *x\n",
        "print(x)"
      ]
    },
    {
      "cell_type": "markdown",
      "metadata": {
        "id": "FchLHP6WnaWl"
      },
      "source": [
        "Написать программу модуль числа\n",
        " -9 программа выводит 9\n",
        " 8 программа выводит 8"
      ]
    },
    {
      "cell_type": "code",
      "execution_count": null,
      "metadata": {
        "id": "qups-0OznaWl",
        "outputId": "bdbd147a-8749-4792-885b-8132b6209d14"
      },
      "outputs": [
        {
          "name": "stdout",
          "output_type": "stream",
          "text": [
            "-9\n",
            "9\n"
          ]
        }
      ],
      "source": [
        "x = int(input())\n",
        "if x < 0:\n",
        "    x = -x\n",
        "print(x)"
      ]
    },
    {
      "cell_type": "code",
      "execution_count": null,
      "metadata": {
        "id": "xJh272isnaWl"
      },
      "outputs": [],
      "source": [
        "x = int(input())\n",
        "if x < 0:\n",
        "    print('Отрицательное')\n",
        "print(\"Программа закончена\")"
      ]
    },
    {
      "cell_type": "code",
      "execution_count": null,
      "metadata": {
        "id": "DCtwIn0VnaWl",
        "outputId": "8e8db3a8-71f8-49f8-962d-387de0bf30bc"
      },
      "outputs": [
        {
          "name": "stdout",
          "output_type": "stream",
          "text": [
            "-9\n",
            "Отрицательное\n",
            "Программа закончена\n"
          ]
        }
      ],
      "source": [
        "x = int(input())\n",
        "if x < 0:\n",
        "    print('Отрицательное')\n",
        "    print(\"Программа закончена\")"
      ]
    },
    {
      "cell_type": "code",
      "execution_count": null,
      "metadata": {
        "id": "Pa4qsavmnaWl"
      },
      "outputs": [],
      "source": [
        "x = int(input())\n",
        "if x < 0:\n",
        "    print('Отрицательное')\n",
        "    x = x**2\n",
        "    print(x)"
      ]
    },
    {
      "cell_type": "code",
      "execution_count": null,
      "metadata": {
        "id": "Gv4OXFtpnaWl",
        "outputId": "903ec891-ac53-4d90-f4b7-32ec155cf19f"
      },
      "outputs": [
        {
          "name": "stdout",
          "output_type": "stream",
          "text": [
            "-6\n",
            "Отрицательное\n",
            "36\n"
          ]
        }
      ],
      "source": [
        "x = int(input())\n",
        "if x < 0:\n",
        "    print('Отрицательное')\n",
        "    x = x**2\n",
        "    print(x)"
      ]
    },
    {
      "cell_type": "code",
      "execution_count": null,
      "metadata": {
        "id": "4RxAp7bknaWl",
        "outputId": "3dadd2ea-5216-4212-ff78-6dc12ae0744e"
      },
      "outputs": [
        {
          "name": "stdout",
          "output_type": "stream",
          "text": [
            "50\n",
            "Программа закончена\n"
          ]
        }
      ],
      "source": [
        "x = int(input())\n",
        "if x < 0:\n",
        "    print('Отрицательное')\n",
        "    x = x**2\n",
        "    print(x)\n",
        "print(\"Программа закончена\")"
      ]
    },
    {
      "cell_type": "markdown",
      "metadata": {
        "id": "Y9zyBbMSnaWl"
      },
      "source": [
        "![51.png](https://github.com/trisha00001/IT-Career-Hub/blob/main/image/64.png?raw=true)"
      ]
    },
    {
      "cell_type": "code",
      "execution_count": null,
      "metadata": {
        "id": "0hez4KQQnaWm"
      },
      "outputs": [],
      "source": [
        "if Условие: # True\n",
        "\n",
        " Блок инструкций 1\n",
        "else: # значение False\n",
        "\n",
        " Блок инструкций 2"
      ]
    },
    {
      "cell_type": "code",
      "execution_count": null,
      "metadata": {
        "id": "ffWlZY-nnaWm"
      },
      "outputs": [],
      "source": [
        "x = int(input())\n",
        "if x > 0:\n",
        "    print('Число положительное')\n",
        "else: # <=\n",
        "    print('Число отрицательное')"
      ]
    },
    {
      "cell_type": "code",
      "execution_count": null,
      "metadata": {
        "id": "2dlg4ckCnaWm"
      },
      "outputs": [],
      "source": [
        "x = int(input())\n",
        "if x > 0:\n",
        "    print('Число положительное')\n",
        "else:\n",
        "    print('Число отрицательное')\n",
        "print(\"Программа закончена\")"
      ]
    },
    {
      "cell_type": "code",
      "execution_count": null,
      "metadata": {
        "id": "pOamzcpBnaWm",
        "outputId": "cea57c17-6e95-48af-841c-508f3c496095"
      },
      "outputs": [
        {
          "name": "stdout",
          "output_type": "stream",
          "text": [
            "Введите оценку погоды 1 - хорошая, другое число плохая\n",
            "6\n",
            "идем в театр\n",
            "обед\n"
          ]
        }
      ],
      "source": [
        "print('Введите оценку погоды 1 - хорошая, другое число плохая')\n",
        "the_weather_is_good=int(input())\n",
        "if the_weather_is_good==1:\n",
        "    print('идем гулять')\n",
        "else:\n",
        "    print('идем в театр')\n",
        "print('обед')\n"
      ]
    },
    {
      "cell_type": "code",
      "execution_count": null,
      "metadata": {
        "id": "pDXYd79CnaWm"
      },
      "outputs": [],
      "source": [
        "print('Введите оценку погоды 1 - хорошая, другое число плохая')\n",
        "the_weather_is_good=int(input())\n",
        "if the_weather_is_good == 1:\n",
        "    print('идем гулять')\n",
        "    print('будет весело')\n",
        "else:\n",
        "    print('идем в театр')\n",
        "    print('хорошо проведем время')\n",
        "print('обед')"
      ]
    },
    {
      "cell_type": "code",
      "execution_count": null,
      "metadata": {
        "id": "Oiuu6eMXnaWm"
      },
      "outputs": [],
      "source": [
        "x = int(input())\n",
        "if x > 0:\n",
        "    if x % 2 ==0:\n",
        "        print('Положительное четное')\n",
        "    else:\n",
        "        print('Положительное нечетное')\n",
        "else: # x<=0\n",
        "    print('отрицательное')\n",
        "print('Программа закончена')"
      ]
    },
    {
      "cell_type": "code",
      "execution_count": null,
      "metadata": {
        "id": "xvxyyGYcnaWm"
      },
      "outputs": [],
      "source": [
        "#Вложенные условные инструкции\n",
        "x = int(input())\n",
        "y = int(input())\n",
        "if x > 0:\n",
        "    if y > 0:               # x > 0, y > 0\n",
        "        print(\"Первая четверть\")\n",
        "    else:                   # x > 0, y < 0\n",
        "        print(\"Четвертая четверть\")\n",
        "else: # x<0\n",
        "    if y > 0:               # x < 0, y > 0\n",
        "        print(\"Вторая четверть\")\n",
        "    else:                   # x < 0, y < 0\n",
        "        print(\"Третья четверть\")"
      ]
    },
    {
      "cell_type": "markdown",
      "metadata": {
        "id": "kUjpGTsunaWm"
      },
      "source": [
        "![54.png](https://github.com/trisha00001/IT-Career-Hub/blob/main/image/65.png?raw=true)"
      ]
    },
    {
      "cell_type": "code",
      "execution_count": null,
      "metadata": {
        "id": "W-MdgyugnaWn"
      },
      "outputs": [],
      "source": [
        "if Условие:\n",
        "\n",
        "    Блок инструкций 1\n",
        "\n",
        "elif Условие:\n",
        "\n",
        "    Блок инструкций 2\n",
        "\n",
        "elif  Условие:\n",
        "\n",
        "    Блок инструкций ..\n",
        "\n",
        "else:\n",
        "\n",
        "    Блок инструкций n"
      ]
    },
    {
      "cell_type": "code",
      "execution_count": null,
      "metadata": {
        "id": "n-tzTrxFnaWn",
        "outputId": "0a4ea47e-bffd-44d5-e589-6e31d8f838d0"
      },
      "outputs": [
        {
          "name": "stdout",
          "output_type": "stream",
          "text": [
            "0\n",
            "Число ноль\n"
          ]
        }
      ],
      "source": [
        "x = int(input())\n",
        "if x > 0:\n",
        "    print('Число положительное')\n",
        "elif x==0:\n",
        "    print('Число ноль')\n",
        "else:\n",
        "    print('Число отрицательное')"
      ]
    },
    {
      "cell_type": "code",
      "execution_count": null,
      "metadata": {
        "id": "MR3UF7nMnaWn"
      },
      "outputs": [],
      "source": [
        "# Каскадные условные инструкции\n",
        "x = int(input())\n",
        "y = int(input())\n",
        "if x >= 0 and y > 0:\n",
        "    print(\"Первая четверть\")\n",
        "elif x > 0 and y < 0:\n",
        "    print(\"Четвертая четверть\")\n",
        "elif y >= 0:\n",
        "    print(\"Вторая четверть\")\n",
        "else:\n",
        "    print(\"Третья четверть\")"
      ]
    },
    {
      "cell_type": "markdown",
      "metadata": {
        "id": "tY2lgzybnaWr"
      },
      "source": [
        "!!!НЕЛЬЗЯ"
      ]
    },
    {
      "cell_type": "code",
      "execution_count": null,
      "metadata": {
        "id": "hmqRvOb-naWr",
        "outputId": "0581affd-de54-4325-faf4-a618af515196"
      },
      "outputs": [
        {
          "name": "stdout",
          "output_type": "stream",
          "text": [
            "9 \n",
            "-7\n",
            "Четвертая четверть\n"
          ]
        }
      ],
      "source": [
        "# Каскадные условные инструкции\n",
        "x = int(input())\n",
        "y = int(input())\n",
        "if x > 0 and y > 0:\n",
        "    print(\"Первая четверть\")\n",
        "if x > 0 and y < 0:\n",
        "    print(\"Четвертая четверть\")\n",
        "if x < 0 and y > 0:\n",
        "    print(\"Вторая четверть\")\n",
        "if x < 0 and y < 0:\n",
        "    print(\"Третья четверть\")"
      ]
    },
    {
      "cell_type": "code",
      "execution_count": null,
      "metadata": {
        "id": "FlYh18brnaWs",
        "outputId": "47df000f-28ce-4148-da34-5697349554ee"
      },
      "outputs": [
        {
          "name": "stdout",
          "output_type": "stream",
          "text": [
            "Enter the first number: 5\n",
            "Enter the second number: 9\n",
            "The larger number is: 9\n"
          ]
        }
      ],
      "source": [
        "# Read two numbers\n",
        "number1 = int(input(\"Enter the first number: \"))\n",
        "number2 = int(input(\"Enter the second number: \"))\n",
        "\n",
        "# Choose the larger number\n",
        "if number1 > number2: larger_number = number1\n",
        "else: larger_number = number2\n",
        "\n",
        "# Print the result\n",
        "print(\"Максимальное число:\", larger_number)\n",
        "\n"
      ]
    }
  ],
  "metadata": {
    "kernelspec": {
      "display_name": "Python 3",
      "language": "python",
      "name": "python3"
    },
    "language_info": {
      "codemirror_mode": {
        "name": "ipython",
        "version": 3
      },
      "file_extension": ".py",
      "mimetype": "text/x-python",
      "name": "python",
      "nbconvert_exporter": "python",
      "pygments_lexer": "ipython3",
      "version": "3.8.3"
    },
    "colab": {
      "provenance": []
    }
  },
  "nbformat": 4,
  "nbformat_minor": 0
}