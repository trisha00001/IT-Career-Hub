{
 "cells": [
  {
   "cell_type": "markdown",
   "metadata": {},
   "source": [
    "<H1  ALIGN=CENTER style=\"color:#C8196B\">Повторение</H1>"
   ]
  },
  {
   "cell_type": "markdown",
   "metadata": {},
   "source": [
    "## Основные понятия языков программирования"
   ]
  },
  {
   "cell_type": "markdown",
   "metadata": {},
   "source": [
    "**Программирование** – это процесс создания компьютерных программ <br>\n",
    "**Компьютерная программа** – последовательность (список) инструкций<br>\n",
    "**Инструкция** – документ, содержащий правила, указания или руководства,\n",
    "устанавливающие порядок и способ выполнения чего-либо <br>\n",
    "**Язы́к программи́рования** — формальный язык, предназначенный для\n",
    "записи компьютерных программ"
   ]
  },
  {
   "cell_type": "markdown",
   "metadata": {},
   "source": [
    "**Язы́к программи́рования** — набор определенных правил, согласно которым компьютер может понимать инструкции и выполнять их.\n",
    "\n",
    "Текс программы называется **программным кодом**\n",
    "- Python\n",
    "- C/C++\n",
    "- Java"
   ]
  },
  {
   "cell_type": "markdown",
   "metadata": {},
   "source": [
    "![xkcd_python](https://github.com/trisha00001/IT-Career-Hub/blob/main/image/lang.png?raw=true)"
   ]
  },
  {
   "cell_type": "markdown",
   "metadata": {},
   "source": [
    "Каждый **язык программирования** имеет свой собственный набор правил грамматики (**синтаксис**), который определяет как должны быть написаны инструкции. Эти инструкции сначало пишутся в исходном коде, затем компилируются или интерпритируютмя в машинный код для понимания инструкции.\n"
   ]
  },
  {
   "cell_type": "markdown",
   "metadata": {},
   "source": [
    "![xkcd_python](https://github.com/trisha00001/IT-Career-Hub/blob/main/image/hi.png?raw=true)"
   ]
  },
  {
   "cell_type": "markdown",
   "metadata": {},
   "source": [
    "**Языки программирования** классифицируются по их близости к машинному языку, создавая три основные типа: языкии высокого уровня и язык низкого уровня."
   ]
  },
  {
   "cell_type": "markdown",
   "metadata": {},
   "source": [
    "![xkcd_python](https://github.com/trisha00001/IT-Career-Hub/blob/main/image/vvsw.png?raw=true)"
   ]
  },
  {
   "cell_type": "markdown",
   "metadata": {},
   "source": [
    "Языки высокого уровня разработаны так, чтобы быть ближе к человеческому языку и в большей степени абстрагироваться от аппаратного обеспечения компьютера. В отличие от этого, языки низкого уровня разработаны так, чтобы быть ближе к машинному языку и аппаратному обеспечению. "
   ]
  },
  {
   "cell_type": "markdown",
   "metadata": {},
   "source": [
    "## Разница между языком высокого уровня и языком низкого уровня"
   ]
  },
  {
   "cell_type": "markdown",
   "metadata": {},
   "source": [
    "![xkcd_python](https://github.com/trisha00001/IT-Career-Hub/blob/main/image/low%20high.png?raw=true)"
   ]
  },
  {
   "cell_type": "markdown",
   "metadata": {},
   "source": [
    "<table >\n",
    "\t<tbody>\n",
    "\t\t<tr>\n",
    "\t\t\t<td> <p font-size:medium>       </p></td>\n",
    "\t\t\t<td> <p font-size:medium>Язык высокого уровня</p></td>\n",
    "            <td> <p font-size:medium>Язык низкого уровня</p></td>\n",
    "\t\t</tr>\n",
    "\t\t<tr>\n",
    "\t\t\t<td> <p font-size:medium>Уровень абстракции</p></td>\n",
    "            <td> <p font-size:medium>Языки высокого уровня более абстрагированы от аппаратного обеспечения компьютера и ближе к человеческому языку.</p></td>\n",
    "\t\t\t<td> <p font-size:medium>Низкоуровневые языки ближе к машинному языку и аппаратному обеспечению.</p></td>\n",
    "\t\t</tr>\n",
    "               <tr>\n",
    "\t\t\t<td> <p font-size:medium>Уровень сложности</p></td>\n",
    "                        <td> <p font-size:medium>Прост в использовании</p></td>\n",
    "\t\t\t<td> <p font-size:medium>Трудно использовать</p></td>\n",
    "\t\t</tr>\n",
    "          <tr>\n",
    "\t\t\t<td> <p font-size:medium>Время разработки</p></td>\n",
    "                        <td> <p font-size:medium>Языки высокого уровня позволяют сократить время разработки, поскольку требуют меньше кодирования и отладки             </p></td>\n",
    "\t\t\t<td> <p font-size:medium>Низкоуровневые языки требуют больше кодирования и отладки, что увеличивает время разработки.</p></td>\n",
    "\t\t</tr>\n",
    " <tr>\n",
    "\t\t\t<td> <p font-size:medium>Использование памяти</p></td>\n",
    "                        <td> <p font-size:medium>Больше</p></td>\n",
    "\t\t\t<td> <p font-size:medium>Меньше</p></td>\n",
    "\t\t</tr>  \n",
    "                <tr>\n",
    "\t\t\t<td> <p font-size:medium>Читабельность кода</p></td>\n",
    "                        <td> <p font-size:medium>Языки высокого уровня имеют более естественный и читабельный синтаксис, что облегчает программистам чтение и понимание кода.</p></td>\n",
    "\t\t\t<td> <p font-size:medium>Низкоуровневые языки имеют более запутанный синтаксис, который трудно читать и понимать.</p></td>\n",
    "\t\t</tr>\n",
    "                <tr>\n",
    "\t\t\t<td> <p font-size:medium>Портативность</p></td>\n",
    "                        <td> <p font-size:medium>Языки высокого уровня более переносимы на различные аппаратные и программные платформы.</p></td>\n",
    "\t\t\t<td> <p font-size:medium>Низкоуровневые языки более зависимы от оборудования.</p></td>\n",
    "\t\t</tr>\n",
    "                <tr>\n",
    "\t\t\t<td> <p font-size:medium>Область применения</p></td>\n",
    "                        <td> <p font-size:medium>Языки высокого уровня часто используются для разработки программного обеспечения, веб-разработки и управления базами данных.\n",
    "</p></td>\n",
    "\t\t\t<td> <p font-size:medium>Низкоуровневые языки обычно используются для системного программирования, разработки драйверов устройств и встраиваемых систем.</p></td>\n",
    "\t\t</tr>\n",
    "                <tr>\n",
    "\t\t\t<td> <p font-size:medium>Примеры</p></td>\n",
    "                        <td> <p font-size:medium>Языками высокого уровня являются Python, C++, C, C#, Visual Basic и JavaScript.</p></td>\n",
    "\t\t\t<td> <p font-size:medium>Языками низкого уровня являются машинный язык и язык ассемблера.</p></td>\n",
    "\t\t</tr>"
   ]
  },
  {
   "cell_type": "markdown",
   "metadata": {},
   "source": [
    "**Python - это высокоуровневый язык программирования общего назначения.**"
   ]
  },
  {
   "cell_type": "markdown",
   "metadata": {},
   "source": [
    "### Машинный код"
   ]
  },
  {
   "cell_type": "markdown",
   "metadata": {},
   "source": [
    "Языки высокого уровня используют компиляторы для преобразования исходного кода в исполняемый **машинный код**. Далее **машинный код** напрямую выполняется центральным процессором. Каждая инструкция машинного кода выполняет уникальную задачу, и у каждого процессора или семейства процессоров есть свой набор инструкций машинного кода."
   ]
  },
  {
   "cell_type": "markdown",
   "metadata": {},
   "source": [
    "Программа «Hello, world!» для процессора архитектуры x86 : BB 11 01 B9 0D 00 B4 0E 8A 07 43 CD 10 E2 F9 CD 20 48 65 6C 6C 6F 2C 20 57 6F 72 6C 64 21"
   ]
  },
  {
   "cell_type": "markdown",
   "metadata": {},
   "source": [
    "Для выполнения на компьютере исходного кода программы, написанной на высокоуровневом языке, необходимо преобразовать его в машинный код.\n",
    "\n",
    "Есть **два разных способа** преобразования программы с языка программирования высокого уровня в машинный язык:"
   ]
  },
  {
   "cell_type": "markdown",
   "metadata": {},
   "source": [
    "![xkcd_python](https://github.com/trisha00001/IT-Career-Hub/blob/main/image/vs.png?raw=true)"
   ]
  },
  {
   "cell_type": "markdown",
   "metadata": {},
   "source": [
    "**КОМПИЛЯЦИЯ** - исходная программа транслируется один раз (однако это действие необходимо повторять каждый раз, когда вы изменяете исходный код) путем получения файла (например, файла .exe, если код предназначен для запуска под MS Windows), содержащего компьютер. код; теперь вы можете распространять файл по всему миру; программа, выполняющая этот перевод, называется компилятором или транслятором;"
   ]
  },
  {
   "cell_type": "markdown",
   "metadata": {},
   "source": [
    "![xkcd_python](https://github.com/trisha00001/-facultypython/blob/main/p1.png?raw=true)"
   ]
  },
  {
   "cell_type": "markdown",
   "metadata": {},
   "source": [
    "*Компилятор* транслирует высокоуровневый язык в машинный. Компилятор сначала сканирует всю программу, а потом транслирует ее в машинный код, который будет выполнен компьютерным процессором, после чего будут выполнены соответствующие задачи."
   ]
  },
  {
   "cell_type": "markdown",
   "metadata": {},
   "source": [
    "Быстро работает, но не является кроссплатформенным"
   ]
  },
  {
   "cell_type": "markdown",
   "metadata": {},
   "source": [
    "Компилируемые языки программирования: Алгол; Delphi"
   ]
  },
  {
   "cell_type": "markdown",
   "metadata": {},
   "source": [
    "**ИНТЕРПРЕТАЦИЯ** - вы (или любой пользователь кода) можете переводить исходную программу каждый раз, когда она должна быть запущена; программа, выполняющая такое преобразование, называется интерпретатором, поскольку она интерпретирует код каждый раз, когда он предназначен для выполнения; это также означает, что вы не можете просто распространять исходный код как есть, потому что конечному пользователю также нужен интерпретатор для его выполнения."
   ]
  },
  {
   "cell_type": "markdown",
   "metadata": {},
   "source": [
    "![xkcd_python](https://github.com/trisha00001/-facultypython/blob/main/%D0%B72.png?raw=true)"
   ]
  },
  {
   "cell_type": "markdown",
   "metadata": {},
   "source": [
    "*Интерпретатор* - также конвертируют в машинный код, но до этого он конвертирует этот код в промежуточный язык. Каждая часть кода интерпретируется и выполняется отдельно и последовательно."
   ]
  },
  {
   "cell_type": "markdown",
   "metadata": {},
   "source": [
    "Работают медленнее, но являются кроссплатформенной\n",
    "\n",
    "Интерпретируемые языки программирования: JavaScript; PHP"
   ]
  },
  {
   "cell_type": "markdown",
   "metadata": {},
   "source": [
    "## Cравнение интерпретатора и компилятора"
   ]
  },
  {
   "cell_type": "markdown",
   "metadata": {},
   "source": [
    "\n",
    "<h2 ALIGN=CENTER style=\"background-color:rgb(224, 171, 224);\">              # 1 ОСНОВНОЕ ОТЛИЧИЕ</h2>"
   ]
  },
  {
   "cell_type": "markdown",
   "metadata": {},
   "source": [
    "<table >\n",
    "\t<tbody>\n",
    "\t\t<tr>\n",
    "\t\t\t<td> <p font-size:medium>Компилятор — это программа, которая преобразует код, написанный на языке программирования высокого уровня, в машинный код. Обработка машинного кода — обязанность компьютера.</p></td>\n",
    "\t\t\t<td> <p font-size:medium>Интерпретатор, с другой стороны, также является программой, которая включает исходный код, предварительно скомпилированный и скрипты. В отличие от компилятора, интерпретатор не преобразует код в машинный код перед запуском программы. Они преобразуют код в машинный код при запуске программы.</p></td>\n",
    "\t\t</tr>\n",
    "\n",
    "\n",
    "</tbody>\n",
    "</table>"
   ]
  },
  {
   "cell_type": "markdown",
   "metadata": {},
   "source": [
    "\n",
    "<h2 ALIGN=CENTER style=\"background-color:rgb(224, 171, 224);\">             # 2 Шаги по созданию программы</h2>"
   ]
  },
  {
   "cell_type": "markdown",
   "metadata": {},
   "source": [
    "<table >\n",
    "\t<tbody>\n",
    "\t\t<tr>\n",
    "\t\t\t<td> <p font-size:medium>1) Создать программу<br>\n",
    "\n",
    "2) Нет необходимости связывать файлы или машинный код.<br>\n",
    "\n",
    "3) Источник может выполнять код строка за строкой, когда код выполняется.<br></p></td>\n",
    "\t\t\t<td> <p font-size:medium>1) Создать программу<br>\n",
    "\n",
    "2) После этого весь код будет проанализирован и скомпилирован на предмет необходимости исправлений. Если ошибок нет, компилятор преобразует исходный код в машинный код.<br>\n",
    "\n",
    "3) После этого код связывается с другим кодом в любой программе.<br>\n",
    "\n",
    "4) Запустите эту программу.</p></td>\n",
    "\t\t</tr>\n",
    "\n",
    "\n",
    "</tbody>\n",
    "</table>"
   ]
  },
  {
   "cell_type": "markdown",
   "metadata": {},
   "source": [
    "\n",
    "<h2 ALIGN=CENTER style=\"background-color:rgb(224, 171, 224);\">              #3. Хранение машинного кода</h2>"
   ]
  },
  {
   "cell_type": "markdown",
   "metadata": {},
   "source": [
    "<table >\n",
    "\t<tbody>\n",
    "\t\t<tr>\n",
    "\t\t\t<td> <p font-size:medium>Интерпретатор выполняет эту работу по умолчанию, и в результате он не хранит машинный код. Поскольку нет объектного кода, меньше необходимости в управлении памятью.\n",
    "</p></td>\n",
    "\t\t\t<td> <p font-size:medium>Сгенерированный машинный код сохраняется на диске. В этом случае управление памятью становится более сложным, так как объектный код занимает место.</p></td>\n",
    "\t\t</tr>\n",
    "\n",
    "\n",
    "</tbody>\n",
    "</table>"
   ]
  },
  {
   "cell_type": "markdown",
   "metadata": {},
   "source": [
    "\n",
    "<h2 ALIGN=CENTER style=\"background-color:rgb(224, 171, 224);\">              # 4 Ошибки</h2>"
   ]
  },
  {
   "cell_type": "markdown",
   "metadata": {},
   "source": [
    "<table >\n",
    "\t<tbody>\n",
    "\t\t<tr>\n",
    "\t\t\t<td> <p font-size:medium>Интерпретатор интерпретирует код строка за строкой. В результате он отображает ошибки после интерпретации строки. Интерпретаторы сравнительно быстрее, и поэтому ошибки обнаруживаются гораздо быстрее. Вы можете легко найти строку, которая выдает определенную ошибку.</p></td>\n",
    "\t\t\t<td> <p font-size:medium>Компилятор отображает все ошибки только после завершения процесса компиляции и показывает их все одновременно. Компиляция всего кода сразу может затруднить выявление ошибок в коде.</p></td>\n",
    "\t\t</tr>\n",
    "\n",
    "\n",
    "</tbody>\n",
    "</table>"
   ]
  },
  {
   "cell_type": "markdown",
   "metadata": {},
   "source": [
    "\n",
    "<h2 ALIGN=CENTER style=\"background-color:rgb(224, 171, 224);\">              # 5 Оптимизация кода</h2>"
   ]
  },
  {
   "cell_type": "markdown",
   "metadata": {},
   "source": [
    "<table >\n",
    "\t<tbody>\n",
    "\t\t<tr>\n",
    "\t\t\t<td> <p font-size:medium>Интерпретатор выполняет процесс строка за строкой. Если есть какая-либо ошибка, ее нужно устранить и перейти к следующей строке. Поэтому оптимизировать код в этой ситуации непросто.</p></td>\n",
    "\t\t\t<td> <p font-size:medium>Поскольку компиляторы видят весь код за раз, оптимизировать код проще. Весь код есть заранее. Следовательно, существует много способов оптимизировать код и сделать его быстрее.</p></td>\n",
    "\t\t</tr>\n",
    "\n",
    "\n",
    "</tbody>\n",
    "</table>"
   ]
  },
  {
   "cell_type": "markdown",
   "metadata": {},
   "source": [
    "Python - интерпретируемый язык программирования. Он не конвертирует свой код в машинный, который понимает железо (в отличие от С и С++). Вместо этого, Python-интерпретатор переводит код программы в байт-код, который запускается на виртуальной машине Python (PVM)."
   ]
  },
  {
   "cell_type": "markdown",
   "metadata": {},
   "source": [
    "## Байт - код\n",
    "\n",
    "Байт-код — это двоичное представление, выполняемое виртуальной машиной, а не непосредственно процессором. Здесь виртуальная машина преобразует двоичную инструкцию в конкретную машинную инструкцию. Java — один из примеров.\n",
    "\n",
    "Машинный код работает намного быстрее, чем байт-код, но байт-код является переносимым и безопасным по сравнению с машинным кодом."
   ]
  },
  {
   "cell_type": "markdown",
   "metadata": {},
   "source": [
    "## Исходный код CPython\n",
    "\n",
    "Исходный дистрибутив CPython поставляется с различными инструментами, библиотеками и компонентами.\n",
    "\n",
    "Чтобы скомпилировать CPython из исходного кода, вам понадобится компилятор C и некоторые инструменты для сборки в зависимости от вашей операционной системы."
   ]
  },
  {
   "cell_type": "markdown",
   "metadata": {},
   "source": [
    "## Почему CPython написан на C, а не на Python?\n",
    "\n",
    "CPython написан на языке C по модели компиляции «исходный код в исходный код». Существует два типа моделей компиляции:\n",
    "- Самостоятельные компиляторы — это компиляторы, написанные на том же языке, на котором они компилируют, например, компилятор Go.\n",
    "- Компиляторы «из исходного кода в исходный код» сначала пишутся на другом языке, для которого уже существует компилятор.\n",
    "\n",
    "Если вы разрабатываете новый язык, вы должны писать его компиляторы на более устоявшемся языке. У вас есть очень хороший пример, когда речь идёт о языке Go. Первый компилятор Go был написан на основе языка программирования C. Когда Go стал компилируемым, компилятор был переписан на Go."
   ]
  },
  {
   "cell_type": "markdown",
   "metadata": {},
   "source": [
    "## Является ли Python интерпретируемым или компилируемым языком?"
   ]
  },
  {
   "cell_type": "markdown",
   "metadata": {},
   "source": [
    "Компиляция — это способ преобразования исходного кода в машиночитаемый код. В качестве входных данных используется весь файл кода."
   ]
  },
  {
   "cell_type": "markdown",
   "metadata": {},
   "source": [
    "![xkcd_python](https://github.com/trisha00001/IT-Career-Hub/blob/main/image/s1h.png?raw=true)"
   ]
  },
  {
   "cell_type": "markdown",
   "metadata": {},
   "source": [
    "Интерпретация — это процесс, при котором одна строка кода за раз выполняется. Интерпретатор выполняет инструкцию, указанную в исходном файле, и параллельно выполняется программа."
   ]
  },
  {
   "cell_type": "markdown",
   "metadata": {},
   "source": [
    "![xkcd_python](https://github.com/trisha00001/IT-Career-Hub/blob/main/image/s2h.png?raw=true)"
   ]
  },
  {
   "cell_type": "markdown",
   "metadata": {},
   "source": [
    "Python — это интерпретируемый язык. На самом деле это и компилируемый, и интерпретируемый язык."
   ]
  },
  {
   "cell_type": "markdown",
   "metadata": {},
   "source": [
    "![xkcd_python](https://github.com/trisha00001/IT-Career-Hub/blob/main/image/s3h.png?raw=true)"
   ]
  },
  {
   "cell_type": "markdown",
   "metadata": {},
   "source": [
    "CPython создаёт байт-код, специфичный для Python, а затем выполняет его."
   ]
  },
  {
   "cell_type": "markdown",
   "metadata": {},
   "source": [
    "![xkcd_python](https://github.com/trisha00001/IT-Career-Hub/blob/main/image/s4h.png?raw=true)"
   ]
  },
  {
   "cell_type": "markdown",
   "metadata": {},
   "source": [
    "- Компилятор получает исходный код.\n",
    "- Затем он проверяет синтаксис в исходном коде.\n",
    "- Если компилятор обнаруживает ошибку, он останавливает процесс трансляции и выводит сообщение об ошибке (синтаксическая ошибка).\n",
    "- И если инструкция правильно оформлена, то она переводит исходный код Python на специальный низкоуровневый промежуточный язык под названием Bytecode.\n",
    "-  Этот байт-код хранится в файлах .pyc в скрытом каталоге и кэшируется для выполнения и понятен только CPython.\n",
    "- Затем байт-код отправляется в виртуальную машину Python (PVM). Виртуальная машина Python запускает код Python в формате байт-кода и является частью системы Python.\n",
    "- PVM принимает инструкции байт-кода, входные данные и библиотечные модули.\n",
    "- PVM выполняет инструкции и в случае возникновения ошибки выводит сообщение об ошибке (ошибка выполнения). В противном случае выводится результат."
   ]
  },
  {
   "cell_type": "markdown",
   "metadata": {},
   "source": [
    "![xkcd_python](https://pythonchik.ru/pic/lb1/intext_630d6d5f-9f11-467b-afbb-73fc6c7f01df_original.svg)"
   ]
  },
  {
   "cell_type": "markdown",
   "metadata": {},
   "source": [
    "## Приемущество"
   ]
  },
  {
   "cell_type": "markdown",
   "metadata": {},
   "source": [
    "- Кроссплатформенный язык\n",
    "- Интерпретируемый\n",
    "- Поддерживает различные парадигмы программирования: модульное программирование, объектно-ориентированное программирование, функциональное программирование\n",
    "- Расширяемый и встраиваемый\n",
    "- Библиотеки:  базы данных, веб-службы, сети, числовые пакеты, графические пользовательские интерфейсы, трехмерная графика и другие.  https://pypi.python.org/pypi\n",
    "- Поддержка онлайн-сообщества Python\n",
    "- Оформлении программ  PEP 8 - Python Enhanced Proposal.  (предложения по развитию Python)  https://pep8.ru/doc/pep8/"
   ]
  },
  {
   "cell_type": "markdown",
   "metadata": {},
   "source": [
    "## Недостатки"
   ]
  },
  {
   "cell_type": "markdown",
   "metadata": {},
   "source": [
    "К недостаткам языка программирования Python является его скорость. Если рассматривать только скорость выполнения кода, то становится ясно, что Python уступает другим языкам программирования, таким как C. Действительно, динамическая типизация, интерпретируемость и другие особенности, облегчающие работу программиста, приводят к ухудшению производительности."
   ]
  },
  {
   "cell_type": "markdown",
   "metadata": {
    "id": "0PHG0pl2lzrp"
   },
   "source": [
    "<H1  ALIGN=CENTER style=\"color:#C8196B\"> Синтаксис языка </H1>"
   ]
  },
  {
   "cell_type": "markdown",
   "metadata": {},
   "source": [
    "Как и в любом языке в Python есть правила синтаксиса — если выражение составлено не по правилам, код не заработает. "
   ]
  },
  {
   "cell_type": "markdown",
   "metadata": {
    "id": "U8Qpxx-6lzrq"
   },
   "source": [
    "1. Конец строки выражения является окончанием инструкции, никаких знаков на конце не требуется, исключением являются вложенные инструкции.\n",
    "\n",
    "2. Вложенные инструкции объединяются в блоки по величине отступов. Отступ может быть любым, главное, чтобы в пределах одного вложенного блока отступ был одинаков.\n"
   ]
  },
  {
   "cell_type": "markdown",
   "metadata": {},
   "source": [
    "<H1  ALIGN=CENTER style=\"color:#C8196B\">Комментарии</H1>"
   ]
  },
  {
   "cell_type": "markdown",
   "metadata": {},
   "source": [
    "<b><font style=\"color:#285AA5\">Комментарии </font> </b>– способ прокомментировать код на ходу, на той же строке."
   ]
  },
  {
   "cell_type": "markdown",
   "metadata": {},
   "source": [
    "![xkcd_python](https://github.com/trisha00001/IT-Career-Hub/blob/main/image/s20h.png?raw=true)"
   ]
  },
  {
   "cell_type": "code",
   "execution_count": null,
   "metadata": {},
   "outputs": [],
   "source": [
    "# моя первая программа "
   ]
  },
  {
   "cell_type": "code",
   "execution_count": 7,
   "metadata": {},
   "outputs": [],
   "source": [
    "# -*- coding: utf-8 -*-\n",
    "# Это пустая программа\n"
   ]
  },
  {
   "cell_type": "code",
   "execution_count": null,
   "metadata": {},
   "outputs": [],
   "source": [
    "\"\"\" \n",
    "Это тоже комментарий\n",
    "\"\"\" \n"
   ]
  },
  {
   "cell_type": "markdown",
   "metadata": {},
   "source": [
    "![xkcd_python](https://github.com/trisha00001/IT-Career-Hub/blob/main/image/s21h.png?raw=true)"
   ]
  },
  {
   "cell_type": "markdown",
   "metadata": {},
   "source": [
    "<H1  ALIGN=CENTER style=\"color:#C8196B\">Команды print и input\n",
    "</H1>"
   ]
  },
  {
   "cell_type": "markdown",
   "metadata": {},
   "source": [
    "Для вывода данных на экран используется команда **print()**"
   ]
  },
  {
   "cell_type": "code",
   "execution_count": 1,
   "metadata": {},
   "outputs": [
    {
     "name": "stdout",
     "output_type": "stream",
     "text": [
      "Привет\n"
     ]
    }
   ],
   "source": [
    "# вывод на экран \n",
    "print ( 'Привет' )"
   ]
  },
  {
   "cell_type": "code",
   "execution_count": 4,
   "metadata": {
    "id": "QKz3czfElzrr",
    "outputId": "7f5b1b13-08e8-4751-b0d9-31163ca54206"
   },
   "outputs": [
    {
     "name": "stdout",
     "output_type": "stream",
     "text": [
      "Привет\n"
     ]
    }
   ],
   "source": [
    "# вывод на экран \n",
    "print ( \"Привет\" )\n"
   ]
  },
  {
   "cell_type": "markdown",
   "metadata": {},
   "source": [
    " Кавычки могут быть одинарные, двойные, тройные "
   ]
  },
  {
   "cell_type": "code",
   "execution_count": 5,
   "metadata": {
    "id": "fTnqZLTnlzrr",
    "outputId": "1ea0206c-1ad4-47f2-d91c-7c39775b703a"
   },
   "outputs": [
    {
     "name": "stdout",
     "output_type": "stream",
     "text": [
      "4\n"
     ]
    }
   ],
   "source": [
    "print(2+2)"
   ]
  },
  {
   "cell_type": "code",
   "execution_count": 6,
   "metadata": {
    "id": "XcdHjDfulzrr",
    "outputId": "a04b564f-b3a1-4433-9047-ff877f5f9381"
   },
   "outputs": [
    {
     "name": "stdout",
     "output_type": "stream",
     "text": [
      "2 + 2 = 4\n"
     ]
    }
   ],
   "source": [
    "print('2 + 2 =',2+2)"
   ]
  },
  {
   "cell_type": "code",
   "execution_count": 6,
   "metadata": {
    "id": "lmhwMJWllzrr",
    "outputId": "57271545-1e3b-4552-f6cb-5e0967eacd22"
   },
   "outputs": [
    {
     "ename": "SyntaxError",
     "evalue": "EOL while scanning string literal (<ipython-input-6-d57695ae41b1>, line 1)",
     "output_type": "error",
     "traceback": [
      "\u001b[1;36m  File \u001b[1;32m\"<ipython-input-6-d57695ae41b1>\"\u001b[1;36m, line \u001b[1;32m1\u001b[0m\n\u001b[1;33m    print(\"Hello,\u001b[0m\n\u001b[1;37m                 ^\u001b[0m\n\u001b[1;31mSyntaxError\u001b[0m\u001b[1;31m:\u001b[0m EOL while scanning string literal\n"
     ]
    }
   ],
   "source": [
    "print(\"Hello,\n",
    "      world!\")"
   ]
  },
  {
   "cell_type": "code",
   "execution_count": 4,
   "metadata": {
    "id": "sl2LjWpIlzrq",
    "outputId": "ca745de5-5c1b-4f5a-ebaf-1be9cb3ade37"
   },
   "outputs": [
    {
     "name": "stdout",
     "output_type": "stream",
     "text": [
      "el\n",
      "lo,\n",
      "world!\n"
     ]
    }
   ],
   "source": [
    "print(\"\"\"el\n",
    "lo,\n",
    "world!\"\"\")"
   ]
  },
  {
   "cell_type": "code",
   "execution_count": 5,
   "metadata": {},
   "outputs": [
    {
     "name": "stdout",
     "output_type": "stream",
     "text": [
      "el\n",
      "lo,\n",
      "world!\n"
     ]
    }
   ],
   "source": [
    "print('''el\n",
    "lo,\n",
    "world!''')"
   ]
  },
  {
   "cell_type": "markdown",
   "metadata": {},
   "source": [
    "## Функция print()"
   ]
  },
  {
   "cell_type": "markdown",
   "metadata": {},
   "source": [
    "Функция — это встроенная в Python или написанная разработчиком подпрограмма для выполнения определённой задачи."
   ]
  },
  {
   "cell_type": "markdown",
   "metadata": {},
   "source": [
    "<a id='p0'></a>\n",
    "# Функции"
   ]
  },
  {
   "cell_type": "markdown",
   "metadata": {},
   "source": [
    "Функция (в данном контексте) — это отдельная часть компьютерного кода, способная:\n",
    "\n",
    "- вызвать какой-либо эффект (например, отправить текст на терминал, создать файл, нарисовать изображение, воспроизвести звук и т. д.)\n",
    "- вычислить значение (модуль, квадратный корень);"
   ]
  },
  {
   "cell_type": "markdown",
   "metadata": {},
   "source": [
    "**function_name(argument)**"
   ]
  },
  {
   "cell_type": "markdown",
   "metadata": {},
   "source": [
    "Несмотря на количество необходимых/предоставленных аргументов, функции Python настоятельно требуют наличия пары круглых скобок — открывающей и закрывающей соответственно.\n",
    "\n",
    "Если вы собираетесь использовать функцию, которая не принимает никаких аргументов, вам все равно понадобятся круглые скобки."
   ]
  },
  {
   "cell_type": "markdown",
   "metadata": {},
   "source": [
    "1. Функции преобразования типов и классы: coerce, str, repr, int, list, tuple,\n",
    "long, float, complex, dict, super, file, bool, object\n",
    "2. Числовые и строковые функции: abs, divmod, ord, pow, len, chr, unichr, hex,\n",
    "oct, cmp, round, unicode\n",
    "3. Функции обработки данных: apply, map, filter, reduce, zip, range, xrange, max,\n",
    "min, iter, enumerate, sum\n",
    "4. Функции определения свойств: hash, id, callable, issubclass, isinstance,\n",
    "type\n",
    "5. Функции для доступа к внутренним структурам: locals, globals, vars, intern,\n",
    "dir\n",
    "6. Функции компиляции и исполнения: eval, execfile, reload, __import__,\n",
    "compile\n",
    "7. Функции ввода-вывода: input, raw_input, open\n",
    "8. Функции для работы с атрибутами: getattr, setattr, delattr, hasattr\n",
    "9. Функции-\"украшатели\" методов классов: staticmethod, classmethod, property\n",
    "10. Прочие функции: buffer, slice"
   ]
  },
  {
   "cell_type": "markdown",
   "metadata": {},
   "source": [
    "Назначение функции **print()** — вывод на экран (или «печать на экране»). После названия функции в скобках перечисляются её аргументы — данные, с которыми функция должна что-то сделать. Говорят, что аргументы передаются, а функция их принимает. Когда разработчик пишет имя функции с аргументами, он её вызывает. Само использование функции называется вызовом.\n",
    "\n",
    "Функция print() принимает в качестве аргументов строки, числа и многие другие объекты. Но можно вообще ничего ей не передавать — тогда на экране появится пустая строчка:"
   ]
  },
  {
   "cell_type": "code",
   "execution_count": 8,
   "metadata": {},
   "outputs": [
    {
     "name": "stdout",
     "output_type": "stream",
     "text": [
      "Функция print() применяется для вывода значений на экран\n",
      "Я стану специалистом в сфере IT\n",
      "\n",
      "2023\n"
     ]
    }
   ],
   "source": [
    "print('Функция print() применяется для вывода значений на экран')\n",
    "print(\"Я стану специалистом в сфере IT\")\n",
    "print()\n",
    "print(2023)"
   ]
  },
  {
   "cell_type": "markdown",
   "metadata": {},
   "source": [
    "Команда print() без аргумента печатает пустую строку"
   ]
  },
  {
   "cell_type": "markdown",
   "metadata": {},
   "source": [
    "## Аргументы команды print()"
   ]
  },
  {
   "cell_type": "markdown",
   "metadata": {},
   "source": [
    "Команда **print()** позволяет указывать несколько аргументов. Аргументы отделяются **запятыми** "
   ]
  },
  {
   "cell_type": "code",
   "execution_count": 2,
   "metadata": {},
   "outputs": [
    {
     "name": "stdout",
     "output_type": "stream",
     "text": [
      "я люблю программировать на Python\n"
     ]
    }
   ],
   "source": [
    "print('я люблю программировать','на Python')"
   ]
  },
  {
   "cell_type": "markdown",
   "metadata": {},
   "source": [
    "Чтобы напечатать несколько аргументов на одной строке, передайте их функции print() через запятую. При выводе на экран они будут по умолчанию разделены пробелом:"
   ]
  },
  {
   "cell_type": "code",
   "execution_count": 10,
   "metadata": {},
   "outputs": [],
   "source": [
    "first_movie_title = 2\n",
    "first_movie_year = '2023'"
   ]
  },
  {
   "cell_type": "code",
   "execution_count": 11,
   "metadata": {},
   "outputs": [
    {
     "name": "stdout",
     "output_type": "stream",
     "text": [
      "2 : 2023\n"
     ]
    }
   ],
   "source": [
    "print(first_movie_title, ':', first_movie_year) "
   ]
  },
  {
   "cell_type": "code",
   "execution_count": 5,
   "metadata": {},
   "outputs": [
    {
     "name": "stdout",
     "output_type": "stream",
     "text": [
      "23\n"
     ]
    }
   ],
   "source": [
    "print('2'+'3')"
   ]
  },
  {
   "cell_type": "code",
   "execution_count": 12,
   "metadata": {},
   "outputs": [
    {
     "name": "stdout",
     "output_type": "stream",
     "text": [
      "2+2=? 4\n"
     ]
    }
   ],
   "source": [
    "a = 4\n",
    "print ( \"2+2=?\", a )\n"
   ]
  },
  {
   "cell_type": "code",
   "execution_count": 13,
   "metadata": {},
   "outputs": [
    {
     "name": "stdout",
     "output_type": "stream",
     "text": [
      "Результат 6\n"
     ]
    }
   ],
   "source": [
    "a = 4\n",
    "b = 2\n",
    "\n",
    "print ( \"Результат\", a+b )"
   ]
  },
  {
   "cell_type": "code",
   "execution_count": 15,
   "metadata": {},
   "outputs": [
    {
     "name": "stdout",
     "output_type": "stream",
     "text": [
      "Результат4\n"
     ]
    }
   ],
   "source": [
    "a = 4\n",
    "b = 2\n",
    "\n",
    "print ( \"Результат\"+ str(a) )"
   ]
  },
  {
   "cell_type": "markdown",
   "metadata": {},
   "source": [
    "У функции print() есть несколько аргументов. Например, используя аргумент sep, можно указать, каким символом разделять значения между собой. По умолчанию аргумент sep содержит один пробел:"
   ]
  },
  {
   "cell_type": "code",
   "execution_count": 6,
   "metadata": {},
   "outputs": [
    {
     "name": "stdout",
     "output_type": "stream",
     "text": [
      "профессия аналитик данных\n"
     ]
    }
   ],
   "source": [
    "print('профессия', 'аналитик', 'данных')"
   ]
  },
  {
   "cell_type": "code",
   "execution_count": 7,
   "metadata": {},
   "outputs": [
    {
     "name": "stdout",
     "output_type": "stream",
     "text": [
      "профессия*аналитик*данных\n"
     ]
    }
   ],
   "source": [
    "print('профессия', 'аналитик', 'данных', sep='*')"
   ]
  },
  {
   "cell_type": "markdown",
   "metadata": {},
   "source": [
    "![xkcd_python](https://github.com/trisha00001/IT-Career-Hub/blob/main/image/s15h.png?raw=true)"
   ]
  },
  {
   "cell_type": "code",
   "execution_count": 8,
   "metadata": {},
   "outputs": [
    {
     "name": "stdout",
     "output_type": "stream",
     "text": [
      "My-name-is-Monty-Python.\n"
     ]
    }
   ],
   "source": [
    "print(\"My\", \"name\", \"is\", \"Monty\", \"Python.\", sep=\"-\")"
   ]
  },
  {
   "cell_type": "markdown",
   "metadata": {},
   "source": [
    "![xkcd_python](https://github.com/trisha00001/IT-Career-Hub/blob/main/image/s16h.png?raw=true)"
   ]
  },
  {
   "cell_type": "code",
   "execution_count": 9,
   "metadata": {},
   "outputs": [
    {
     "name": "stdout",
     "output_type": "stream",
     "text": [
      "My name is*"
     ]
    }
   ],
   "source": [
    "print(\"My\", \"name\", \"is\", end=\"*\")\n"
   ]
  },
  {
   "cell_type": "code",
   "execution_count": 10,
   "metadata": {},
   "outputs": [
    {
     "name": "stdout",
     "output_type": "stream",
     "text": [
      "1 2 3 4\n",
      "1*2*3*4\n",
      "1#2#3#4&"
     ]
    }
   ],
   "source": [
    "print(1, 2, 3, 4)\n",
    "print(1, 2, 3, 4, sep='*')\n",
    "print(1, 2, 3, 4, sep='#', end='&')"
   ]
  },
  {
   "cell_type": "markdown",
   "metadata": {},
   "source": [
    "![xkcd_python](https://github.com/trisha00001/IT-Career-Hub/blob/main/image/s18h.png?raw=true)"
   ]
  },
  {
   "cell_type": "markdown",
   "metadata": {},
   "source": [
    "<H4 style=\"color:#C8196B\">Задание\n",
    "</H4>"
   ]
  },
  {
   "cell_type": "markdown",
   "metadata": {},
   "source": [
    "что будет выведено"
   ]
  },
  {
   "cell_type": "code",
   "execution_count": null,
   "metadata": {},
   "outputs": [],
   "source": [
    "print('12','00','61',sep = ':')"
   ]
  },
  {
   "cell_type": "code",
   "execution_count": null,
   "metadata": {},
   "outputs": [],
   "source": [
    "print('A','B', sep  =\"#\", end = '!')"
   ]
  },
  {
   "cell_type": "code",
   "execution_count": 13,
   "metadata": {},
   "outputs": [
    {
     "name": "stdout",
     "output_type": "stream",
     "text": [
      "5\n",
      "Ответ:  5\n",
      "Ответ:  12\n",
      "5 + 7 = 12\n",
      "5+7=12\n"
     ]
    }
   ],
   "source": [
    "a = 5\n",
    "b = 7\n",
    "c =a+b\n",
    "print(a)\n",
    "print (\"Ответ: \", a)\n",
    "print (\"Ответ: \", a+b)\n",
    "print (a, \"+\", b, \"=\", c)\n",
    "print (a, \"+\", b, \"=\", c, sep = \"\")\n"
   ]
  },
  {
   "cell_type": "markdown",
   "metadata": {},
   "source": [
    "# Функция input()"
   ]
  },
  {
   "cell_type": "markdown",
   "metadata": {},
   "source": [
    "Функция input() способна считывать данные, введенные пользователем, и возвращать те же данные запущенной программе."
   ]
  },
  {
   "cell_type": "code",
   "execution_count": 3,
   "metadata": {},
   "outputs": [
    {
     "name": "stdout",
     "output_type": "stream",
     "text": [
      "Скажите мне что- нибудь...\n",
      "7\n",
      "Hmm... 7 ... Правда?\n"
     ]
    }
   ],
   "source": [
    "print(\"Скажите мне что- нибудь...\")\n",
    "anything = input()\n",
    "print(\"Hmm...\", anything, \"... Правда?\")\n"
   ]
  },
  {
   "cell_type": "code",
   "execution_count": 4,
   "metadata": {},
   "outputs": [
    {
     "name": "stdout",
     "output_type": "stream",
     "text": [
      "Введите число: 7\n"
     ]
    },
    {
     "ename": "TypeError",
     "evalue": "unsupported operand type(s) for ** or pow(): 'str' and 'float'",
     "output_type": "error",
     "traceback": [
      "\u001b[1;31m---------------------------------------------------------------------------\u001b[0m",
      "\u001b[1;31mTypeError\u001b[0m                                 Traceback (most recent call last)",
      "Input \u001b[1;32mIn [4]\u001b[0m, in \u001b[0;36m<cell line: 2>\u001b[1;34m()\u001b[0m\n\u001b[0;32m      1\u001b[0m anything \u001b[38;5;241m=\u001b[39m \u001b[38;5;28minput\u001b[39m(\u001b[38;5;124m\"\u001b[39m\u001b[38;5;124mВведите число: \u001b[39m\u001b[38;5;124m\"\u001b[39m)\n\u001b[1;32m----> 2\u001b[0m something \u001b[38;5;241m=\u001b[39m \u001b[43manything\u001b[49m\u001b[43m \u001b[49m\u001b[38;5;241;43m*\u001b[39;49m\u001b[38;5;241;43m*\u001b[39;49m\u001b[43m \u001b[49m\u001b[38;5;241;43m2.0\u001b[39;49m\n\u001b[0;32m      3\u001b[0m \u001b[38;5;28mprint\u001b[39m(anything, \u001b[38;5;124m\"\u001b[39m\u001b[38;5;124mво второй степени\u001b[39m\u001b[38;5;124m\"\u001b[39m, something)\n",
      "\u001b[1;31mTypeError\u001b[0m: unsupported operand type(s) for ** or pow(): 'str' and 'float'"
     ]
    }
   ],
   "source": [
    "anything = input(\"Введите число: \")\n",
    "something = anything ** 2.0\n",
    "print(anything, \"во второй степени\", something)"
   ]
  },
  {
   "cell_type": "code",
   "execution_count": 5,
   "metadata": {},
   "outputs": [
    {
     "name": "stdout",
     "output_type": "stream",
     "text": [
      "Введите число: 9\n",
      "9.0 во второй степени 81.0\n"
     ]
    }
   ],
   "source": [
    "anything = float(input(\"Введите число: \"))\n",
    "something = anything ** 2.0\n",
    "print(anything, \"во второй степени\", something)"
   ]
  },
  {
   "cell_type": "markdown",
   "metadata": {},
   "source": [
    "<H1  ALIGN=CENTER style=\"color:#C8196B\">Переменные</H1>"
   ]
  },
  {
   "cell_type": "markdown",
   "metadata": {},
   "source": [
    "Переменная – это именованный участок памяти, в котором хранятся\n",
    "данные"
   ]
  },
  {
   "cell_type": "code",
   "execution_count": null,
   "metadata": {},
   "outputs": [],
   "source": [
    "name = 'Roman'\n",
    "surname = input()\n",
    "print('Привет,', name, surname)"
   ]
  },
  {
   "cell_type": "markdown",
   "metadata": {},
   "source": [
    "в переменной name хранится строка 'Roman'\n",
    "в переменной surname хранится вводимый пользователем текст\n",
    "Любая переменная имеет имя и значение"
   ]
  },
  {
   "cell_type": "markdown",
   "metadata": {
    "id": "GH_5Q_CQlzrs"
   },
   "source": [
    "\n",
    "\n",
    "- Переменная - это место в памяти, где храниться значение \n",
    "- Переменные создаются при первом упоминании\n",
    "- Значение, хранящееся в переменной, может быть доступно или обновлено позже\n",
    "- Объявление переменных не требуется\n",
    "- Тип данных переменной определяется автоматически\n",
    "- Интерпретатор выделяет память на основе типа данных переменной\n",
    "\n",
    "Одно из основных различий в python по сравнению с другими языками, с которыми вы, возможно, знакомы, заключается в том, что переменные не объявляются и не типизированы строго."
   ]
  },
  {
   "cell_type": "code",
   "execution_count": null,
   "metadata": {},
   "outputs": [],
   "source": [
    "x = 5"
   ]
  },
  {
   "cell_type": "markdown",
   "metadata": {},
   "source": [
    "В Python переменная позволяет ссылаться на значение с именем. Для создания переменной используйте , как показано в следующем примере: x = 5\n",
    "Теперь можно использовать имя этой переменной,  вместо фактического значения 5"
   ]
  },
  {
   "cell_type": "code",
   "execution_count": 3,
   "metadata": {},
   "outputs": [
    {
     "name": "stdout",
     "output_type": "stream",
     "text": [
      "9\n",
      "9.0\n"
     ]
    }
   ],
   "source": [
    "number1 = float(input())\n",
    "print(number1)"
   ]
  },
  {
   "cell_type": "markdown",
   "metadata": {},
   "source": [
    "Переменные в Python позволяют «запомнить» информацию. Например, число или строку."
   ]
  },
  {
   "attachments": {},
   "cell_type": "markdown",
   "metadata": {},
   "source": [
    "<p style=\"color:rgb(50,150,200);\">Оператор </p>– это команда языка программирования (инструкция).\n",
    "<p style=\"color:rgb(50,150,200);\">Оператор присваивания</p> – это команда для записи нового значения переменной.\n"
   ]
  },
  {
   "cell_type": "markdown",
   "metadata": {},
   "source": [
    "\n",
    "Когда вы первый раз указываете имя переменной, это называется объявить переменную. В Python переменную всегда объявляют, присваивая ей какое-нибудь значение. Достаточно написать имя переменной, поставить = (это оператор присваивания) и по правую сторону от знака равенства ввести значение, которое вы хотите присвоить переменной.\n"
   ]
  },
  {
   "cell_type": "markdown",
   "metadata": {},
   "source": [
    "<img src=\"https://github.com/trisha00001/python/blob/main/img/Image%20(1).png?raw=true\" alt=\"альтернативный текст\">"
   ]
  },
  {
   "cell_type": "markdown",
   "metadata": {},
   "source": [
    "Переменные упрощают работу с данными. Любую строку или число можно сохранить в переменной с понятным именем. \n",
    "\n",
    "Итак, у любой переменной есть:\n",
    "- имя,\n",
    "- значение,\n",
    "- тип.\n"
   ]
  },
  {
   "cell_type": "markdown",
   "metadata": {},
   "source": [
    "<img src=\"https://github.com/trisha00001/IT-Career-Hub/blob/main/image/st.png?raw=true\" >"
   ]
  },
  {
   "cell_type": "markdown",
   "metadata": {},
   "source": [
    "Значением переменной может быть текст, число и даже целая таблица.\n",
    "Создадим, или, как ещё говорят, объявим переменную на языке Python:\n",
    "\n"
   ]
  },
  {
   "cell_type": "code",
   "execution_count": null,
   "metadata": {},
   "outputs": [],
   "source": [
    "robot = 'Cat' \n",
    "\n",
    "floors = 24 # Символ = — оператор присваивания. \n",
    "#Слева от него имя переменной, floors. Справа — значение, 24."
   ]
  },
  {
   "cell_type": "markdown",
   "metadata": {},
   "source": [
    "Можно заменить значение переменной floors, дописав ещё одну строчку:"
   ]
  },
  {
   "cell_type": "code",
   "execution_count": 1,
   "metadata": {},
   "outputs": [],
   "source": [
    "floors = 24\n",
    "floors = 25 "
   ]
  },
  {
   "cell_type": "markdown",
   "metadata": {},
   "source": [
    "Добавим в код функцию print() — она позволит вывести значение переменной на экран. Как вы думаете, что выведет такой код? \n"
   ]
  },
  {
   "cell_type": "markdown",
   "metadata": {
    "id": "PXOKnT4qlzrw"
   },
   "source": [
    "### Операторы присваивания\n",
    "<Переменная>= выражение"
   ]
  },
  {
   "cell_type": "code",
   "execution_count": null,
   "metadata": {
    "id": "GqQ5_nY5lzrw"
   },
   "outputs": [],
   "source": [
    "x = 2 + 5"
   ]
  },
  {
   "cell_type": "code",
   "execution_count": 15,
   "metadata": {
    "id": "_3wvNEN8lzrw"
   },
   "outputs": [
    {
     "name": "stdout",
     "output_type": "stream",
     "text": [
      "4\n",
      "4\n"
     ]
    }
   ],
   "source": [
    "# Множественное наследование\n",
    "x = y = 4\n",
    "print(x)\n",
    "print(y)"
   ]
  },
  {
   "cell_type": "code",
   "execution_count": 14,
   "metadata": {
    "id": "0VPmhTwwlzrw",
    "outputId": "fa3518f1-2482-4ed3-d8e5-33cec84e132b"
   },
   "outputs": [
    {
     "name": "stdout",
     "output_type": "stream",
     "text": [
      "2\n",
      "F\n"
     ]
    }
   ],
   "source": [
    "#Изменение значений переменных\n",
    "x = 2\n",
    "print(x)\n",
    "x = 'F'\n",
    "print(x)"
   ]
  },
  {
   "cell_type": "code",
   "execution_count": 24,
   "metadata": {
    "id": "Ya3JO83Tlzrx",
    "outputId": "35740368-cf98-4616-ca0e-acca20bee779"
   },
   "outputs": [
    {
     "name": "stdout",
     "output_type": "stream",
     "text": [
      "x 3\n",
      "y 2\n"
     ]
    }
   ],
   "source": [
    "# Поменять значения переменных\n",
    "x=2\n",
    "y=3\n",
    "x,y = y,x\n",
    "print('x', x)\n",
    "print('y',y)"
   ]
  },
  {
   "attachments": {},
   "cell_type": "markdown",
   "metadata": {},
   "source": [
    "<p  style=\"color:rgba(220,30,100,1);\">МОЖНО использовать</p>\n",
    "\n",
    "- латинские буквы (A-Z, a-z)\n",
    "\n",
    "- русские буквы (не рекомендуется!)\n",
    "\n",
    "- цифры\n",
    "\n",
    "- знак подчеркивания _\n",
    "<p  style=\"background-color:rgb(224, 171, 224);\">              заглавные и строчные буквы **различаются**</p>\n",
    "<p  style=\"background-color:rgb(224, 171, 224);\">имя не может начинаться с цифры</p>"
   ]
  },
  {
   "attachments": {},
   "cell_type": "markdown",
   "metadata": {},
   "source": [
    "<p  style=\"color:rgba(220,30,100,1);\">Нельзя использовать</p>\n",
    "\n",
    "<p style=\"color:rgb(50,150,200);\"> - скобки </p>\n",
    "\n",
    "<p style=\"color:rgb(50,150,200);\"> - знаки +, =, !, ? и др.</p>"
   ]
  },
  {
   "cell_type": "code",
   "execution_count": 16,
   "metadata": {},
   "outputs": [
    {
     "ename": "SyntaxError",
     "evalue": "invalid syntax (<ipython-input-16-3c5f3c318787>, line 1)",
     "output_type": "error",
     "traceback": [
      "\u001b[1;36m  File \u001b[1;32m\"<ipython-input-16-3c5f3c318787>\"\u001b[1;36m, line \u001b[1;32m1\u001b[0m\n\u001b[1;33m    1floor = 1\u001b[0m\n\u001b[1;37m     ^\u001b[0m\n\u001b[1;31mSyntaxError\u001b[0m\u001b[1;31m:\u001b[0m invalid syntax\n"
     ]
    }
   ],
   "source": [
    "1floor = 1\n",
    "2floor = 2\n",
    "3floor = 3\n",
    "\n",
    "print (1floor, 2floor, 3floor)"
   ]
  },
  {
   "cell_type": "markdown",
   "metadata": {},
   "source": [
    "<H4 style=\"color:#C8196B\">Задание\n",
    "</H4>"
   ]
  },
  {
   "attachments": {},
   "cell_type": "markdown",
   "metadata": {},
   "source": [
    "Какие имена правильные?"
   ]
  },
  {
   "cell_type": "markdown",
   "metadata": {},
   "source": [
    "<p style=\"color:rgb(50,150,200);\">\n",
    "AXby    </p>\n",
    "<p style=\"color:rgb(50,150,200);\">R&B    </p>\n",
    "<p style=\"color:rgb(50,150,200);\">4Wheel  </p>  \n",
    "<p style=\"color:rgb(50,150,200);\"> Вася    </p>\n",
    "<p style=\"color:rgb(50,150,200);\"> “PesBarbos” </p>\n",
    "<p style=\"color:rgb(50,150,200);\">TU154    </p>\n",
    "<p style=\"color:rgb(50,150,200);\">[QuQu]     </p>\n",
    "<p style=\"color:rgb(50,150,200);\">_ABBA    </p>\n",
    " <p style=\"color:rgb(50,150,200);\">A+B</p>\n"
   ]
  },
  {
   "cell_type": "markdown",
   "metadata": {},
   "source": [
    "### Как выбрать имя переменной"
   ]
  },
  {
   "cell_type": "markdown",
   "metadata": {},
   "source": [
    "\n",
    "Следуйте правилам синтаксиса и хорошему стилю. Если нарушить правила, программа не заработает. Если забыть про стиль — разобраться в коде станет сложнее.\n",
    "\n",
    "Правила синтаксиса:\n",
    "- Имя должно быть уникальным.\n",
    "- Имя начинается с буквы или знака подчёркивания.\n",
    "- Имя содержит только латинские буквы, цифры и знак подчёркивания. Добавлять в имя символы вроде ! или разделять слова пробелом нельзя. \n",
    "- Имя не совпадает с зарезервированными именами. Так, нельзя объявить переменную print — это имя зарезервировано для функции print().\n",
    "- Имена переменных — регистрозависимые. Floors, floors и FLOORS — три разные переменные, потому что их имена состоят из символов разного регистра: строчных и прописных.\n",
    "\n",
    "Легко запутаться в переменных, которые отличаются только регистром. Поэтому разработчики предпочитают всегда использовать строчные буквы, нижний регистр. Это — хороший стиль, который упрощает работу с кодом. \n",
    "\n",
    "Имя переменной не должно совпадать с зарезервированными именами:\n",
    "- Названиями операторов — in, as, return, if, del и другими.\n",
    "- Стандартными названиями функций — print(), sum(), eval() и другими.\n",
    "- Стандартными названиями типов данных: list, str, int и другими."
   ]
  },
  {
   "cell_type": "markdown",
   "metadata": {},
   "source": [
    "❗ Называть переменные зарезервированными именами нельзя, потому что это может навредить работе кода в проверочных заданиях. \n",
    "\n",
    "Так, дать переменным имена операторов невозможно — это вызовет ошибку invalid syntax. А если вы объявите переменные с названиями функций и типов данных, то Python переопределит имена объектов, из-за чего пострадает функционал языка. Назвав переменную print, вы закрепите это имя за ней и уже не сможете обратиться к функции print().\n",
    "\n",
    "Со временем зарезервированные имена отложатся у вас в памяти, но пока можете сверяться со списками стандартных для Python <a href=\"https://docs.python.org/3/library/functions.html\">функций</a> и <a href=\"https://docs.python.org/3/library/stdtypes.html\">типов данных</a>."
   ]
  },
  {
   "cell_type": "code",
   "execution_count": 8,
   "metadata": {},
   "outputs": [],
   "source": [
    "a = 2\n",
    "b = 3.2\n",
    "\n",
    "s= 'ghjk'"
   ]
  },
  {
   "cell_type": "markdown",
   "metadata": {},
   "source": [
    "### Хороший стиль:"
   ]
  },
  {
   "cell_type": "markdown",
   "metadata": {},
   "source": [
    "- Имя выражает смысл переменной. Например, для цены товара подойдёт имя price, а для названия — item."
   ]
  },
  {
   "cell_type": "code",
   "execution_count": 2,
   "metadata": {},
   "outputs": [],
   "source": [
    "price = 399\n",
    "item = 'pizza'"
   ]
  },
  {
   "cell_type": "markdown",
   "metadata": {},
   "source": [
    "\n",
    "![xkcd_python](https://raw.githubusercontent.com/trisha00001/IT-Career-Hub/refs/heads/main/s9h.png)"
   ]
  },
  {
   "cell_type": "markdown",
   "metadata": {},
   "source": [
    "- Лучше использовать английские слова, а не писать русские латиницей. Если не хватает владения английским — не страшно. Пока вы изучаете Python, ваш английский улучшается сам собой. А когда сомневаетесь в выборе слова, проверьте себя в онлайн-переводчике — мы тоже так делаем.\n",
    "- Когда имя состоит из нескольких слов, их пишут через знак_подчёркивания. Например, имя покупателя — customer_name, доход за предыдущий месяц — previous_month_income. Такую форму записи называют «змеиным регистром» (англ. Snake case) — в противоположность «верблюжьему», который вы тоже видели: floorNumberTwo. Легко запомнить Python — значит, змеиный регистр.\n",
    "- В имени используют только строчные буквы. И вы знаете, почему так."
   ]
  },
  {
   "cell_type": "markdown",
   "metadata": {},
   "source": [
    "Ещё функции print() можно передать имя переменной — тогда на экране появится её значение. В этом случае кавычки ставить не нужно:"
   ]
  },
  {
   "cell_type": "code",
   "execution_count": 17,
   "metadata": {},
   "outputs": [
    {
     "name": "stdout",
     "output_type": "stream",
     "text": [
      "35\n"
     ]
    }
   ],
   "source": [
    "metric = 35\n",
    "print(metric)"
   ]
  },
  {
   "cell_type": "markdown",
   "metadata": {},
   "source": [
    "Чтобы напечатать несколько аргументов на одной строке, передайте их функции print() через запятую. При выводе на экран они будут по умолчанию разделены пробелом:"
   ]
  },
  {
   "cell_type": "code",
   "execution_count": 5,
   "metadata": {},
   "outputs": [],
   "source": [
    "a = 0\n",
    "n = \"L\"\n",
    "y = 2.5"
   ]
  },
  {
   "cell_type": "markdown",
   "metadata": {},
   "source": [
    "<H1  ALIGN=CENTER style=\"color:#C8196B\"> Типы данных</H1>"
   ]
  },
  {
   "cell_type": "markdown",
   "metadata": {},
   "source": [
    "Данные, сохранённые в переменных, — это объекты. Всякий объект принадлежит какому-нибудь типу: это может быть целое или дробное число, строка, логическое значение и т. д."
   ]
  },
  {
   "cell_type": "code",
   "execution_count": null,
   "metadata": {},
   "outputs": [],
   "source": [
    "x = 10        # integer.\n",
    "\n",
    "type(x)"
   ]
  },
  {
   "cell_type": "code",
   "execution_count": null,
   "metadata": {},
   "outputs": [],
   "source": [
    "x = 10.5        #  float.\n",
    "\n",
    "type(x)"
   ]
  },
  {
   "cell_type": "code",
   "execution_count": null,
   "metadata": {},
   "outputs": [],
   "source": [
    "x = \"Buck\"    # string.\n",
    "\n",
    "type(x)"
   ]
  },
  {
   "attachments": {},
   "cell_type": "markdown",
   "metadata": {},
   "source": [
    "### Зачем нужен тип переменной?"
   ]
  },
  {
   "cell_type": "markdown",
   "metadata": {},
   "source": [
    "Тип определяет:\n",
    "- область допустимых значений\n",
    "- допустимые операции\n",
    "- объём памяти\n",
    "- формат хранения данных\n"
   ]
  },
  {
   "cell_type": "markdown",
   "metadata": {},
   "source": [
    "\n",
    "\n",
    "### Чем отличаются типы данных\n",
    "\n",
    "В Python реализована динамическая типизация. То есть не вы указываете типы данных при создании объектов, а Python определяет их за вас. На практике проще от этого не становится: при написании программ о типах нужно думать постоянно."
   ]
  },
  {
   "cell_type": "markdown",
   "metadata": {},
   "source": [
    " <table border=\"1\">\n",
    "   <caption>Типы данных в Python</caption>\n",
    "   <tr>\n",
    "    <th>Тип данных</th>\n",
    "    <th>Для чего</th>\n",
    "    <th>Примеры объектов</th>\n",
    "    <th>Пример создания</th>\n",
    "   </tr>\n",
    "   <tr>\n",
    "    <td>int</td>\n",
    "    <td>целые числа</td>\n",
    "    <td>10, 777, -10, -1234, 100000</td>\n",
    "    <td>items = 10</td>\n",
    "   </tr>\n",
    "    <tr>\n",
    "    <td>float</td>\n",
    "    <td>вещественные числа</td>\n",
    "    <td>3.14, 12.35, -2.1, 1.0002</td>\n",
    "    <td>pi_number = 3.14</td>\n",
    "   </tr>\n",
    "    <tr>\n",
    "    <td>str</td>\n",
    "    <td>строки</td>\n",
    "    <td>'Coltrane', 'Jazz Artist', 'Jazz is a kind of music in which improvisation is typically an important part.'</td>\n",
    "    <td>artist = 'Coltrane'</td>\n",
    "   </tr>\n",
    "    <tr>\n",
    "    <td>bool</td>\n",
    "    <td>логические значения</td>\n",
    "    <td>True, False</td>\n",
    "    <td>check = True</td>\n",
    "   </tr>\n",
    "   \n",
    "   \n",
    "  </table>"
   ]
  },
  {
   "cell_type": "code",
   "execution_count": 1,
   "metadata": {},
   "outputs": [
    {
     "data": {
      "text/plain": [
       "9223372036854775807"
      ]
     },
     "execution_count": 1,
     "metadata": {},
     "output_type": "execute_result"
    }
   ],
   "source": [
    "import sys\n",
    "sys.maxsize"
   ]
  },
  {
   "cell_type": "code",
   "execution_count": 3,
   "metadata": {},
   "outputs": [
    {
     "data": {
      "text/plain": [
       "9223372036854775807"
      ]
     },
     "execution_count": 3,
     "metadata": {},
     "output_type": "execute_result"
    }
   ],
   "source": [
    "2**63-1"
   ]
  },
  {
   "cell_type": "markdown",
   "metadata": {},
   "source": [
    "Узнаем типы объектов, вызвав функцию type(). Сделаем это внутри скобок функции print(), чтобы сразу увидеть результат на экране:"
   ]
  },
  {
   "cell_type": "code",
   "execution_count": 6,
   "metadata": {},
   "outputs": [
    {
     "name": "stdout",
     "output_type": "stream",
     "text": [
      "<class 'int'>\n",
      "<class 'str'>\n",
      "<class 'float'>\n"
     ]
    }
   ],
   "source": [
    "print(type(a))\n",
    "print(type(n))\n",
    "print(type(y))"
   ]
  },
  {
   "cell_type": "markdown",
   "metadata": {
    "id": "WTZ3bkPmlzrx"
   },
   "source": [
    "# Преобразование типов Python и приведение типов"
   ]
  },
  {
   "cell_type": "markdown",
   "metadata": {
    "id": "OS22R2rglzrx"
   },
   "source": [
    "1. Неявное преобразование типов\n",
    "\n",
    "2. Явное преобразование типов"
   ]
  },
  {
   "cell_type": "markdown",
   "metadata": {},
   "source": [
    "### Преобразование типов"
   ]
  },
  {
   "cell_type": "markdown",
   "metadata": {},
   "source": [
    "Тип данных определяет операции, которые с этими данными можно совершать. \n",
    "\n",
    "Поэтому часто возникает потребность привести один тип к другому, то есть выполнить преобразование типов. Например, число может храниться в виде строки: '24'. Чтобы сложить его с другим числом, сперва нужно преобразовать строку в число — str в int.\n",
    "\n",
    "В прошлом уроке вы посчитали количество сайтов на русском языке, вошедших в 10 миллионов самых популярных, и получили результат типа float:"
   ]
  },
  {
   "cell_type": "code",
   "execution_count": 18,
   "metadata": {},
   "outputs": [
    {
     "name": "stdout",
     "output_type": "stream",
     "text": [
      "610000.0\n",
      "<class 'float'>\n"
     ]
    }
   ],
   "source": [
    "russian_web_part = 0.061\n",
    "web_popular = 10000000\n",
    "\n",
    "russian_web_popular = russian_web_part * web_popular\n",
    "\n",
    "print(russian_web_popular)\n",
    "print(type(russian_web_popular))"
   ]
  },
  {
   "cell_type": "markdown",
   "metadata": {},
   "source": [
    "С точки зрения Python, результат — вещественное число. Но фактически это число целое — ведь у него нет дробной части. В таком случае бывает полезно преобразовать тип данных: перевести значение из вещественного типа в целочисленный, из float в int. Тогда тип данных придёт в соответствие со значением в переменной.\n",
    "\n",
    "Основные функции для преобразования типов в Python:\n",
    "- **int()** — превращает объект в целое число;\n",
    "- **float()** — превращает объект в вещественное число;\n",
    "- **str()** — превращает объект в строку.\n",
    "\n",
    "\n",
    "Применим функцию int(), чтобы привести значение к целочисленному типу:"
   ]
  },
  {
   "cell_type": "code",
   "execution_count": 19,
   "metadata": {},
   "outputs": [
    {
     "name": "stdout",
     "output_type": "stream",
     "text": [
      "610000\n",
      "<class 'int'>\n"
     ]
    }
   ],
   "source": [
    "russian_web_part = 0.061\n",
    "web_popular = 10000000\n",
    "\n",
    "russian_web_popular = russian_web_part * web_popular\n",
    "russian_web_popular = int(russian_web_popular)\n",
    "print(russian_web_popular)\n",
    "print(type(russian_web_popular))"
   ]
  },
  {
   "cell_type": "markdown",
   "metadata": {},
   "source": [
    "Произошла «перезапись» переменной russian_web_popular: старое значение сменилось результатом применения функции int(). Теперь в переменной лежит целое число.\n",
    "\n",
    "### Дробные числа\n",
    "\n",
    "Когда переменная хранит вещественное число с ненулевой дробной частью, функция int() просто отбрасывает дробную часть. Положительные числа округляются вниз, а отрицательные — вверх."
   ]
  },
  {
   "cell_type": "code",
   "execution_count": 20,
   "metadata": {},
   "outputs": [
    {
     "name": "stdout",
     "output_type": "stream",
     "text": [
      "284\n",
      "128\n"
     ]
    }
   ],
   "source": [
    "fra_total_speakers = 284.9\n",
    "jap_total_speakers = 128.3\n",
    "\n",
    "print(int(fra_total_speakers))\n",
    "print(int(jap_total_speakers))"
   ]
  },
  {
   "cell_type": "code",
   "execution_count": null,
   "metadata": {},
   "outputs": [],
   "source": [
    "a = input()\n",
    "b = input()\n",
    "print(a+b)"
   ]
  },
  {
   "cell_type": "code",
   "execution_count": null,
   "metadata": {},
   "outputs": [],
   "source": [
    "a = int(input())\n",
    "b = int(input())\n",
    "print(a+b)"
   ]
  },
  {
   "cell_type": "markdown",
   "metadata": {
    "id": "5mTR8_BFlzru"
   },
   "source": [
    "# Операторы в Python"
   ]
  },
  {
   "cell_type": "markdown",
   "metadata": {
    "id": "AjrHMYSdlzru"
   },
   "source": [
    "<b>Оператор</b> в Python — это символ, который выполняет операцию над одним или несколькими операндами.<br>\n",
    "<b>Операндом </b>выступает переменная или значение, над которыми проводится операция.\n",
    "\n",
    "- Арифметические операторы\n",
    "- Операторы сравнения\n",
    "- Операторы присваивания\n",
    "- Логические операторы\n",
    "- Операторы принадлежности\n",
    "- Операторы тождественности\n",
    "- Битовые операторы"
   ]
  },
  {
   "cell_type": "markdown",
   "metadata": {},
   "source": [
    "### арифметические операции"
   ]
  },
  {
   "cell_type": "markdown",
   "metadata": {},
   "source": [
    "В математике\tВ Python\n",
    "\n",
    "Сложение\t     +\n",
    "\n",
    "Вычитание\t     -\n",
    "\n",
    "Умножение        *\n",
    "\n",
    "Деление\t         /\n",
    "\n",
    "Степень         **"
   ]
  },
  {
   "cell_type": "code",
   "execution_count": 14,
   "metadata": {},
   "outputs": [
    {
     "name": "stdout",
     "output_type": "stream",
     "text": [
      "10\n",
      "0\n"
     ]
    }
   ],
   "source": [
    "# Addition, subtraction\n",
    "print(5 + 5)\n",
    "print(5 - 5)"
   ]
  },
  {
   "cell_type": "code",
   "execution_count": 15,
   "metadata": {},
   "outputs": [
    {
     "name": "stdout",
     "output_type": "stream",
     "text": [
      "15\n",
      "5.0\n",
      "4\n",
      "16\n"
     ]
    }
   ],
   "source": [
    "\n",
    "# Multiplication, division, modulo, and exponentiation\n",
    "print(3 * 5)\n",
    "print(10 / 2)\n",
    "print(18 % 7)\n",
    "print(4 ** 2)"
   ]
  },
  {
   "cell_type": "markdown",
   "metadata": {},
   "source": [
    "<h2 style=\"color:rgb(50,150,200);\">Возведение в степень </H1>"
   ]
  },
  {
   "cell_type": "code",
   "execution_count": 17,
   "metadata": {},
   "outputs": [
    {
     "name": "stdout",
     "output_type": "stream",
     "text": [
      "1\n",
      "2\n",
      "4\n",
      "8\n",
      "0.5\n"
     ]
    }
   ],
   "source": [
    "print(2 ** 0)\n",
    "print(2 ** 1)\n",
    "print(2 ** 2)\n",
    "print(2 ** 3)\n",
    "print(2 ** (-1))"
   ]
  },
  {
   "cell_type": "markdown",
   "metadata": {},
   "source": [
    "<h2 style=\"color:rgb(50,150,200);\">Операция целочисленного деления </H1>"
   ]
  },
  {
   "cell_type": "code",
   "execution_count": 4,
   "metadata": {},
   "outputs": [
    {
     "name": "stdout",
     "output_type": "stream",
     "text": [
      "2\n"
     ]
    }
   ],
   "source": [
    "print(7//3) # целая часть"
   ]
  },
  {
   "cell_type": "code",
   "execution_count": null,
   "metadata": {},
   "outputs": [],
   "source": [
    "print(10 // 3)\n",
    "print(10 // 4)\n",
    "print(10 // 5)\n",
    "print(10 // 6)\n",
    "print(10 // 12)\n",
    "print(-10 // 12)"
   ]
  },
  {
   "cell_type": "markdown",
   "metadata": {},
   "source": [
    "<h2 style=\"color:rgb(50,150,200);\">Нахождение остатка от деления</H1>"
   ]
  },
  {
   "cell_type": "code",
   "execution_count": 5,
   "metadata": {},
   "outputs": [
    {
     "name": "stdout",
     "output_type": "stream",
     "text": [
      "1\n"
     ]
    }
   ],
   "source": [
    "print(7%3) #остаток"
   ]
  },
  {
   "cell_type": "code",
   "execution_count": null,
   "metadata": {},
   "outputs": [],
   "source": [
    "print(10 % 3)\n",
    "print(10 % 4)\n",
    "print(10 % 5)\n",
    "print(10 % 6)\n",
    "print(10 % 12)\n",
    "print(3 % 7)"
   ]
  },
  {
   "cell_type": "markdown",
   "metadata": {},
   "source": [
    "Предположим, у вас есть 100 долларов, которые вы можете инвестировать с доходностью 10% каждый год. Через год это <i>100 * 1,1=110</i> долларов, а через два года это <i>100 * 1,1 * 1.1=121</i>. Добавьте код, чтобы рассчитать, сколько денег вы получите через 7 лет, и распечатайте результат."
   ]
  },
  {
   "cell_type": "code",
   "execution_count": 13,
   "metadata": {},
   "outputs": [
    {
     "name": "stdout",
     "output_type": "stream",
     "text": [
      "10\n",
      "0\n",
      "15\n",
      "5.0\n",
      "4\n",
      "16\n",
      "194.87171000000012\n"
     ]
    }
   ],
   "source": [
    "# How much is your $100 worth after 7 years?\n",
    "print(100 * 1.1 ** 7)"
   ]
  },
  {
   "cell_type": "markdown",
   "metadata": {},
   "source": [
    "## Порядок действий\n",
    "Порядок выполнения арифметических операций в Python соответствует привычному «школьному»:\n",
    "1. Действия в скобках.\n",
    "2. Возведение в степень \n",
    "3. Умножение, деление.\n",
    "4. Сложение, вычитание."
   ]
  },
  {
   "cell_type": "code",
   "execution_count": 16,
   "metadata": {},
   "outputs": [
    {
     "name": "stdout",
     "output_type": "stream",
     "text": [
      "14\n",
      "20\n"
     ]
    }
   ],
   "source": [
    "num1 = 2 + 3 * 4\n",
    "num2 = (2 + 3) * 4\n",
    "print(num1)\n",
    "print(num2)"
   ]
  },
  {
   "cell_type": "markdown",
   "metadata": {},
   "source": [
    "n школьников делят k яблок поровну, неделящийся остаток остается в корзинке. Сколько яблок достанется каждому школьнику? Сколько яблок останется в корзинке? Программа получает на вход числа n и k и должна вывести искомое количество яблок (два числа).\n"
   ]
  },
  {
   "cell_type": "markdown",
   "metadata": {},
   "source": [
    "<h2 style=\"color:rgb(50,150,200);\">Битовые операции</H2>"
   ]
  },
  {
   "cell_type": "markdown",
   "metadata": {},
   "source": [
    "#### Побитовые операторы\n",
    "\n",
    "Данные операторы предназначены для работы с данными в битовом (двоичном) формате. Про битовые операции смотрите статью на википедии(https://ru.wikipedia.org/wiki/%D0%91%D0%B8%D1%82%D0%BE%D0%B2%D0%B0%D1%8F_%D0%BE%D0%BF%D0%B5%D1%80%D0%B0%D1%86%D0%B8%D1%8F).\n",
    "\n",
    " <p> ~ — побитовое отрицание (для него требуется только один операнд); </p>\n",
    " <p> & — побитовое \"И\"; </p>\n",
    " <p> | — побитовое \"ИЛИ\"; </p>\n",
    " <p> ^ — исключающее \"ИЛИ\"; </p>\n",
    " <p> << — побитовый сдвиг влево;</p>\n",
    "  <p> >> — побитовый сдвиг вправо. </p>"
   ]
  },
  {
   "cell_type": "markdown",
   "metadata": {},
   "source": [
    "\n",
    "![xkcd_python](https://github.com/trisha00001/IT-Career-Hub/blob/main/image/unnamed%20(1).jpg?raw=true)"
   ]
  },
  {
   "cell_type": "code",
   "execution_count": 20,
   "metadata": {},
   "outputs": [],
   "source": [
    "a = 11\n",
    "b = 34"
   ]
  },
  {
   "cell_type": "markdown",
   "metadata": {},
   "source": [
    "![image.png](https://github.com/trisha00001/IT-Career-Hub/blob/main/image/bi.png?raw=true)"
   ]
  },
  {
   "cell_type": "code",
   "execution_count": 19,
   "metadata": {},
   "outputs": [
    {
     "name": "stdout",
     "output_type": "stream",
     "text": [
      "2\n",
      "43\n",
      "41\n",
      "-12\n",
      "22\n",
      "2\n"
     ]
    }
   ],
   "source": [
    "print(a & b)\n",
    "print(a | b)\n",
    "print(a ^ b)\n",
    "print(~a)\n",
    "print(a << 1)\n",
    "print(a >> 2)"
   ]
  },
  {
   "attachments": {},
   "cell_type": "markdown",
   "metadata": {},
   "source": [
    "\n",
    "![xkcd_python](https://github.com/trisha00001/IT-Career-Hub/blob/main/image/s7h.png?raw=true)"
   ]
  },
  {
   "attachments": {},
   "cell_type": "markdown",
   "metadata": {},
   "source": [
    "<h2 style=\"color:rgb(50,150,200);\">Сокращенная запись операций</H2>"
   ]
  },
  {
   "cell_type": "code",
   "execution_count": 21,
   "metadata": {},
   "outputs": [],
   "source": [
    "a += b  # a = a + b \n",
    "a -= b  # a = a - b \n",
    "a *= b  # a = a * b \n",
    "a /= b  # a = a / b\n",
    "a //= b # a = a // b\n",
    "a %= b  # a = a % b\n"
   ]
  },
  {
   "cell_type": "markdown",
   "metadata": {},
   "source": [
    "Реализовать другие функции с помощью элементарных математических операций.\n",
    "Например, максимум, в виде последовательности выражений, в которых запрещены функции и сравнения: print((a + b) / 2 + abs(a - b) / 2). \n",
    "\n",
    "Написать программу, которая принимает несколько аргументов и возвращает заранее заданную функцию от них. \n",
    "Например, программе на вход приходят 4 числа, записанные в разных строках – количество дней, часов, минут и секунд. Вывести это время в секундах.\n"
   ]
  },
  {
   "cell_type": "code",
   "execution_count": null,
   "metadata": {},
   "outputs": [],
   "source": []
  }
 ],
 "metadata": {
  "colab": {
   "name": "Первая лекция Python.ipynb",
   "provenance": []
  },
  "kernelspec": {
   "display_name": "Python 3 (ipykernel)",
   "language": "python",
   "name": "python3"
  },
  "language_info": {
   "codemirror_mode": {
    "name": "ipython",
    "version": 3
   },
   "file_extension": ".py",
   "mimetype": "text/x-python",
   "name": "python",
   "nbconvert_exporter": "python",
   "pygments_lexer": "ipython3",
   "version": "3.9.12"
  }
 },
 "nbformat": 4,
 "nbformat_minor": 1
}
