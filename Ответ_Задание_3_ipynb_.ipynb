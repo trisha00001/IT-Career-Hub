{
  "nbformat": 4,
  "nbformat_minor": 0,
  "metadata": {
    "colab": {
      "provenance": []
    },
    "kernelspec": {
      "name": "python3",
      "display_name": "Python 3"
    },
    "language_info": {
      "name": "python"
    }
  },
  "cells": [
    {
      "cell_type": "markdown",
      "source": [
        "1. Напишите программу, которая печатает на экране Hello World. Убедитесь, что она работает, в консоле виден результат, нет ошибок."
      ],
      "metadata": {
        "id": "ndyndAbzOdJe"
      }
    },
    {
      "cell_type": "code",
      "source": [
        "print('Hello World')"
      ],
      "metadata": {
        "id": "PWeRLQe1WHmN"
      },
      "execution_count": null,
      "outputs": []
    },
    {
      "cell_type": "markdown",
      "source": [
        "2. Вспоминаем базовые команды ввода-вывода. Прочитайте строку с клавиатур, например, ваше имя. Распечатайте приветствие “Hello, name”.\n"
      ],
      "metadata": {
        "id": "YDOqB5qIWI-8"
      }
    },
    {
      "cell_type": "markdown",
      "source": [
        "name=input ('Enter your name'),\n",
        "print('Hello,',name)"
      ],
      "metadata": {
        "id": "SWStiGHNUUn2"
      }
    },
    {
      "cell_type": "code",
      "source": [
        "name=input ('Enter your name')\n",
        "print('Hello,', name)"
      ],
      "metadata": {
        "colab": {
          "base_uri": "https://localhost:8080/"
        },
        "id": "mErzrqIoTenl",
        "outputId": "a65e1cbb-99db-40eb-bda5-67992b5f429f"
      },
      "execution_count": null,
      "outputs": [
        {
          "output_type": "stream",
          "name": "stdout",
          "text": [
            "Enter your namegv\n",
            "Hello, gv\n"
          ]
        }
      ]
    },
    {
      "cell_type": "code",
      "source": [
        "name = input('Введите свое имя')\n",
        "print('Hello,', name)"
      ],
      "metadata": {
        "id": "XxTrCcKjYWIA",
        "colab": {
          "base_uri": "https://localhost:8080/"
        },
        "outputId": "4f26e133-9eaf-45f4-9a1e-d7b429e5de86"
      },
      "execution_count": null,
      "outputs": [
        {
          "output_type": "stream",
          "name": "stdout",
          "text": [
            "Введите свое имяТаня\n",
            "Hello, Таня\n"
          ]
        }
      ]
    },
    {
      "cell_type": "markdown",
      "source": [
        "3. Какие типы данных вы знаете? Зачем они нужны? Можете привести пример ошибки при неправильном выборе типа данных? Можно сложить 2 (число) и “2” (строка)."
      ],
      "metadata": {
        "id": "v3S55M9NYWTR"
      }
    },
    {
      "cell_type": "code",
      "source": [
        "a = input()\n",
        "b = input()\n",
        "print(a+b)"
      ],
      "metadata": {
        "id": "0Dx0zUewYb2h",
        "colab": {
          "base_uri": "https://localhost:8080/"
        },
        "outputId": "69036bf0-e0a3-45a9-dde3-61163830306d"
      },
      "execution_count": null,
      "outputs": [
        {
          "output_type": "stream",
          "name": "stdout",
          "text": [
            "6\n",
            "8\n",
            "68\n"
          ]
        }
      ]
    },
    {
      "cell_type": "code",
      "source": [
        "a = int(input())\n",
        "b = int(input())\n",
        "print(a+b)"
      ],
      "metadata": {
        "colab": {
          "base_uri": "https://localhost:8080/"
        },
        "id": "82jtU5WrYTUR",
        "outputId": "2ef8d7ef-4d03-4274-e01c-f07bc956e239"
      },
      "execution_count": null,
      "outputs": [
        {
          "output_type": "stream",
          "name": "stdout",
          "text": [
            "34\n",
            "6\n",
            "40\n"
          ]
        }
      ]
    },
    {
      "cell_type": "markdown",
      "source": [
        "54. Напишите программу, которая считает и выводит на экран последовательно (по одному значению в каждой строчке) значения следующих математических выражений: «3 в степени 5» и «-8 разделить на -4»."
      ],
      "metadata": {
        "id": "4r5qUNQ7YcCA"
      }
    },
    {
      "cell_type": "code",
      "source": [
        "print(3**5)"
      ],
      "metadata": {
        "id": "QvbV0b-qYhsS",
        "colab": {
          "base_uri": "https://localhost:8080/"
        },
        "outputId": "5a4b3d3e-bcc9-421e-8876-cf48eb1c9a35"
      },
      "execution_count": null,
      "outputs": [
        {
          "output_type": "stream",
          "name": "stdout",
          "text": [
            "243\n"
          ]
        }
      ]
    },
    {
      "cell_type": "code",
      "source": [
        "print(-8/-4)"
      ],
      "metadata": {
        "colab": {
          "base_uri": "https://localhost:8080/"
        },
        "id": "N_vnb6oaYjSh",
        "outputId": "114c6c5f-36ad-4e09-ec48-72c05c64168f"
      },
      "execution_count": null,
      "outputs": [
        {
          "output_type": "stream",
          "name": "stdout",
          "text": [
            "2.0\n"
          ]
        }
      ]
    },
    {
      "cell_type": "code",
      "source": [
        "2 == 2.0"
      ],
      "metadata": {
        "colab": {
          "base_uri": "https://localhost:8080/"
        },
        "id": "2pCu_T4uYpDs",
        "outputId": "477cc1fa-a027-4c3b-9b20-71e29bb90bd0"
      },
      "execution_count": null,
      "outputs": [
        {
          "output_type": "execute_result",
          "data": {
            "text/plain": [
              "True"
            ]
          },
          "metadata": {},
          "execution_count": 12
        }
      ]
    },
    {
      "cell_type": "markdown",
      "source": [
        "5. Представьте, что у вас есть три переменные: x=0.1, y=0.2, z=0.3. Напишите программу, которая складывает эти три числа и печатает результат."
      ],
      "metadata": {
        "id": "-nTJ9UUOYh3p"
      }
    },
    {
      "cell_type": "markdown",
      "source": [
        "Допустим, что эти три слагаемых представляют количество центов в евро, т.е. 0.1 - это 10 евроцентов, 0.2 - это 20 евро центов. Посмотрите на сумму слагаемых. Не смущает ли вас результат? В чем именно непорядок? Каким типом данных можно представить деньги в Пайтоне, чтобы избежать наблюдаемую проблему?"
      ],
      "metadata": {
        "id": "z-pHBTcAYkbm"
      }
    },
    {
      "cell_type": "code",
      "source": [
        "x = 0.1\n",
        "y = 0.2\n",
        "z = 0.3\n",
        "print(x+y+z)"
      ],
      "metadata": {
        "id": "n8u2OvEDYoNd",
        "colab": {
          "base_uri": "https://localhost:8080/"
        },
        "outputId": "6cd654e0-e6ed-4deb-b7ff-d47b9b8b27c1"
      },
      "execution_count": null,
      "outputs": [
        {
          "output_type": "stream",
          "name": "stdout",
          "text": [
            "0.6000000000000001\n"
          ]
        }
      ]
    },
    {
      "cell_type": "code",
      "source": [
        "print(round(x+y+z, 1))"
      ],
      "metadata": {
        "colab": {
          "base_uri": "https://localhost:8080/"
        },
        "id": "vFFepvbNYiVr",
        "outputId": "9b69fdb4-dba7-43c3-eea5-0f70eaafd309"
      },
      "execution_count": null,
      "outputs": [
        {
          "output_type": "stream",
          "name": "stdout",
          "text": [
            "0.6\n"
          ]
        }
      ]
    },
    {
      "cell_type": "markdown",
      "source": [
        "\n",
        "6. Сейчас на часах 9 часов 45 минут утра. Напишите программу, которая считает количество секунд, прошедшее с полуночи.\n"
      ],
      "metadata": {
        "id": "ix03M5JzYoXj"
      }
    },
    {
      "cell_type": "code",
      "source": [
        "print(9*3600+45*60)"
      ],
      "metadata": {
        "id": "1su2zzc_dx5n",
        "colab": {
          "base_uri": "https://localhost:8080/"
        },
        "outputId": "bfcd1cd4-9107-4465-ecd8-a151ce0680a6"
      },
      "execution_count": null,
      "outputs": [
        {
          "output_type": "stream",
          "name": "stdout",
          "text": [
            "35100\n"
          ]
        }
      ]
    },
    {
      "cell_type": "markdown",
      "source": [
        "7. А если сейчас 10 часов 3 минуты утра, как изменится программа?\n"
      ],
      "metadata": {
        "id": "nMhsN-lHdyR4"
      }
    },
    {
      "cell_type": "code",
      "source": [
        "print(10*3600+3*60)"
      ],
      "metadata": {
        "id": "ubH-XZDWd3SY",
        "colab": {
          "base_uri": "https://localhost:8080/"
        },
        "outputId": "564499f5-b372-444c-b2c6-de205316743d"
      },
      "execution_count": null,
      "outputs": [
        {
          "output_type": "stream",
          "name": "stdout",
          "text": [
            "36180\n"
          ]
        }
      ]
    },
    {
      "cell_type": "markdown",
      "source": [
        "8. А если любое другое время в течение дня, как изменится программа?\n"
      ],
      "metadata": {
        "id": "rHZEytEod3hY"
      }
    },
    {
      "cell_type": "code",
      "source": [
        "hour = int(input()) #\n",
        "min = int(input())\n",
        "print(hour*3600+min*60)"
      ],
      "metadata": {
        "colab": {
          "base_uri": "https://localhost:8080/"
        },
        "id": "PKBVxTg7nmFK",
        "outputId": "62b4c2bc-f5e4-4ffa-ebf0-a885979dad2c"
      },
      "execution_count": null,
      "outputs": [
        {
          "output_type": "stream",
          "name": "stdout",
          "text": [
            "6\n",
            "7\n",
            "22020\n"
          ]
        }
      ]
    },
    {
      "cell_type": "markdown",
      "source": [
        "9.\n",
        "Выделите строки, которые одинаковы в решениях задачи 6, 7 и 8 и строки, которые отличаются. В дальнейшем вы узнаете, что писать одинаковый код - плохая практика. Повторяющийся код обычно выносят в функции, а когда надо этот код запустить - вызывают функцию по имени. Чтобы функция произвела вычисления, ей указывают параметры, то есть значения с которыми она работает (входные параметры). А чтобы узнать результат работы функции, она возвращает значение. С функциями вы уже сталкивались, например, функция pow(2, 3), где 2 и 3 - входные параметры, а возвращает она 8 (2*2*2).\n"
      ],
      "metadata": {
        "id": "7HSZIH_unmRE"
      }
    },
    {
      "cell_type": "code",
      "source": [],
      "metadata": {
        "id": "nWfNPoExnqi4"
      },
      "execution_count": null,
      "outputs": []
    },
    {
      "cell_type": "markdown",
      "source": [
        "10. Дан прямоугольный треугольник с катетами 3 и 4 метра. Напишите программу, которая считает длину гипотенузы.\n"
      ],
      "metadata": {
        "id": "jb91sa2OnquD"
      }
    },
    {
      "cell_type": "code",
      "source": [
        "\n",
        "a = 3\n",
        "b = 4\n",
        "print(a**2+b**2)"
      ],
      "metadata": {
        "id": "Sje_0Orpnuiv"
      },
      "execution_count": null,
      "outputs": []
    },
    {
      "cell_type": "markdown",
      "source": [
        "11. Дан прямоугольный треугольник с катетами 3 и 4 метра. Напишите программу, которая считает длину гипотенузы.\n"
      ],
      "metadata": {
        "id": "pkm-uFGinuqG"
      }
    },
    {
      "cell_type": "code",
      "source": [
        "print('Введите катеты')\n",
        "a = float(input())\n",
        "b = float(input())\n",
        "print(a**2+b**2)"
      ],
      "metadata": {
        "id": "kTlQ6dArnxz5"
      },
      "execution_count": null,
      "outputs": []
    },
    {
      "cell_type": "markdown",
      "source": [
        "11. Поменяйте размеры катетов в задаче 10. Выведите результат с точностью до двух знаков после запятой.\n"
      ],
      "metadata": {
        "id": "oseUwlMrnx8G"
      }
    },
    {
      "cell_type": "code",
      "source": [
        "print('Введите катеты')\n",
        "a = float(input())\n",
        "b = float(input())\n",
        "print(round(a**2+b**2,2))"
      ],
      "metadata": {
        "id": "V1-7TYEcnzEI"
      },
      "execution_count": null,
      "outputs": []
    },
    {
      "cell_type": "markdown",
      "source": [
        "12. Посчитайте в уме результат выражения 10+3*(7-3)/2. Напишите программу, которая вычислит значение выражение. Проверьте себя."
      ],
      "metadata": {
        "id": "qzp29CyIoZFV"
      }
    },
    {
      "cell_type": "code",
      "source": [
        "print(10+3*(7-3)/2)"
      ],
      "metadata": {
        "id": "-sVKtNXeoeP9"
      },
      "execution_count": null,
      "outputs": []
    },
    {
      "cell_type": "markdown",
      "source": [
        "13.  В программе вводится значение числа и сохраняется через переменную d. Необходимо продолжить эту программу. Вычислите модуль числа d и выведите результат (модуль) в консоль с помощью функции print."
      ],
      "metadata": {
        "id": "Jc1nozZdpSep"
      }
    },
    {
      "cell_type": "code",
      "source": [
        "d = int(input())\n",
        "print(abs(d))"
      ],
      "metadata": {
        "id": "w1lbXfjepSqq"
      },
      "execution_count": null,
      "outputs": []
    },
    {
      "cell_type": "markdown",
      "source": [
        "14. Напишите текст программы для нахождения минимального значения из пяти введенных целых чисел с выводом результата в консоль (минимального значения) с помощью функции print."
      ],
      "metadata": {
        "id": "gQ-K9JGepS75"
      }
    },
    {
      "cell_type": "code",
      "source": [
        "a = int(input())\n",
        "b = int(input())\n",
        "c = int(input())\n",
        "d = int(input())\n",
        "e = int(input())\n",
        "print(min(a,b,c,d,e))"
      ],
      "metadata": {
        "id": "qgGV-5xRpTLB"
      },
      "execution_count": null,
      "outputs": []
    },
    {
      "cell_type": "markdown",
      "source": [
        "15. Напишите текст программы для нахождения максимальных значений из пяти введенных целых чисел с выводом результата (максимального значения) в консоль с помощью функции print."
      ],
      "metadata": {
        "id": "aGKYFmTXpTVO"
      }
    },
    {
      "cell_type": "code",
      "source": [
        "a = int(input())\n",
        "b = int(input())\n",
        "c = int(input())\n",
        "d = int(input())\n",
        "e = int(input())\n",
        "print(max(a,b,c,d,e))"
      ],
      "metadata": {
        "id": "1p2LU2k1pThW"
      },
      "execution_count": null,
      "outputs": []
    },
    {
      "cell_type": "markdown",
      "source": [
        "# Дополнительно"
      ],
      "metadata": {
        "id": "0Gpggyzb5C_e"
      }
    },
    {
      "cell_type": "markdown",
      "source": [
        "**1.** Вычислите 10!. Выведите на экран вычисленное значение.\n",
        "\n",
        "Пояснение\n",
        "\n",
        " n!= 1\\*2*3.....n\n",
        "\n",
        "В данной задаче нужно просто перемножить значения от 1 до 10 (без использования специальных операторов)"
      ],
      "metadata": {
        "id": "E-FyesCLEiAF"
      }
    },
    {
      "cell_type": "code",
      "source": [
        "print(1*2*3*4*5)"
      ],
      "metadata": {
        "id": "JIu3g4Ar-LnV",
        "outputId": "6aa88c5f-c275-4162-dbb4-efee60be2e9c",
        "colab": {
          "base_uri": "https://localhost:8080/"
        }
      },
      "execution_count": null,
      "outputs": [
        {
          "output_type": "stream",
          "name": "stdout",
          "text": [
            "120\n"
          ]
        }
      ]
    },
    {
      "cell_type": "code",
      "execution_count": null,
      "metadata": {
        "id": "GDKyjGn0Eerd",
        "colab": {
          "base_uri": "https://localhost:8080/"
        },
        "outputId": "21ab0fdd-6707-4f8e-a37e-c24e8e641f34"
      },
      "outputs": [
        {
          "output_type": "stream",
          "name": "stdout",
          "text": [
            "3628800\n"
          ]
        }
      ],
      "source": [
        "print(1*2*3*4*5*6*7*8*9*10)"
      ]
    },
    {
      "cell_type": "markdown",
      "source": [
        "**2.** Для подготовки к экзамену Рон каждый день учит x заклинаний, а Гермиона на y заклинаний больше. Сколько заклинаний они выучат вместе через n дней.\n",
        "\n",
        "В первой строке вводится x – количество заклинаний, которые учит Рон.\n",
        "\n",
        "Во второй строке y – на сколько заклинаний больше учит Гермиона.\n",
        "\n",
        "Тест\n",
        "\n",
        "5\n",
        "\n",
        "12\n",
        "\n",
        "10\n",
        "\n",
        "Ответ\n",
        "\n",
        "220"
      ],
      "metadata": {
        "id": "Ry6-Ff69EjWl"
      }
    },
    {
      "cell_type": "code",
      "source": [
        "ron = int(input())\n",
        "g = int(input())\n",
        "n = int(input())\n",
        "print( n*(ron +(ron +g)))"
      ],
      "metadata": {
        "id": "38LeUGOjEjo0",
        "colab": {
          "base_uri": "https://localhost:8080/"
        },
        "outputId": "128533c8-c6f7-40c2-ca5b-558ab97ec8fe"
      },
      "execution_count": null,
      "outputs": [
        {
          "output_type": "stream",
          "name": "stdout",
          "text": [
            "5\n",
            "12\n",
            "10\n",
            "220\n"
          ]
        }
      ]
    },
    {
      "cell_type": "markdown",
      "source": [
        "**3.** На вход программе подаются два целых числа a и b. Напишите программу, которая выводит:\n",
        "\n",
        "- сумму чисел a и b;\n",
        "- разность чисел a и b;\n",
        "- произведение чисел a и b;\n",
        "- частное чисел a и b;\n",
        "- целую часть от деления числа a на b;\n",
        "- остаток от деления числа a на b;\n",
        "- корень квадратный из b.\n",
        "\n",
        "Формат входных данных\n",
        "\n",
        "На вход программе подаются два целых числа a и b, каждое на отдельной строке.\n",
        "\n",
        "Формат выходных данных\n",
        "Программа должна вывести результаты математических операций в соответствии с условием задачи."
      ],
      "metadata": {
        "id": "Q3HTQ8LNEj3D"
      }
    },
    {
      "cell_type": "code",
      "source": [
        "a = int(input())\n",
        "b = int(input())\n",
        "print(a+b)\n",
        "print(a-b)\n",
        "print(a*b)\n",
        "print(a/b)\n",
        "print(a//b)\n",
        "print(a%b)\n",
        "print(a**0.5)"
      ],
      "metadata": {
        "id": "XCCY81ESEkBx",
        "colab": {
          "base_uri": "https://localhost:8080/"
        },
        "outputId": "b5349826-ba1d-42f7-cdd9-80d4dfdae2f5"
      },
      "execution_count": null,
      "outputs": [
        {
          "output_type": "stream",
          "name": "stdout",
          "text": [
            "2\n",
            "6\n",
            "8\n",
            "-4\n",
            "12\n",
            "0.3333333333333333\n",
            "0\n",
            "2\n",
            "1.4142135623730951\n"
          ]
        }
      ]
    },
    {
      "cell_type": "code",
      "source": [
        "a = int(input())\n",
        "b = int(input())\n",
        "print(a+b)\n",
        "print(a-b)\n",
        "print(a*b)\n",
        "print(a/b)\n",
        "print(a//b)\n",
        "print(a%b)\n",
        "import math\n",
        "print(math.sqrt(a))"
      ],
      "metadata": {
        "colab": {
          "base_uri": "https://localhost:8080/"
        },
        "id": "hMWm-2KSXGHn",
        "outputId": "476eff3f-c28b-4c4c-c62b-cb94b7ceb930"
      },
      "execution_count": null,
      "outputs": [
        {
          "output_type": "stream",
          "name": "stdout",
          "text": [
            "5\n",
            "6\n",
            "11\n",
            "-1\n",
            "30\n",
            "0.8333333333333334\n",
            "0\n",
            "5\n",
            "2.23606797749979\n"
          ]
        }
      ]
    },
    {
      "cell_type": "code",
      "source": [
        "a = int(input())\n",
        "b = int(input())\n",
        "print(a+b)\n",
        "print(a-b)\n",
        "print(a*b)\n",
        "print(a/b)\n",
        "print(a//b)\n",
        "print(a%b)\n",
        "from math import sqrt\n",
        "print(sqrt(a))"
      ],
      "metadata": {
        "colab": {
          "base_uri": "https://localhost:8080/"
        },
        "id": "-YPF5MpGXQGu",
        "outputId": "ace184ce-87d9-4254-cf88-1d030bb7f07a"
      },
      "execution_count": null,
      "outputs": [
        {
          "output_type": "stream",
          "name": "stdout",
          "text": [
            "5\n",
            "86\n",
            "91\n",
            "-81\n",
            "430\n",
            "0.05813953488372093\n",
            "0\n",
            "5\n",
            "2.23606797749979\n"
          ]
        }
      ]
    },
    {
      "cell_type": "code",
      "source": [
        "a = int(input())\n",
        "b = int(input())\n",
        "print(a+b)\n",
        "print(a-b)\n",
        "print(a*b)\n",
        "print(a/b)\n",
        "print(a//b)\n",
        "print(a%b)\n",
        "from math import *\n",
        "print(sqrt(a))"
      ],
      "metadata": {
        "colab": {
          "base_uri": "https://localhost:8080/"
        },
        "id": "esDxJ3moXbF-",
        "outputId": "eef8f52b-9369-4891-ef09-e990ba56155b"
      },
      "execution_count": null,
      "outputs": [
        {
          "output_type": "stream",
          "name": "stdout",
          "text": [
            "55\n",
            "857\n",
            "912\n",
            "-802\n",
            "47135\n",
            "0.06417736289381563\n",
            "0\n",
            "55\n",
            "7.416198487095663\n"
          ]
        }
      ]
    },
    {
      "cell_type": "markdown",
      "source": [
        "**4.** Посчитать среднее арифметическое 4 элементов типа float"
      ],
      "metadata": {
        "id": "2XmQYcMNEkPK"
      }
    },
    {
      "cell_type": "code",
      "source": [
        "a = float(input())\n",
        "b = float(input())\n",
        "c = float(input())\n",
        "d = float(input())\n",
        "print((a+b+c+d)/4)"
      ],
      "metadata": {
        "id": "ApkePPSvEkfs",
        "colab": {
          "base_uri": "https://localhost:8080/"
        },
        "outputId": "c77b7523-4c7c-4dc0-a1c1-b86aa5878162"
      },
      "execution_count": null,
      "outputs": [
        {
          "output_type": "stream",
          "name": "stdout",
          "text": [
            "5\n",
            "4\n",
            "5\n",
            "7\n",
            "5.25\n"
          ]
        }
      ]
    },
    {
      "cell_type": "code",
      "source": [
        "a, b, c, d = float(input()), float(input()), float(input()), float(input())\n",
        "print((a+b+c+d)/4)"
      ],
      "metadata": {
        "id": "fXJuhbE3YLym"
      },
      "execution_count": null,
      "outputs": []
    },
    {
      "cell_type": "markdown",
      "source": [
        "**5.** Запишите букву 'A' (латинскую, заглавную) 100 раз подряд. Сдайте на проверку программу, которая выводит эту строчку(только буквы, без кавычек).\n",
        "\n",
        "Пояснение. Посмотрите как работают операторы + и * в строках\n",
        "\n",
        "str1 = 'Hello'\n",
        "\n",
        "str2 ='World!'\n",
        "\n",
        "#+\n",
        "print('str1 + str2 = ', str1 + str2)\n",
        "\n",
        "# *\n",
        "print('str1 * 3 =', str1 * 3)"
      ],
      "metadata": {
        "id": "9p1DcT3jI8a0"
      }
    },
    {
      "cell_type": "code",
      "source": [
        "print('A'*100)"
      ],
      "metadata": {
        "id": "KExkfVU9JEdb",
        "colab": {
          "base_uri": "https://localhost:8080/"
        },
        "outputId": "5bcb3d59-8559-4769-a587-0d50ba61217c"
      },
      "execution_count": null,
      "outputs": [
        {
          "output_type": "stream",
          "name": "stdout",
          "text": [
            "AAAAAAAAAAAAAAAAAAAAAAAAAAAAAAAAAAAAAAAAAAAAAAAAAAAAAAAAAAAAAAAAAAAAAAAAAAAAAAAAAAAAAAAAAAAAAAAAAAAA\n"
          ]
        }
      ]
    },
    {
      "cell_type": "markdown",
      "source": [
        "**6.** На вход поступает целое число.\n",
        "\n",
        "Программа должна вывести True, если введенное значение является положительным числом, в противном случае - False.\n",
        "\n",
        "Сделать задачу необходимо без использования условного оператора."
      ],
      "metadata": {
        "id": "DGrFhMnYJEmK"
      }
    },
    {
      "cell_type": "code",
      "source": [
        "n = int(input())\n",
        "print(n>0)"
      ],
      "metadata": {
        "id": "1PirZb09JIIj",
        "colab": {
          "base_uri": "https://localhost:8080/"
        },
        "outputId": "dfada582-574b-44bc-f92f-445602cf83e6"
      },
      "execution_count": null,
      "outputs": [
        {
          "output_type": "stream",
          "name": "stdout",
          "text": [
            "-9\n",
            "False\n"
          ]
        }
      ]
    },
    {
      "cell_type": "markdown",
      "source": [
        "**7.** Дано натуральное число. Выведите его последнюю цифру."
      ],
      "metadata": {
        "id": "f4UxKrxtJIQz"
      }
    },
    {
      "cell_type": "code",
      "source": [
        "n = int(input('Введите число'))\n",
        "print(n%10)"
      ],
      "metadata": {
        "id": "exIQ3V2AJNZ6",
        "colab": {
          "base_uri": "https://localhost:8080/"
        },
        "outputId": "b66fa24a-2839-4ec9-b46f-58bebed10bfd"
      },
      "execution_count": null,
      "outputs": [
        {
          "output_type": "stream",
          "name": "stdout",
          "text": [
            "Введите число587\n",
            "7\n"
          ]
        }
      ]
    },
    {
      "cell_type": "markdown",
      "source": [
        "**8.** Вводится вещественное число и нам нужно его округлить до 2 и 3 разряда после запятой и вывести полученный результат через пробел в одной строчке. (Примечание используйте функцию round())\n",
        "\n"
      ],
      "metadata": {
        "id": "Cd325y-nJNi6"
      }
    },
    {
      "cell_type": "code",
      "source": [
        "n = float(input())\n",
        "print(round(n, 2), round(n, 3))"
      ],
      "metadata": {
        "id": "WL-eDjqOJuOc",
        "colab": {
          "base_uri": "https://localhost:8080/"
        },
        "outputId": "c1a2674d-349a-4133-f172-8c71c73ddf86"
      },
      "execution_count": null,
      "outputs": [
        {
          "output_type": "stream",
          "name": "stdout",
          "text": [
            "5.3258971\n",
            "5.33 5.326\n"
          ]
        }
      ]
    },
    {
      "cell_type": "code",
      "source": [
        "n = float(input())\n",
        "print(round(n, 2))\n",
        "print(round(n, 3))"
      ],
      "metadata": {
        "colab": {
          "base_uri": "https://localhost:8080/"
        },
        "id": "A81WX0mtcOrd",
        "outputId": "3161bf63-4ddf-47c1-c081-b8228528f6e3"
      },
      "execution_count": null,
      "outputs": [
        {
          "output_type": "stream",
          "name": "stdout",
          "text": [
            "8.44888486\n",
            "8.45\n",
            "8.449\n"
          ]
        }
      ]
    },
    {
      "cell_type": "markdown",
      "source": [
        "**9.** Дано трехзначное число. Найдите сумму его цифр."
      ],
      "metadata": {
        "id": "me6u6XjVJuXE"
      }
    },
    {
      "cell_type": "code",
      "source": [
        "n = int(input())\n",
        "n1 = n // 100\n",
        "n2 = (n //10 )%10\n",
        "n3 = n%10\n",
        "print(n1+ n2+ n3)\n",
        "\n"
      ],
      "metadata": {
        "id": "r-CNlPAIJ4IL",
        "colab": {
          "base_uri": "https://localhost:8080/"
        },
        "outputId": "bb33cc57-658d-4670-eadc-22a884608dbc"
      },
      "execution_count": null,
      "outputs": [
        {
          "output_type": "stream",
          "name": "stdout",
          "text": [
            "698\n",
            "23\n"
          ]
        }
      ]
    },
    {
      "cell_type": "markdown",
      "source": [
        "**10.** Напишите программу, которая выводит на экран текст «I\\*\\*\\*like***Python» (без кавычек).\n",
        "\n",
        "Примечание. Используйте необязательный параметр sep."
      ],
      "metadata": {
        "id": "Nc5mGRAEJ4R7"
      }
    },
    {
      "cell_type": "code",
      "source": [
        "print('I', 'like', 'Python')"
      ],
      "metadata": {
        "id": "Q11aYozoJ8HT"
      },
      "execution_count": null,
      "outputs": []
    },
    {
      "cell_type": "code",
      "source": [
        "print('I', 'like', 'Python', sep = '***')"
      ],
      "metadata": {
        "colab": {
          "base_uri": "https://localhost:8080/"
        },
        "id": "nXzIL8ShfIir",
        "outputId": "5d924047-b127-448d-fc80-818226832af4"
      },
      "execution_count": null,
      "outputs": [
        {
          "output_type": "stream",
          "name": "stdout",
          "text": [
            "I***like***Python\n"
          ]
        }
      ]
    },
    {
      "cell_type": "markdown",
      "source": [
        "**11.** Напишите программу, которая находит сумму, произведение и среднее арифметическое трёх целых чисел, введённых с клавиатуры.\n",
        "\n",
        "Входные данные\n",
        "\n",
        "Три целых числа вводятся c новой строчки.\n",
        "\n",
        "Выходные данные\n",
        "\n",
        "Программа должна вывести сумму, произведение и среднее арифметическое введенных чисел. Среднее арифметическое нужно вывести с точностью 3 знака после десятичной точки.\n",
        "\n",
        "<img src=\"https://github.com/trisha00001/file/blob/main/346.png?raw=true\">"
      ],
      "metadata": {
        "id": "O88wxZ-jJ8SL"
      }
    },
    {
      "cell_type": "code",
      "source": [
        "x = int(input())\n",
        "y = int(input())\n",
        "z = int(input())\n",
        "print(\"%d+%d+%d=%d\" % (x, y, z, (x+y+z)))\n",
        "print(\"%d*%d*%d=%d\" % (x, y, z, (x*y*z)))\n",
        "print(\"(%d+%d+%d)/3=%.3f\" % (x, y, z, (x+y+z)/3))"
      ],
      "metadata": {
        "colab": {
          "base_uri": "https://localhost:8080/"
        },
        "id": "oxX5AzUckJPp",
        "outputId": "39ef78b4-5189-4a7a-e2f1-dfe43babd67e"
      },
      "execution_count": null,
      "outputs": [
        {
          "output_type": "stream",
          "name": "stdout",
          "text": [
            "5\n",
            "7\n",
            "4\n",
            "5+7+4=16\n",
            "5*7*4=140\n",
            "(5+7+4)/3=5.333\n"
          ]
        }
      ]
    },
    {
      "cell_type": "code",
      "source": [
        "a = int(input())\n",
        "b = int(input())\n",
        "c = int(input())\n",
        "print(\"{}+{}+{}={}\".format(x, y, z, (x+y+z)))\n",
        "print(\"{}*{}*{}={}\".format(x, y, z, (x*y*z)))\n",
        "print(\"({}+{}+{})/3={:.3f}\".format(x, y, z, (x+y+z)/3))"
      ],
      "metadata": {
        "colab": {
          "base_uri": "https://localhost:8080/"
        },
        "id": "AF2Z8nEgkJcy",
        "outputId": "3d38e95c-b70e-4993-8a2e-25657a81a7e7"
      },
      "execution_count": null,
      "outputs": [
        {
          "output_type": "stream",
          "name": "stdout",
          "text": [
            "5\n",
            "4\n",
            "7\n",
            "5+7+4=16\n",
            "5*7*4=140\n",
            "(5+7+4)/3=5.333\n"
          ]
        }
      ]
    },
    {
      "cell_type": "code",
      "source": [
        "a = int(input())\n",
        "b = int(input())\n",
        "c = int(input())\n",
        "print(f'{a}+{b}+{c}={a+b+c}')\n",
        "print(f'{a}*{b}*{c}={a*b*c}')\n",
        "print(f'({a}+{b}+{c})/3={(a+b+c)/3:.3f}')"
      ],
      "metadata": {
        "id": "dkOu8-TBLv1c",
        "colab": {
          "base_uri": "https://localhost:8080/"
        },
        "outputId": "d2ef6e54-a124-4436-eafb-28424c574e7a"
      },
      "execution_count": null,
      "outputs": [
        {
          "output_type": "stream",
          "name": "stdout",
          "text": [
            "4\n",
            "5\n",
            "7\n",
            "4+5+7=16\n",
            "4*5*7=140\n",
            "(4+5+7)/3=5.333\n"
          ]
        }
      ]
    },
    {
      "cell_type": "markdown",
      "source": [
        "**12.** Напишите программу, которая считывает строку-разделитель и три строки, а затем выводит указанные строки через разделитель. Формат входных данных На вход программе подаётся строка-разделитель и три строки, каждая на отдельной строке. Формат выходных данных Программа должна вывести введённые три строки через разделитель.\n",
        "\n",
        "Примечание 1. Для считывания текста используйте команду input(), для печати текста на экране используйте команду print().\n",
        "\n",
        "Примечание 2. Используйте необязательный параметр sep.\n",
        "\n",
        "\n",
        "<img src=\"https://github.com/trisha00001/file/blob/main/3468.png?raw=true\">"
      ],
      "metadata": {
        "id": "de1fLCGBLwKL"
      }
    },
    {
      "cell_type": "code",
      "source": [],
      "metadata": {
        "id": "8rC5wiTlLy70"
      },
      "execution_count": null,
      "outputs": []
    },
    {
      "cell_type": "markdown",
      "source": [
        "**13.** Напишите программу, которая считывает слово, затем выводит:\n",
        "\n",
        "«Что Вы сказали? [это слово] ? Какое интересное слово».\n",
        "\n",
        "\n",
        "<img src=\"https://github.com/trisha00001/file/blob/main/3455.png?raw=true\">"
      ],
      "metadata": {
        "id": "7BuntQmpLxUs"
      }
    },
    {
      "cell_type": "code",
      "source": [],
      "metadata": {
        "id": "Jhly77NNL1VE"
      },
      "execution_count": null,
      "outputs": []
    },
    {
      "cell_type": "markdown",
      "source": [
        "**14.** Напишите программу, которая возводит введенное число в степень 10.\n",
        "\n",
        "Входные данные: входная строка содержит единственное вещественное число в диапазоне от 0 до 8.\n",
        "\n",
        "Выходные данные: следует вывести 10-ю степень полученного числа с тремя знаками в дробной части.\n",
        "\n",
        "<img src=\"https://github.com/trisha00001/file/blob/main/456.png?raw=true\">"
      ],
      "metadata": {
        "id": "fI8Ymq8iLzkb"
      }
    },
    {
      "cell_type": "code",
      "source": [],
      "metadata": {
        "id": "y-NTpspoL1yc"
      },
      "execution_count": null,
      "outputs": []
    },
    {
      "cell_type": "markdown",
      "source": [
        "**15.** Напишите программу, которая вычислит решение следующей задачи.\n",
        "\n",
        "Товар стоит a руб. b коп. За него заплатили c руб. d коп. Сколько сдачи требуется получить?\n",
        "\n",
        "Входные данные: вводятся 4 числа: a, b, c и d.\n",
        "Выходные данные:  необходимо вывести 2 числа: e и f, число рублей и копеек, соответственно. Формат вывода: \"Ваша сдача составляет e руб. f коп.\"\n",
        "Примечание: ввод и вывод данных производятся через стандартные потоки ввода-вывода.\n",
        "\n",
        "\n",
        "<img src=\"https://github.com/trisha00001/file/blob/main/5%D0%BA677.png?raw=true\">"
      ],
      "metadata": {
        "id": "fGYg-iiWL2JF"
      }
    },
    {
      "cell_type": "code",
      "source": [
        "print(\"\\\\\")"
      ],
      "metadata": {
        "id": "KPRsBQCCL5Gs",
        "colab": {
          "base_uri": "https://localhost:8080/"
        },
        "outputId": "449ee126-6685-4e2c-c305-d55e64b146a0"
      },
      "execution_count": null,
      "outputs": [
        {
          "output_type": "stream",
          "name": "stdout",
          "text": [
            "\\\n"
          ]
        }
      ]
    },
    {
      "cell_type": "code",
      "source": [
        "print(\"\"\"kij \\\\\n",
        " jj\"\"\")"
      ],
      "metadata": {
        "colab": {
          "base_uri": "https://localhost:8080/"
        },
        "id": "hIQhF_TtdXtb",
        "outputId": "770468ca-90ec-48f7-9299-1fe6546a49ec"
      },
      "execution_count": null,
      "outputs": [
        {
          "output_type": "stream",
          "name": "stdout",
          "text": [
            "kij \\\n",
            " jj\n"
          ]
        }
      ]
    },
    {
      "cell_type": "code",
      "source": [
        "print('I\\'m girl')"
      ],
      "metadata": {
        "colab": {
          "base_uri": "https://localhost:8080/"
        },
        "id": "pAL0EqcAdZ7L",
        "outputId": "5ff42061-391c-4951-e31b-8e78ff7f2974"
      },
      "execution_count": null,
      "outputs": [
        {
          "output_type": "stream",
          "name": "stdout",
          "text": [
            "I'm girl\n"
          ]
        }
      ]
    },
    {
      "cell_type": "code",
      "source": [
        "print(\"I'm girl\")"
      ],
      "metadata": {
        "colab": {
          "base_uri": "https://localhost:8080/"
        },
        "id": "_p0A_CuZdi1j",
        "outputId": "c818a8d5-7058-4fd6-a28f-642be3ac7cf5"
      },
      "execution_count": null,
      "outputs": [
        {
          "output_type": "stream",
          "name": "stdout",
          "text": [
            "I'm girl\n"
          ]
        }
      ]
    },
    {
      "cell_type": "code",
      "source": [
        "print(\"%15.5f\" % 5.1234567890)"
      ],
      "metadata": {
        "colab": {
          "base_uri": "https://localhost:8080/"
        },
        "id": "i9jw2Ickdnb0",
        "outputId": "cfc644e7-2649-4ec6-f115-6b09f55ab479"
      },
      "execution_count": null,
      "outputs": [
        {
          "output_type": "stream",
          "name": "stdout",
          "text": [
            "        5.12346\n"
          ]
        }
      ]
    },
    {
      "cell_type": "code",
      "source": [
        "print(\"%8.5f\" % 5.1234567890)"
      ],
      "metadata": {
        "colab": {
          "base_uri": "https://localhost:8080/"
        },
        "id": "TGcF3KytgjgZ",
        "outputId": "65b55809-6356-4832-9b10-9d4812d29b4b"
      },
      "execution_count": null,
      "outputs": [
        {
          "output_type": "stream",
          "name": "stdout",
          "text": [
            " 5.12346\n"
          ]
        }
      ]
    },
    {
      "cell_type": "code",
      "source": [
        "print(\"%8.2f\" % 5.1234567890)"
      ],
      "metadata": {
        "colab": {
          "base_uri": "https://localhost:8080/"
        },
        "id": "VP0qi49Vgl9Q",
        "outputId": "0d1dac8b-5f58-4b63-9318-0055b4fe8649"
      },
      "execution_count": null,
      "outputs": [
        {
          "output_type": "stream",
          "name": "stdout",
          "text": [
            "    5.12\n"
          ]
        }
      ]
    },
    {
      "cell_type": "code",
      "source": [
        "print(\"%3.5f\" % 5.1234567890)"
      ],
      "metadata": {
        "colab": {
          "base_uri": "https://localhost:8080/"
        },
        "id": "eDEIifeQgoGh",
        "outputId": "6a271ab0-b5ab-4fd4-f286-a33a844f7683"
      },
      "execution_count": null,
      "outputs": [
        {
          "output_type": "stream",
          "name": "stdout",
          "text": [
            "5.12346\n"
          ]
        }
      ]
    },
    {
      "cell_type": "code",
      "source": [
        "print(\"%.4f\" % 5.1234567890)"
      ],
      "metadata": {
        "colab": {
          "base_uri": "https://localhost:8080/"
        },
        "id": "9-Ze3W4jgqtD",
        "outputId": "58f83a5c-5198-4a95-fc11-9adafab7f9b2"
      },
      "execution_count": null,
      "outputs": [
        {
          "output_type": "stream",
          "name": "stdout",
          "text": [
            "5.1235\n"
          ]
        }
      ]
    },
    {
      "cell_type": "code",
      "source": [
        "print(\"%+9.4f\" % 5.1234567890)"
      ],
      "metadata": {
        "colab": {
          "base_uri": "https://localhost:8080/"
        },
        "id": "e6DLYs-1guFx",
        "outputId": "1d04547e-16d8-49ea-bb3d-33e14e1a9fd1"
      },
      "execution_count": null,
      "outputs": [
        {
          "output_type": "stream",
          "name": "stdout",
          "text": [
            "  +5.1235\n"
          ]
        }
      ]
    },
    {
      "cell_type": "code",
      "source": [
        "print(\"%+9.4f\" % -5.1234567890)"
      ],
      "metadata": {
        "colab": {
          "base_uri": "https://localhost:8080/"
        },
        "id": "RrgrdbJ1g7dp",
        "outputId": "eb8c84eb-3129-4ff5-ed29-3bcedfc473c1"
      },
      "execution_count": null,
      "outputs": [
        {
          "output_type": "stream",
          "name": "stdout",
          "text": [
            "  -5.1235\n"
          ]
        }
      ]
    },
    {
      "cell_type": "code",
      "source": [
        "print( \"{1}, {0} and {1} @\".format('John','Bill','Sean'))"
      ],
      "metadata": {
        "colab": {
          "base_uri": "https://localhost:8080/"
        },
        "id": "grXen74Kg8wx",
        "outputId": "9e98f05b-7afa-4883-b22a-2c6ebb638f17"
      },
      "execution_count": null,
      "outputs": [
        {
          "output_type": "stream",
          "name": "stdout",
          "text": [
            "Bill, John and Bill @\n"
          ]
        }
      ]
    },
    {
      "cell_type": "code",
      "source": [
        "print(\"Имена нашей команд {n3}, {n2} and {n1}\".format(n1='John',n2='Bill',n3='Sean'))"
      ],
      "metadata": {
        "colab": {
          "base_uri": "https://localhost:8080/"
        },
        "id": "k-u9tNDbhfHI",
        "outputId": "ad0462d7-0df4-4b73-fb90-a350018a87b2"
      },
      "execution_count": null,
      "outputs": [
        {
          "output_type": "stream",
          "name": "stdout",
          "text": [
            "Имена нашей команд Sean, Bill and John\n"
          ]
        }
      ]
    },
    {
      "cell_type": "code",
      "source": [],
      "metadata": {
        "id": "wVsRviuiiCsF"
      },
      "execution_count": null,
      "outputs": []
    }
  ]
}