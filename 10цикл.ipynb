{
  "cells": [
    {
      "cell_type": "markdown",
      "metadata": {
        "id": "l89xcVF-E51f"
      },
      "source": [
        "<a id='t4'></a>\n",
        "#  Циклы"
      ]
    },
    {
      "cell_type": "code",
      "execution_count": null,
      "metadata": {
        "id": "v6z_4tDhE51k",
        "outputId": "ed6d677a-be89-4285-f7f4-92edbc5605d2"
      },
      "outputs": [
        {
          "name": "stdout",
          "output_type": "stream",
          "text": [
            "1\n",
            "1\n",
            "1\n",
            "1\n",
            "1\n"
          ]
        }
      ],
      "source": [
        "print(1)\n",
        "print(1)\n",
        "print(1)\n",
        "print(1)\n",
        "print(1)"
      ]
    },
    {
      "cell_type": "markdown",
      "metadata": {
        "id": "OSwpQcw8E51m"
      },
      "source": [
        "![xkcd_python](https://cdn.programiz.com/sites/tutorial2program/files/forLoop.jpg)"
      ]
    },
    {
      "cell_type": "code",
      "execution_count": null,
      "metadata": {
        "id": "VXK8YIYeE51n",
        "outputId": "185a2a7c-edcd-4574-f1e2-15963025574c"
      },
      "outputs": [
        {
          "name": "stdout",
          "output_type": "stream",
          "text": [
            "1\n",
            "1\n",
            "1\n",
            "1\n",
            "1\n"
          ]
        }
      ],
      "source": [
        "for i in range(5):\n",
        "    print(1)\n",
        ""
      ]
    },
    {
      "cell_type": "code",
      "execution_count": null,
      "metadata": {
        "id": "CRscp6-GE51n",
        "outputId": "f2170a7a-4c45-4da3-f59d-5d114f05c196"
      },
      "outputs": [
        {
          "name": "stdout",
          "output_type": "stream",
          "text": [
            "1\n",
            "1\n",
            "1\n",
            "1\n",
            "1\n"
          ]
        }
      ],
      "source": [
        "i = 0\n",
        "while i < 5:\n",
        "    print(1)\n",
        "    i += 1 # i = i+1"
      ]
    },
    {
      "cell_type": "code",
      "execution_count": null,
      "metadata": {
        "id": "2JBHkDUEE51o",
        "outputId": "4fc14632-14af-4b39-901b-38d66e37593c"
      },
      "outputs": [
        {
          "name": "stdout",
          "output_type": "stream",
          "text": [
            "0\n",
            "1\n",
            "2\n",
            "3\n",
            "4\n",
            "все\n"
          ]
        }
      ],
      "source": [
        "for i in range(5):\n",
        "    print(i)\n",
        "print('все')"
      ]
    },
    {
      "cell_type": "code",
      "execution_count": null,
      "metadata": {
        "id": "PzL2WD7oE51o",
        "outputId": "758141e6-a925-4719-fde2-7c150c95fc09"
      },
      "outputs": [
        {
          "name": "stdout",
          "output_type": "stream",
          "text": [
            "1\n",
            "2\n",
            "3\n",
            "4\n"
          ]
        }
      ],
      "source": [
        "for i in range(1, 5):\n",
        "    print(i)"
      ]
    },
    {
      "cell_type": "code",
      "execution_count": null,
      "metadata": {
        "id": "-CzsM907E51p",
        "outputId": "6b778551-104d-4bf8-ee20-92c01eb7cb4c"
      },
      "outputs": [
        {
          "name": "stdout",
          "output_type": "stream",
          "text": [
            "1\n",
            "3\n",
            "5\n",
            "7\n",
            "9\n"
          ]
        }
      ],
      "source": [
        "for i in range(1, 10, 2):\n",
        "    print(i)"
      ]
    },
    {
      "cell_type": "code",
      "execution_count": null,
      "metadata": {
        "id": "CNTN6V32E51p"
      },
      "outputs": [],
      "source": [
        "s = 0\n",
        "for i in int(input()):\n",
        "    s+=int(i)\n",
        "print(s)"
      ]
    },
    {
      "cell_type": "code",
      "execution_count": null,
      "metadata": {
        "id": "fHO_cSYVE51p"
      },
      "outputs": [],
      "source": [
        "n = int(input())\n",
        "p = 1\n",
        "for i in range(1,n+1):\n",
        "    p=i*p\n",
        "print(p)"
      ]
    },
    {
      "cell_type": "code",
      "execution_count": null,
      "metadata": {
        "id": "Ojge-C_kE51q"
      },
      "outputs": [],
      "source": [
        "n = int(input())\n",
        "count = 0\n",
        "for i in range(1,n+1):\n",
        "    if i % 2 == 0:\n",
        "        count +=1\n",
        "print(count)"
      ]
    },
    {
      "cell_type": "code",
      "execution_count": null,
      "metadata": {
        "id": "EF-U6duhE51r"
      },
      "outputs": [],
      "source": []
    },
    {
      "cell_type": "code",
      "execution_count": null,
      "metadata": {
        "id": "wYR5OJiyE51r",
        "outputId": "d2a6f8e6-f6e0-4da6-a0ff-fd7f7a5fa715"
      },
      "outputs": [
        {
          "name": "stdout",
          "output_type": "stream",
          "text": [
            "0\n",
            "1\n",
            "2\n",
            "3\n",
            "4\n"
          ]
        }
      ],
      "source": [
        "i = 0\n",
        "while i < 5:\n",
        "    print(i)\n",
        "    i += 1\n",
        "# аналогично\n",
        "#for i in range(5):\n",
        "#    print(i)"
      ]
    },
    {
      "cell_type": "code",
      "execution_count": null,
      "metadata": {
        "id": "wnf7JdMcE51r",
        "outputId": "7f8dde02-d22f-4608-c5ef-b45e2f4ac2f6"
      },
      "outputs": [
        {
          "name": "stdout",
          "output_type": "stream",
          "text": [
            "1\n",
            "2\n",
            "3\n",
            "4\n"
          ]
        }
      ],
      "source": [
        "i = 1\n",
        "while i < 5:\n",
        "    print(i)\n",
        "    i += 1\n",
        "#for i in range(1,5):\n",
        "#    print(i)"
      ]
    },
    {
      "cell_type": "code",
      "execution_count": null,
      "metadata": {
        "id": "suzmHCurE51s",
        "outputId": "3acc40b1-8d1a-4c97-8187-bd032f364289"
      },
      "outputs": [
        {
          "name": "stdout",
          "output_type": "stream",
          "text": [
            "1\n",
            "3\n"
          ]
        }
      ],
      "source": [
        "i = 1\n",
        "while i < 5:\n",
        "    print(i)\n",
        "    i += 2\n",
        "# аналогично i = 1\n",
        "while i < 5:\n",
        "    print(i)\n",
        "    i += 1\n",
        "#for i in range(1,5, 2):\n",
        "#    print(i)"
      ]
    },
    {
      "cell_type": "code",
      "execution_count": null,
      "metadata": {
        "id": "h8CTY4xIE51s",
        "outputId": "6e66027e-b2b4-46cd-f17b-71ae3ba2bdf9"
      },
      "outputs": [
        {
          "name": "stdout",
          "output_type": "stream",
          "text": [
            "1\n",
            "2\n",
            "3\n",
            "4\n",
            "5\n"
          ]
        }
      ],
      "source": [
        "i = 1\n",
        "while i <= 5:\n",
        "    print(i)\n",
        "    i += 1"
      ]
    },
    {
      "cell_type": "markdown",
      "metadata": {
        "id": "TKn8hwR0E51s"
      },
      "source": [
        "break - немедленно выходит из цикла и безоговорочно завершает работу цикла; программа начинает выполнение инструкции, ближайшей после тела цикла;\n",
        "\n",
        "continue — ведет себя так, как будто программа внезапно достигла конца тела; начинается следующий ход, и немедленно проверяется выражение условия."
      ]
    },
    {
      "cell_type": "markdown",
      "metadata": {
        "id": "GPL3nQ6FE51s"
      },
      "source": [
        "Ввели а и b. Если в промежутке есть число оканчивающееся на 0\n",
        "пишем да\n",
        "иначе нет"
      ]
    },
    {
      "cell_type": "code",
      "execution_count": null,
      "metadata": {
        "id": "or9OLAuQE51s",
        "outputId": "3e7f651b-55ba-4a32-fa21-bee8379a5546"
      },
      "outputs": [
        {
          "name": "stdout",
          "output_type": "stream",
          "text": [
            "5\n",
            "100\n",
            "Да\n"
          ]
        }
      ],
      "source": [
        "a= int(input())\n",
        "b= int(input())\n",
        "for i in range(a, b+1):\n",
        "    if i % 10 == 0:\n",
        "        print('Да')\n",
        "        break\n",
        "else:\n",
        "    print(\"Нет\")\n"
      ]
    },
    {
      "cell_type": "code",
      "execution_count": null,
      "metadata": {
        "id": "Vv3UZfiJE51s",
        "outputId": "227125af-ea4f-4734-d480-bec3d9721684"
      },
      "outputs": [
        {
          "name": "stdout",
          "output_type": "stream",
          "text": [
            "1\n",
            "2\n",
            "3\n",
            "4\n",
            "else: 5\n"
          ]
        }
      ],
      "source": [
        "i = 1\n",
        "while i < 5:\n",
        "    print(i)\n",
        "    i += 1\n",
        "else:\n",
        "    print(\"else:\", i)\n"
      ]
    },
    {
      "cell_type": "code",
      "execution_count": null,
      "metadata": {
        "id": "5URF1ExaE51t",
        "outputId": "8c418109-09cb-4dcd-f29c-a08893c56339"
      },
      "outputs": [
        {
          "name": "stdout",
          "output_type": "stream",
          "text": [
            "0\n",
            "1\n",
            "2\n",
            "3\n",
            "4\n",
            "else: 4\n"
          ]
        }
      ],
      "source": [
        "for i in range(5):\n",
        "    print(i)\n",
        "else:\n",
        "    print(\"else:\", i)\n"
      ]
    },
    {
      "cell_type": "code",
      "execution_count": null,
      "metadata": {
        "id": "ZmVkbdJOE51t",
        "outputId": "c2a7b82b-44cc-4ff1-83f6-fd8502ca075f"
      },
      "outputs": [
        {
          "name": "stdout",
          "output_type": "stream",
          "text": [
            "1\n",
            "2\n",
            "выход\n"
          ]
        }
      ],
      "source": [
        "# break - example\n",
        "\n",
        "for i in range(1, 6):\n",
        "    if i == 3:\n",
        "        break\n",
        "    print( i)\n",
        "print(\"выход\")"
      ]
    },
    {
      "cell_type": "code",
      "execution_count": null,
      "metadata": {
        "id": "SxssxMFoE51t",
        "outputId": "bc2833f1-d580-40b0-8b24-6619dc26f74a"
      },
      "outputs": [
        {
          "name": "stdout",
          "output_type": "stream",
          "text": [
            "5\n",
            "4\n",
            "Yes\n"
          ]
        }
      ],
      "source": [
        "x = int(input())\n",
        "s = 0\n",
        "k = 0\n",
        "while x != 0:\n",
        "    if x % 2==0:\n",
        "        print('Yes')\n",
        "        break\n",
        "    x = int(input())"
      ]
    },
    {
      "cell_type": "code",
      "execution_count": null,
      "metadata": {
        "id": "4BR6gCFpE51t",
        "outputId": "8e06c9b3-6603-4f56-8de5-0c88e81ffa88"
      },
      "outputs": [
        {
          "name": "stdout",
          "output_type": "stream",
          "text": [
            "8\n",
            "Yes\n"
          ]
        }
      ],
      "source": [
        "x = int(input())\n",
        "while x != 0:\n",
        "    if x % 2==0:\n",
        "        print('Yes')\n",
        "        break\n",
        "    x = int(input())\n",
        "else:\n",
        "    print('No')"
      ]
    },
    {
      "cell_type": "code",
      "execution_count": null,
      "metadata": {
        "id": "Q-fXJoY3E51t",
        "outputId": "5e94a3ed-f9f1-4722-f6b1-edaee4d79a9e"
      },
      "outputs": [
        {
          "name": "stdout",
          "output_type": "stream",
          "text": [
            "1\n",
            "2\n",
            "4\n",
            "5\n",
            "выход\n"
          ]
        }
      ],
      "source": [
        "# continue - example\n",
        "\n",
        "\n",
        "for i in range(1, 6):\n",
        "    if i == 3:\n",
        "        continue\n",
        "    print( i)\n",
        "print(\"выход\")"
      ]
    },
    {
      "cell_type": "code",
      "execution_count": null,
      "metadata": {
        "id": "FJINhX9xE51t",
        "outputId": "b71eb4aa-848b-4b95-b07e-2876d2691262"
      },
      "outputs": [
        {
          "name": "stdout",
          "output_type": "stream",
          "text": [
            "Found 3, an odd number\n",
            "Found 5, an odd number\n",
            "Found 7, an odd number\n",
            "Found 9, an odd number\n"
          ]
        }
      ],
      "source": [
        "for num in range(2, 10):\n",
        "    if num % 2 == 0:\n",
        "        continue # this jumps us back to the top\n",
        "    print(f\"Found {num}, an odd number\")"
      ]
    },
    {
      "cell_type": "code",
      "execution_count": null,
      "metadata": {
        "id": "h58dsj-YE51u"
      },
      "outputs": [],
      "source": [
        "for i in range(5):\n",
        "    for j in range(5*i):\n",
        "        if j == 10:\n",
        "            print(j)\n",
        "            break\n",
        "    #break exits to here"
      ]
    },
    {
      "cell_type": "code",
      "execution_count": null,
      "metadata": {
        "id": "AyjZ129_E510",
        "outputId": "06eded02-7801-4e2e-bd9c-c2daf0da0c3c"
      },
      "outputs": [
        {
          "name": "stdout",
          "output_type": "stream",
          "text": [
            "0\n",
            "1\n",
            "2\n"
          ]
        }
      ],
      "source": [
        "for i  in range(5):\n",
        "    if i == 3:\n",
        "        break\n",
        "    print(i)"
      ]
    },
    {
      "cell_type": "code",
      "execution_count": null,
      "metadata": {
        "id": "U3USSxIhE510",
        "outputId": "cbab849a-28a9-4bb3-c223-9942e4794dc0"
      },
      "outputs": [
        {
          "name": "stdout",
          "output_type": "stream",
          "text": [
            "0\n",
            "1\n",
            "2\n",
            "3\n",
            "4\n",
            "not\n"
          ]
        }
      ],
      "source": [
        "for i  in range(5):\n",
        "    if i == 10:\n",
        "        break\n",
        "    print(i)\n",
        "else:\n",
        "    print(\"not\")\n",
        "\n",
        ""
      ]
    },
    {
      "cell_type": "code",
      "execution_count": null,
      "metadata": {
        "id": "cFJdqz_qE510",
        "outputId": "4bdca67b-a080-4632-ba97-9b0bb8c2f7d5"
      },
      "outputs": [
        {
          "name": "stdout",
          "output_type": "stream",
          "text": [
            "0\n",
            "1\n",
            "2\n",
            "4\n"
          ]
        }
      ],
      "source": [
        "for i  in range(5):\n",
        "    if i == 3:\n",
        "        continue\n",
        "    print(i)"
      ]
    },
    {
      "cell_type": "code",
      "execution_count": null,
      "metadata": {
        "id": "gIILO37qE510",
        "outputId": "bb8e50b1-de1a-429d-988e-f931bfaf9c09"
      },
      "outputs": [
        {
          "name": "stdout",
          "output_type": "stream",
          "text": [
            "m\n",
            "a\n",
            "h\n",
            "a\n"
          ]
        }
      ],
      "source": [
        "for i in \"masha\":\n",
        "    if i =='s':\n",
        "        continue\n",
        "    print(i)"
      ]
    }
  ],
  "metadata": {
    "kernelspec": {
      "display_name": "Python 3",
      "language": "python",
      "name": "python3"
    },
    "language_info": {
      "codemirror_mode": {
        "name": "ipython",
        "version": 3
      },
      "file_extension": ".py",
      "mimetype": "text/x-python",
      "name": "python",
      "nbconvert_exporter": "python",
      "pygments_lexer": "ipython3",
      "version": "3.8.3"
    },
    "colab": {
      "provenance": []
    }
  },
  "nbformat": 4,
  "nbformat_minor": 0
}