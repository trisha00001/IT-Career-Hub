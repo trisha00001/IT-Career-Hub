{
 "cells": [
  {
   "cell_type": "markdown",
   "id": "770e8856",
   "metadata": {},
   "source": [
    "## Логический тип данных и сравнения"
   ]
  },
  {
   "cell_type": "code",
   "execution_count": null,
   "id": "7c090a91",
   "metadata": {},
   "outputs": [],
   "source": [
    "x = True\n",
    "y = False\n",
    "print(x)  # Выводит True\n",
    "print(y)  # Выводит False\n"
   ]
  },
  {
   "cell_type": "code",
   "execution_count": 2,
   "id": "f5ce6fed",
   "metadata": {},
   "outputs": [
    {
     "name": "stdout",
     "output_type": "stream",
     "text": [
      "4\n"
     ]
    }
   ],
   "source": [
    "x = 5\n",
    "y = 10\n",
    "print(x == y)  # Выводит False\n",
    "print(x < y)  # Выводит True\n"
   ]
  },
  {
   "cell_type": "markdown",
   "id": "9176045a",
   "metadata": {},
   "source": [
    "# Базовые операции\n",
    "\n",
    "Для целого типа integers:\n",
    "`+ - * / // % **`\n",
    "\n",
    "для типа  floats:\n",
    "`+ - * / **`\n",
    "\n",
    "Boolean Логические:\n",
    "* слова: `True` и `False` (!обратите внимание на заглавную букву)\n",
    "* `==` равенство: `5 == 5` выдает `True`\n",
    "* `!=` не равно: `5 != 5` выдает `False`\n",
    "* `>` больше: `5 > 4` выдает `True`\n",
    "* `>=`меньше: `5 >= 5` дает `True`\n",
    "* Аналогично `<` и `<=`.\n",
    "\n",
    "Логические операции:\n",
    "* `and`, `or`, and `not`\n",
    "* `True and False`\n",
    "* `True or False`\n",
    "* `not True`"
   ]
  },
  {
   "cell_type": "markdown",
   "id": "f5456875",
   "metadata": {},
   "source": [
    "(8%2==0) Четность"
   ]
  },
  {
   "cell_type": "markdown",
   "id": "595de74a",
   "metadata": {},
   "source": [
    "Ключевое слово None используется для определения нулевого значения или отсутствия значения . None не то же самое, что 0, False или пустая строка. None — это собственный тип данных (NoneType), и только None может быть None."
   ]
  },
  {
   "cell_type": "code",
   "execution_count": null,
   "id": "0ee7d8e0",
   "metadata": {},
   "outputs": [],
   "source": [
    "x = None\n",
    "if x is None:\n",
    "    print(\"Переменная x не имеет значения\")\n"
   ]
  },
  {
   "cell_type": "markdown",
   "id": "03e2d3a9",
   "metadata": {},
   "source": [
    "# Управление памятью в Python"
   ]
  },
  {
   "cell_type": "markdown",
   "id": "462883ae",
   "metadata": {},
   "source": [
    "Управление памятью в Python — это процесс, в ходе которого компьютерная система резервирует часть или весь объём памяти для обработки и выполнения программ. Это позволяет прикладным программам считывать и записывать данные. Мы знаем, что объём памяти в компьютерной системе очень велик.\n",
    "\n",
    "\n",
    "Необходимо выделить некоторое свободное пространство в памяти и сделать его доступным для выполнения программы. Такой способ выделения (то есть предоставления) памяти для выполнения программы называется выделением памяти."
   ]
  },
  {
   "cell_type": "markdown",
   "id": "48dc65f3",
   "metadata": {},
   "source": [
    "Python автоматически управляет выделением и освобождением памяти во время выполнения программы. Нам не нужно выделять память при создании объектов или освобождать её при удалении объектов.\n",
    "\n",
    "Интерпретатор Python отвечает за динамическое выделение и освобождение памяти. Другими словами, интерпретатор Python управляет памятью."
   ]
  },
  {
   "cell_type": "code",
   "execution_count": null,
   "id": "ff7e60db",
   "metadata": {},
   "outputs": [],
   "source": [
    "x = 10"
   ]
  },
  {
   "cell_type": "markdown",
   "id": "687b8bdf",
   "metadata": {},
   "source": [
    "В Python всё считается объектом. Например, в Python объектами считаются числа, строки, функции, словари, списки, модули и пользовательские классы.\n",
    "Мы можем получить к ним доступ с помощью идентификатора. Менеджер памяти Python выделяет память для объектов в соответствии с требованиями. Он использует для управления памятью частное пространство кучи, недоступное программисту.\n",
    "\n",
    "Все объекты и структуры данных Python размещаются в этом пространстве кучи. Менеджер памяти с помощью функций Python API управляет этим частным пространством кучи для объектов Python.\n",
    "\n",
    "В Python также есть встроенный сборщик мусора, который перерабатывает всю неиспользуемую память, чтобы в памяти кучи было свободное место."
   ]
  },
  {
   "cell_type": "code",
   "execution_count": 1,
   "id": "710a916e",
   "metadata": {},
   "outputs": [
    {
     "name": "stdout",
     "output_type": "stream",
     "text": [
      "2823743171152\n"
     ]
    }
   ],
   "source": [
    "x = 10\n",
    "print(id(x))"
   ]
  },
  {
   "cell_type": "markdown",
   "id": "bbcca7e2",
   "metadata": {},
   "source": [
    "![xkcd_python](https://github.com/trisha00001/IT-Career-Hub/blob/main/image/python-memory-management.png?raw=true)"
   ]
  },
  {
   "cell_type": "markdown",
   "id": "d8dbf5c5",
   "metadata": {},
   "source": [
    "Предположим, что мы присваиваем новое значение 10 новой переменной y. Посмотрите на следующий фрагмент кода."
   ]
  },
  {
   "cell_type": "markdown",
   "id": "0c6c9833",
   "metadata": {},
   "source": [
    "Как вы можете видеть на выходе, обе ссылочные переменные x и y указывают на один и тот же целочисленный объект 10 из-за одинакового уникального идентификационного номера. "
   ]
  },
  {
   "cell_type": "code",
   "execution_count": null,
   "id": "759d6d5a",
   "metadata": {},
   "outputs": [],
   "source": [
    "x = 10\n",
    "print(id(x))\n",
    "y = 10\n",
    "print(id(y))"
   ]
  },
  {
   "cell_type": "markdown",
   "id": "0e139f93",
   "metadata": {},
   "source": [
    "![xkcd_python](https://github.com/trisha00001/IT-Career-Hub/blob/main/image/same-id-value.png?raw=true)"
   ]
  },
  {
   "cell_type": "markdown",
   "id": "29dd491e",
   "metadata": {},
   "source": [
    "Как вы можете видеть на выходе, обе ссылочные переменные x и y указывают на один и тот же целочисленный объект 10 из-за одинакового уникального идентификационного номера. "
   ]
  },
  {
   "cell_type": "markdown",
   "id": "b4cd9ccc",
   "metadata": {},
   "source": [
    "Теперь рассмотрим следующий пример кода ниже."
   ]
  },
  {
   "cell_type": "code",
   "execution_count": null,
   "id": "731529e9",
   "metadata": {},
   "outputs": [],
   "source": [
    "x = 10\n",
    "print(id(x))\n",
    "\n",
    "y = 10\n",
    "print(id(y))\n",
    "\n",
    "z = y\n",
    "print(id(z))"
   ]
  },
  {
   "cell_type": "markdown",
   "id": "0e084d72",
   "metadata": {},
   "source": [
    "Как видно из вывода, функция id() сгенерировала тот же идентификационный номер для целочисленного объекта 10. Следовательно, z также указывает на тот же объект.\n"
   ]
  },
  {
   "cell_type": "markdown",
   "id": "0b518d07",
   "metadata": {},
   "source": [
    "![xkcd_python](https://github.com/trisha00001/IT-Career-Hub/blob/main/image/memory-management-in-Python.png?raw=true)"
   ]
  },
  {
   "cell_type": "markdown",
   "id": "cbeb42fd",
   "metadata": {},
   "source": [
    "В этом примере функция id() генерирует уникальный идентификационный номер для объекта. Этот уникальный идентификационный номер представляет собой целочисленное значение, которое остаётся уникальным и постоянным для объекта Python в течение всего срока его существования, как показано на рисунке ниже. Идентификационный номер целочисленного объекта 10 равен 2823743171152"
   ]
  },
  {
   "cell_type": "markdown",
   "id": "c3355335",
   "metadata": {},
   "source": [
    "![xkcd_python](https://github.com/trisha00001/IT-Career-Hub/blob/main/image/referring-different-objects.png?raw=true)"
   ]
  },
  {
   "cell_type": "code",
   "execution_count": null,
   "id": "79d4c3e7",
   "metadata": {},
   "outputs": [],
   "source": [
    "x = 10\n",
    "print(id(x))\n",
    "y = 10\n",
    "print(id(y))\n",
    "\n",
    "z = y\n",
    "print(id(z))\n",
    "x = x + 1\n",
    "print(id(x))"
   ]
  },
  {
   "cell_type": "markdown",
   "id": "e06a7a35",
   "metadata": {},
   "source": [
    "Теперь, как вы можете видеть на выходе, функция id() сгенерировала другой идентификационный номер для этой операции x = x + 1. Следовательно, x не равно 11 и теперь относится к другому целочисленному объекту 11."
   ]
  },
  {
   "cell_type": "markdown",
   "id": "49511d3d",
   "metadata": {},
   "source": [
    "![xkcd_python](https://github.com/trisha00001/IT-Career-Hub/blob/main/image/03_01_02.gif?raw=true)"
   ]
  },
  {
   "cell_type": "markdown",
   "id": "d24a8078",
   "metadata": {},
   "source": [
    "Сборка мусора - технология, позволяющая, с одной стороны, упростить программирование, избавив программиста от необходимости вручную удалять объекты, созданные в динамической памяти, с другой - устранить ошибки, вызванные неправильным ручным управлением памятью.\n",
    "\n",
    "Алгоритм, используемый сборщиком мусора называется подсчетом ссылок. Python хранит журнал ссылок на каждый объект и автоматически уничтожает объект, как только на него больше нет ссылок."
   ]
  }
 ],
 "metadata": {
  "kernelspec": {
   "display_name": "Python 3 (ipykernel)",
   "language": "python",
   "name": "python3"
  },
  "language_info": {
   "codemirror_mode": {
    "name": "ipython",
    "version": 3
   },
   "file_extension": ".py",
   "mimetype": "text/x-python",
   "name": "python",
   "nbconvert_exporter": "python",
   "pygments_lexer": "ipython3",
   "version": "3.9.12"
  }
 },
 "nbformat": 4,
 "nbformat_minor": 5
}
